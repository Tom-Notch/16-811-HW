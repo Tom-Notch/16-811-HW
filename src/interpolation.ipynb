{
 "cells": [
  {
   "cell_type": "code",
   "execution_count": 1,
   "metadata": {},
   "outputs": [
    {
     "data": {
      "text/plain": [
       "'/home/tomnotch/Documents/MATLAB:/usr/local/MATLAB/R2024b/toolbox/matlab/addon_enable_disable_management/matlab:/usr/local/MATLAB/R2024b/toolbox/matlab/addon_updates/matlab:/usr/local/MATLAB/R2024b/toolbox/matlab/addons:/usr/local/MATLAB/R2024b/toolbox/matlab/addons/cef:/usr/local/MATLAB/R2024b/toolbox/matlab/addons/fileexchange:/usr/local/MATLAB/R2024b/toolbox/matlab/addons/supportpackages:/usr/local/MATLAB/R2024b/toolbox/matlab/addons_common/matlab:/usr/local/MATLAB/R2024b/toolbox/matlab/addons_desktop_registration:/usr/local/MATLAB/R2024b/toolbox/matlab/addons_install_location/matlab:/usr/local/MATLAB/R2024b/toolbox/matlab/addons_product:/usr/local/MATLAB/R2024b/toolbox/matlab/addons_product_support/matlab:/usr/local/MATLAB/R2024b/toolbox/matlab/addons_registry/matlab:/usr/local/MATLAB/R2024b/toolbox/matlab/addons_sidepanel/matlab:/usr/local/MATLAB/R2024b/toolbox/matlab/addressbar_plugins/browse_for_folder_button/matlab:/usr/local/MATLAB/R2024b/toolbox/matlab/addressbar_plugins/cd_up_one_dir_button/matlab:/usr/local/MATLAB/R2024b/toolbox/matlab/appcontainer:/usr/local/MATLAB/R2024b/toolbox/matlab/appdesigner/app_artifact_generator:/usr/local/MATLAB/R2024b/toolbox/matlab/appdesigner/appdesigner:/usr/local/MATLAB/R2024b/toolbox/matlab/appdesigner/appdesigner/interface:/usr/local/MATLAB/R2024b/toolbox/matlab/appdesigner/appdesigner/runtime:/usr/local/MATLAB/R2024b/toolbox/matlab/appdesigner/appdesigner_api:/usr/local/MATLAB/R2024b/toolbox/matlab/appdesigner/cache_service:/usr/local/MATLAB/R2024b/toolbox/matlab/appdesigner/comparisons/mldesktop_m:/usr/local/MATLAB/R2024b/toolbox/matlab/appdesigner/matlab_integration/cfb/cfb:/usr/local/MATLAB/R2024b/toolbox/matlab/apps:/usr/local/MATLAB/R2024b/toolbox/matlab/audiovideo:/usr/local/MATLAB/R2024b/toolbox/matlab/authnz/secretapis/common/utils:/usr/local/MATLAB/R2024b/toolbox/matlab/authnz/secretapis/privateBuiltins:/usr/local/MATLAB/R2024b/toolbox/matlab/authnz/secretapis/publicBuiltins:/usr/local/MATLAB/R2024b/toolbox/matlab/automation/core:/usr/local/MATLAB/R2024b/toolbox/matlab/bigdata:/usr/local/MATLAB/R2024b/toolbox/matlab/bluetooth:/usr/local/MATLAB/R2024b/toolbox/matlab/buildtool/core:/usr/local/MATLAB/R2024b/toolbox/matlab/buildtool/ext:/usr/local/MATLAB/R2024b/toolbox/matlab/buildtool/parallel:/usr/local/MATLAB/R2024b/toolbox/matlab/capabilities:/usr/local/MATLAB/R2024b/toolbox/matlab/cefclient:/usr/local/MATLAB/R2024b/toolbox/matlab/codeanalysis/analyzerrpt/backend:/usr/local/MATLAB/R2024b/toolbox/matlab/codeanalysis/reports/analysis:/usr/local/MATLAB/R2024b/toolbox/matlab/codeanalysis/tools:/usr/local/MATLAB/R2024b/toolbox/matlab/codetools:/usr/local/MATLAB/R2024b/toolbox/matlab/codetools/embeddedoutputs:/usr/local/MATLAB/R2024b/toolbox/matlab/codetools/embeddedoutputs/DataToolsRegistration:/usr/local/MATLAB/R2024b/toolbox/matlab/codetools/liveapps:/usr/local/MATLAB/R2024b/toolbox/matlab/commandhistory/component/web/commandhistory/js:/usr/local/MATLAB/R2024b/toolbox/matlab/commandwindow/js:/usr/local/MATLAB/R2024b/toolbox/matlab/commandwindow/matlab:/usr/local/MATLAB/R2024b/toolbox/matlab/configtools:/usr/local/MATLAB/R2024b/toolbox/matlab/connector2/binary:/usr/local/MATLAB/R2024b/toolbox/matlab/connector2/common:/usr/local/MATLAB/R2024b/toolbox/matlab/connector2/configuration:/usr/local/MATLAB/R2024b/toolbox/matlab/connector2/connector:/usr/local/MATLAB/R2024b/toolbox/matlab/connector2/editor:/usr/local/MATLAB/R2024b/toolbox/matlab/connector2/figures:/usr/local/MATLAB/R2024b/toolbox/matlab/connector2/http:/usr/local/MATLAB/R2024b/toolbox/matlab/connector2/interpreter:/usr/local/MATLAB/R2024b/toolbox/matlab/connector2/logger:/usr/local/MATLAB/R2024b/toolbox/matlab/connector2/messageservice:/usr/local/MATLAB/R2024b/toolbox/matlab/connector2/mgg:/usr/local/MATLAB/R2024b/toolbox/matlab/connector2/nativebridge:/usr/local/MATLAB/R2024b/toolbox/matlab/connector2/restmatlab:/usr/local/MATLAB/R2024b/toolbox/matlab/connector2/session:/usr/local/MATLAB/R2024b/toolbox/matlab/connector2/shadowfiles:/usr/local/MATLAB/R2024b/toolbox/matlab/connector2/webwindow/m:/usr/local/MATLAB/R2024b/toolbox/matlab/connector2/worker:/usr/local/MATLAB/R2024b/toolbox/matlab/container/zip:/usr/local/MATLAB/R2024b/toolbox/matlab/custom_package_repository_connection/matlab:/usr/local/MATLAB/R2024b/toolbox/matlab/datafun:/usr/local/MATLAB/R2024b/toolbox/matlab/datamanager:/usr/local/MATLAB/R2024b/toolbox/matlab/datastoreio:/usr/local/MATLAB/R2024b/toolbox/matlab/datatools/datatoolsservices/matlab:/usr/local/MATLAB/R2024b/toolbox/matlab/datatools/desktop_variableeditor/matlab:/usr/local/MATLAB/R2024b/toolbox/matlab/datatools/desktop_workspacebrowser/matlab:/usr/local/MATLAB/R2024b/toolbox/matlab/datatools/editorconverters/matlab:/usr/local/MATLAB/R2024b/toolbox/matlab/datatools/import_livetask:/usr/local/MATLAB/R2024b/toolbox/matlab/datatools/importtool/matlab/peer:/usr/local/MATLAB/R2024b/toolbox/matlab/datatools/importtool/matlab/server:/usr/local/MATLAB/R2024b/toolbox/matlab/datatools/inspector/editors/matlab:/usr/local/MATLAB/R2024b/toolbox/matlab/datatools/inspector/matlab:/usr/local/MATLAB/R2024b/toolbox/matlab/datatools/inspector/registration:/usr/local/MATLAB/R2024b/toolbox/matlab/datatools/matlab_integration/cfb/matlab:/usr/local/MATLAB/R2024b/toolbox/matlab/datatools/media_widgets/matlab:/usr/local/MATLAB/R2024b/toolbox/matlab/datatools/peermodel_mcos/matlab:/usr/local/MATLAB/R2024b/toolbox/matlab/datatools/plotstab/matlab:/usr/local/MATLAB/R2024b/toolbox/matlab/datatools/preprocessing:/usr/local/MATLAB/R2024b/toolbox/matlab/datatools/uicomponents/matlab:/usr/local/MATLAB/R2024b/toolbox/matlab/datatools/variableeditor/matlab:/usr/local/MATLAB/R2024b/toolbox/matlab/datatools/widgets/matlab:/usr/local/MATLAB/R2024b/toolbox/matlab/datatools/workspacebrowser/matlab:/usr/local/MATLAB/R2024b/toolbox/matlab/datatypes:/usr/local/MATLAB/R2024b/toolbox/matlab/datatypes/applyfuns:/usr/local/MATLAB/R2024b/toolbox/matlab/datatypes/calendarDuration:/usr/local/MATLAB/R2024b/toolbox/matlab/datatypes/categorical:/usr/local/MATLAB/R2024b/toolbox/matlab/datatypes/cell:/usr/local/MATLAB/R2024b/toolbox/matlab/datatypes/cell_nonlibmatlab:/usr/local/MATLAB/R2024b/toolbox/matlab/datatypes/codegen/categorical:/usr/local/MATLAB/R2024b/toolbox/matlab/datatypes/codegen/datetime:/usr/local/MATLAB/R2024b/toolbox/matlab/datatypes/codegen/duration:/usr/local/MATLAB/R2024b/toolbox/matlab/datatypes/codegen/tabular:/usr/local/MATLAB/R2024b/toolbox/matlab/datatypes/datetime:/usr/local/MATLAB/R2024b/toolbox/matlab/datatypes/datetime_nonlibmatlab:/usr/local/MATLAB/R2024b/toolbox/matlab/datatypes/dictionary:/usr/local/MATLAB/R2024b/toolbox/matlab/datatypes/duration:/usr/local/MATLAB/R2024b/toolbox/matlab/datatypes/missing:/usr/local/MATLAB/R2024b/toolbox/matlab/datatypes/shared/codegen:/usr/local/MATLAB/R2024b/toolbox/matlab/datatypes/shared/matlab_datatypes:/usr/local/MATLAB/R2024b/toolbox/matlab/datatypes/struct:/usr/local/MATLAB/R2024b/toolbox/matlab/datatypes/tabular:/usr/local/MATLAB/R2024b/toolbox/matlab/dataui:/usr/local/MATLAB/R2024b/toolbox/matlab/ddux:/usr/local/MATLAB/R2024b/toolbox/matlab/debugger:/usr/local/MATLAB/R2024b/toolbox/matlab/demos:/usr/local/MATLAB/R2024b/toolbox/matlab/dependency/analysis:/usr/local/MATLAB/R2024b/toolbox/matlab/dependency/app:/usr/local/MATLAB/R2024b/toolbox/matlab/dependency/attribute:/usr/local/MATLAB/R2024b/toolbox/matlab/dependency/comparisons/mldesktop/matlab:/usr/local/MATLAB/R2024b/toolbox/matlab/dependency/matlab:/usr/local/MATLAB/R2024b/toolbox/matlab/dependency/refactoring:/usr/local/MATLAB/R2024b/toolbox/matlab/dependency/report:/usr/local/MATLAB/R2024b/toolbox/matlab/dependency/widget/progress:/usr/local/MATLAB/R2024b/toolbox/matlab/dependency/widget/progress_web:/usr/local/MATLAB/R2024b/toolbox/matlab/dependency/widget/window:/usr/local/MATLAB/R2024b/toolbox/matlab/depfun:/usr/local/MATLAB/R2024b/toolbox/matlab/deployment/compiler/mi/mi:/usr/local/MATLAB/R2024b/toolbox/matlab/deployment/toolbox/mi/mi:/usr/local/MATLAB/R2024b/toolbox/matlab/editor/cfb_integration/editor_actions/matlab:/usr/local/MATLAB/R2024b/toolbox/matlab/editor/cfb_integration/editor_open_action/matlab:/usr/local/MATLAB/R2024b/toolbox/matlab/editor/cfb_integration/matlabcode_filename_validation/matlab:/usr/local/MATLAB/R2024b/toolbox/matlab/editor/cfb_integration/matlabcode_filepreview/matlab:/usr/local/MATLAB/R2024b/toolbox/matlab/editor/cfb_integration/matlabcode_filetype_icons/matlab:/usr/local/MATLAB/R2024b/toolbox/matlab/editor/cfb_integration/matlabcode_filetype_labels/matlab:/usr/local/MATLAB/R2024b/toolbox/matlab/editor/livecode/features/matlab:/usr/local/MATLAB/R2024b/toolbox/matlab/editor/plaincode/features/matlab:/usr/local/MATLAB/R2024b/toolbox/matlab/editor_addons/compare/matlab:/usr/local/MATLAB/R2024b/toolbox/matlab/editor_addons/fixedpoint_data/matlab:/usr/local/MATLAB/R2024b/toolbox/matlab/editor_addons/matlab_unit/matlab:/usr/local/MATLAB/R2024b/toolbox/matlab/editor_addons/matlabtest/matlab:/usr/local/MATLAB/R2024b/toolbox/matlab/editor_addons/system_object/matlab:/usr/local/MATLAB/R2024b/toolbox/matlab/elfun:/usr/local/MATLAB/R2024b/toolbox/matlab/elmat:/usr/local/MATLAB/R2024b/toolbox/matlab/embeddedoutputs/figureoutputs:/usr/local/MATLAB/R2024b/toolbox/matlab/embeddedoutputs/outputs:/usr/local/MATLAB/R2024b/toolbox/matlab/embeddedoutputs/outpututilities:/usr/local/MATLAB/R2024b/toolbox/matlab/embeddedoutputs/variableoutputs:/usr/local/MATLAB/R2024b/toolbox/matlab/external/engines/codegen/common:/usr/local/MATLAB/R2024b/toolbox/matlab/external/engines/codegen/cpp:/usr/local/MATLAB/R2024b/toolbox/matlab/external/engines/codegen/csharp:/usr/local/MATLAB/R2024b/toolbox/matlab/external/engines/engine_api:/usr/local/MATLAB/R2024b/toolbox/matlab/external/engines/rest:/usr/local/MATLAB/R2024b/toolbox/matlab/external/interfaces/cpp:/usr/local/MATLAB/R2024b/toolbox/matlab/external/interfaces/dotnet:/usr/local/MATLAB/R2024b/toolbox/matlab/external/interfaces/java/jmi:/usr/local/MATLAB/R2024b/toolbox/matlab/external/interfaces/json:/usr/local/MATLAB/R2024b/toolbox/matlab/external/interfaces/python:/usr/local/MATLAB/R2024b/toolbox/matlab/external/interfaces/webservices:/usr/local/MATLAB/R2024b/toolbox/matlab/external/interfaces/webservices/http:/usr/local/MATLAB/R2024b/toolbox/matlab/external/interfaces/webservices/restful:/usr/local/MATLAB/R2024b/toolbox/matlab/external/interfaces/webservices/wsdl:/usr/local/MATLAB/R2024b/toolbox/matlab/external/mex:/usr/local/MATLAB/R2024b/toolbox/matlab/file_chooser/service/matlab:/usr/local/MATLAB/R2024b/toolbox/matlab/filebrowser:/usr/local/MATLAB/R2024b/toolbox/matlab/filesystem/default_filetype_plugins/file_icon_plugin:/usr/local/MATLAB/R2024b/toolbox/matlab/filesystem/default_filetype_plugins/folder_icon_plugin:/usr/local/MATLAB/R2024b/toolbox/matlab/filesystem/default_filetype_plugins/folder_label_plugin:/usr/local/MATLAB/R2024b/toolbox/matlab/filesystem/default_filetype_plugins/folder_preview_plugin:/usr/local/MATLAB/R2024b/toolbox/matlab/filesystem/matlab_filetype_filters/filetypefilters:/usr/local/MATLAB/R2024b/toolbox/matlab/filesystem/onedrive_connection_type/matlab:/usr/local/MATLAB/R2024b/toolbox/matlab/filesystem/services/matlab:/usr/local/MATLAB/R2024b/toolbox/matlab/filesystem/ui/matlab:/usr/local/MATLAB/R2024b/toolbox/matlab/findfiles/m:/usr/local/MATLAB/R2024b/toolbox/matlab/funfun:/usr/local/MATLAB/R2024b/toolbox/matlab/funfun/examples:/usr/local/MATLAB/R2024b/toolbox/matlab/general:/usr/local/MATLAB/R2024b/toolbox/matlab/git:/usr/local/MATLAB/R2024b/toolbox/matlab/graphfun:/usr/local/MATLAB/R2024b/toolbox/matlab/graphfun/codegen:/usr/local/MATLAB/R2024b/toolbox/matlab/graphics/core/hg:/usr/local/MATLAB/R2024b/toolbox/matlab/graphics/figuredatatools/inspector:/usr/local/MATLAB/R2024b/toolbox/matlab/graphics/graphics:/usr/local/MATLAB/R2024b/toolbox/matlab/graphics/graphics/annotation:/usr/local/MATLAB/R2024b/toolbox/matlab/graphics/graphics/axis:/usr/local/MATLAB/R2024b/toolbox/matlab/graphics/graphics/chart:/usr/local/MATLAB/R2024b/toolbox/matlab/graphics/graphics/color:/usr/local/MATLAB/R2024b/toolbox/matlab/graphics/graphics/function:/usr/local/MATLAB/R2024b/toolbox/matlab/graphics/graphics/graph2d:/usr/local/MATLAB/R2024b/toolbox/matlab/graphics/graphics/graph3d:/usr/local/MATLAB/R2024b/toolbox/matlab/graphics/graphics/illustration:/usr/local/MATLAB/R2024b/toolbox/matlab/graphics/graphics/legacy:/usr/local/MATLAB/R2024b/toolbox/matlab/graphics/graphics/objectsystem:/usr/local/MATLAB/R2024b/toolbox/matlab/graphics/graphics/obsolete:/usr/local/MATLAB/R2024b/toolbox/matlab/graphics/graphics/plottools:/usr/local/MATLAB/R2024b/toolbox/matlab/graphics/graphics/primitive:/usr/local/MATLAB/R2024b/toolbox/matlab/graphics/graphics/printing:/usr/local/MATLAB/R2024b/toolbox/matlab/graphics/graphics/scribe:/usr/local/MATLAB/R2024b/toolbox/matlab/graphics/graphics/scribe/obsolete:/usr/local/MATLAB/R2024b/toolbox/matlab/graphics/graphics/specgraph:/usr/local/MATLAB/R2024b/toolbox/matlab/graphics/graphics/themes:/usr/local/MATLAB/R2024b/toolbox/matlab/graphics/maps:/usr/local/MATLAB/R2024b/toolbox/matlab/graphics/math:/usr/local/MATLAB/R2024b/toolbox/matlab/guide:/usr/local/MATLAB/R2024b/toolbox/matlab/hardware/shared/sensors:/usr/local/MATLAB/R2024b/toolbox/matlab/hardware/stubs:/usr/local/MATLAB/R2024b/toolbox/matlab/helptools:/usr/local/MATLAB/R2024b/toolbox/matlab/helptools/help_static_content_deferred_services:/usr/local/MATLAB/R2024b/toolbox/matlab/helptools_js/link_click_handling_docservice/m:/usr/local/MATLAB/R2024b/toolbox/matlab/helptools_js/matlab_colon_docservice/m:/usr/local/MATLAB/R2024b/toolbox/matlab/htmlviewer:/usr/local/MATLAB/R2024b/toolbox/matlab/icons:/usr/local/MATLAB/R2024b/toolbox/matlab/images:/usr/local/MATLAB/R2024b/toolbox/matlab/imagesci_utils:/usr/local/MATLAB/R2024b/toolbox/matlab/import_sci_livetasks:/usr/local/MATLAB/R2024b/toolbox/matlab/indentcode/m:/usr/local/MATLAB/R2024b/toolbox/matlab/indexing:/usr/local/MATLAB/R2024b/toolbox/matlab/io/archive:/usr/local/MATLAB/R2024b/toolbox/matlab/io/arrow:/usr/local/MATLAB/R2024b/toolbox/matlab/io/common:/usr/local/MATLAB/R2024b/toolbox/matlab/io/datastore/array:/usr/local/MATLAB/R2024b/toolbox/matlab/io/datastore/common:/usr/local/MATLAB/R2024b/toolbox/matlab/io/datastore/file:/usr/local/MATLAB/R2024b/toolbox/matlab/io/datastore/fileset:/usr/local/MATLAB/R2024b/toolbox/matlab/io/datastore/image:/usr/local/MATLAB/R2024b/toolbox/matlab/io/datastore/keyvalue:/usr/local/MATLAB/R2024b/toolbox/matlab/io/datastore/legacy:/usr/local/MATLAB/R2024b/toolbox/matlab/io/datastore/parquet:/usr/local/MATLAB/R2024b/toolbox/matlab/io/datastore/range:/usr/local/MATLAB/R2024b/toolbox/matlab/io/datastore/spreadsheet:/usr/local/MATLAB/R2024b/toolbox/matlab/io/datastore/tall:/usr/local/MATLAB/R2024b/toolbox/matlab/io/datastore/text:/usr/local/MATLAB/R2024b/toolbox/matlab/io/datastore/write:/usr/local/MATLAB/R2024b/toolbox/matlab/io/dictionary:/usr/local/MATLAB/R2024b/toolbox/matlab/io/filesystem:/usr/local/MATLAB/R2024b/toolbox/matlab/io/filter:/usr/local/MATLAB/R2024b/toolbox/matlab/io/ftp:/usr/local/MATLAB/R2024b/toolbox/matlab/io/functions:/usr/local/MATLAB/R2024b/toolbox/matlab/io/html:/usr/local/MATLAB/R2024b/toolbox/matlab/io/interface:/usr/local/MATLAB/R2024b/toolbox/matlab/io/json:/usr/local/MATLAB/R2024b/toolbox/matlab/io/legacy/spreadsheet/iofun:/usr/local/MATLAB/R2024b/toolbox/matlab/io/legacy/text/iofun:/usr/local/MATLAB/R2024b/toolbox/matlab/io/memmapfile/memmapfile:/usr/local/MATLAB/R2024b/toolbox/matlab/io/parquet:/usr/local/MATLAB/R2024b/toolbox/matlab/io/spreadsheet:/usr/local/MATLAB/R2024b/toolbox/matlab/io/struct:/usr/local/MATLAB/R2024b/toolbox/matlab/io/text:/usr/local/MATLAB/R2024b/toolbox/matlab/io/word:/usr/local/MATLAB/R2024b/toolbox/matlab/io/xml:/usr/local/MATLAB/R2024b/toolbox/matlab/iofun:/usr/local/MATLAB/R2024b/toolbox/matlab/iot:/usr/local/MATLAB/R2024b/toolbox/matlab/iot/connectivity:/usr/local/MATLAB/R2024b/toolbox/matlab/keyboard_shortcuts:/usr/local/MATLAB/R2024b/toolbox/matlab/lang:/usr/local/MATLAB/R2024b/toolbox/matlab/licensing:/usr/local/MATLAB/R2024b/toolbox/matlab/login/web/m:/usr/local/MATLAB/R2024b/toolbox/matlab/mapreduceio:/usr/local/MATLAB/R2024b/toolbox/matlab/maps:/usr/local/MATLAB/R2024b/toolbox/matlab/matfun:/usr/local/MATLAB/R2024b/toolbox/matlab/mathui:/usr/local/MATLAB/R2024b/toolbox/matlab/matlab_im:/usr/local/MATLAB/R2024b/toolbox/matlab/matlab_images/jpeg:/usr/local/MATLAB/R2024b/toolbox/matlab/matlab_images/png:/usr/local/MATLAB/R2024b/toolbox/matlab/matlab_images/tiff:/usr/local/MATLAB/R2024b/toolbox/matlab/matlab_preferences/matlab:/usr/local/MATLAB/R2024b/toolbox/matlab/matlab_sci/cdf:/usr/local/MATLAB/R2024b/toolbox/matlab/matlab_sci/fits:/usr/local/MATLAB/R2024b/toolbox/matlab/matlab_sci/hdf4:/usr/local/MATLAB/R2024b/toolbox/matlab/matlab_sci/hdf5:/usr/local/MATLAB/R2024b/toolbox/matlab/matlab_sci/netcdf:/usr/local/MATLAB/R2024b/toolbox/matlab/matlab_suggestion_models:/usr/local/MATLAB/R2024b/toolbox/matlab/mex:/usr/local/MATLAB/R2024b/toolbox/matlab/mobile:/usr/local/MATLAB/R2024b/toolbox/matlab/mpm:/usr/local/MATLAB/R2024b/toolbox/matlab/mvm:/usr/local/MATLAB/R2024b/toolbox/matlab/network:/usr/local/MATLAB/R2024b/toolbox/matlab/networklib/apps/tcpclientapp:/usr/local/MATLAB/R2024b/toolbox/matlab/networklib/interface:/usr/local/MATLAB/R2024b/toolbox/matlab/notifications/notifications_center_ui/matlab:/usr/local/MATLAB/R2024b/toolbox/matlab/object_serialization_customization:/usr/local/MATLAB/R2024b/toolbox/matlab/ops:/usr/local/MATLAB/R2024b/toolbox/matlab/optimfun/graphics:/usr/local/MATLAB/R2024b/toolbox/matlab/optimfun/gui:/usr/local/MATLAB/R2024b/toolbox/matlab/optimfun/optimfun:/usr/local/MATLAB/R2024b/toolbox/matlab/oss:/usr/local/MATLAB/R2024b/toolbox/matlab/parallel:/usr/local/MATLAB/R2024b/toolbox/matlab/pathtool:/usr/local/MATLAB/R2024b/toolbox/matlab/pathtool_sidepanel/matlab:/usr/local/MATLAB/R2024b/toolbox/matlab/polyfun:/usr/local/MATLAB/R2024b/toolbox/matlab/preferences/addonspanel:/usr/local/MATLAB/R2024b/toolbox/matlab/preferences/figurecopyprefspanel:/usr/local/MATLAB/R2024b/toolbox/matlab/preferences/fonts:/usr/local/MATLAB/R2024b/toolbox/matlab/preferences/variablesprefpanel/variablesprefpanel-ui:/usr/local/MATLAB/R2024b/toolbox/matlab/preferences/workspaceprefpanel/workspaceprefpanel-ui:/usr/local/MATLAB/R2024b/toolbox/matlab/profileviewer:/usr/local/MATLAB/R2024b/toolbox/matlab/project/api:/usr/local/MATLAB/R2024b/toolbox/matlab/project/cfbfileinfoplugin/matlab:/usr/local/MATLAB/R2024b/toolbox/matlab/project/comparison:/usr/local/MATLAB/R2024b/toolbox/matlab/project/comparisons/mldesktop/matlab:/usr/local/MATLAB/R2024b/toolbox/matlab/project/core:/usr/local/MATLAB/R2024b/toolbox/matlab/project/creation/fromarchive:/usr/local/MATLAB/R2024b/toolbox/matlab/project/creation/fromfile:/usr/local/MATLAB/R2024b/toolbox/matlab/project/customtasks:/usr/local/MATLAB/R2024b/toolbox/matlab/project/dependency:/usr/local/MATLAB/R2024b/toolbox/matlab/project/examplesetup:/usr/local/MATLAB/R2024b/toolbox/matlab/project/java:/usr/local/MATLAB/R2024b/toolbox/matlab/project/preferences:/usr/local/MATLAB/R2024b/toolbox/matlab/project/refactoring:/usr/local/MATLAB/R2024b/toolbox/matlab/project/unsavedchanges:/usr/local/MATLAB/R2024b/toolbox/matlab/project/upgrade:/usr/local/MATLAB/R2024b/toolbox/matlab/project/views/action_web/project-action-ui/matlab:/usr/local/MATLAB/R2024b/toolbox/matlab/project/views/customtasks:/usr/local/MATLAB/R2024b/toolbox/matlab/project/views/customtasks_web/matlab:/usr/local/MATLAB/R2024b/toolbox/matlab/project/views/file:/usr/local/MATLAB/R2024b/toolbox/matlab/project/views/unsavedchanges:/usr/local/MATLAB/R2024b/toolbox/matlab/project/views/upgrade:/usr/local/MATLAB/R2024b/toolbox/matlab/project/views/util:/usr/local/MATLAB/R2024b/toolbox/matlab/randfun:/usr/local/MATLAB/R2024b/toolbox/matlab/registration_framework/matlab:/usr/local/MATLAB/R2024b/toolbox/matlab/remotedata/hdfs:/usr/local/MATLAB/R2024b/toolbox/matlab/remotedata/s3:/usr/local/MATLAB/R2024b/toolbox/matlab/remotedata/wasb:/usr/local/MATLAB/R2024b/toolbox/matlab/reports:/usr/local/MATLAB/R2024b/toolbox/matlab/resources_folder:/usr/local/MATLAB/R2024b/toolbox/matlab/richcontent_preview/matlab:/usr/local/MATLAB/R2024b/toolbox/matlab/rtc_addons/rtclanguagesupport/rtc_clike_language_support/matlab:/usr/local/MATLAB/R2024b/toolbox/matlab/rtc_addons/rtclanguagesupport/rtc_java_language_support/matlab:/usr/local/MATLAB/R2024b/toolbox/matlab/rtc_addons/rtclanguagesupport/rtc_js_language_support/matlab:/usr/local/MATLAB/R2024b/toolbox/matlab/rtc_addons/rtclanguagesupport/rtc_markdown_language_support/matlab:/usr/local/MATLAB/R2024b/toolbox/matlab/rtc_addons/rtclanguagesupport/rtc_mlike_language_support/matlab:/usr/local/MATLAB/R2024b/toolbox/matlab/rtc_addons/rtclanguagesupport/rtc_python_language_support/matlab:/usr/local/MATLAB/R2024b/toolbox/matlab/rtc_addons/rtclanguagesupport/rtc_tlc_language_support/matlab:/usr/local/MATLAB/R2024b/toolbox/matlab/rtc_addons/rtclanguagesupport/rtc_verilog_language_support/matlab:/usr/local/MATLAB/R2024b/toolbox/matlab/rtc_addons/rtclanguagesupport/rtc_vhdl_language_support/matlab:/usr/local/MATLAB/R2024b/toolbox/matlab/rtc_addons/rtclanguagesupport/rtc_xml_language_support/matlab:/usr/local/MATLAB/R2024b/toolbox/matlab/rtc_addons/rtclanguagesupport/rtc_yaml_language_support/matlab:/usr/local/MATLAB/R2024b/toolbox/matlab/serial:/usr/local/MATLAB/R2024b/toolbox/matlab/serialport/apps/serialportapp:/usr/local/MATLAB/R2024b/toolbox/matlab/serialport/interface:/usr/local/MATLAB/R2024b/toolbox/matlab/sparfun:/usr/local/MATLAB/R2024b/toolbox/matlab/specfun:/usr/local/MATLAB/R2024b/toolbox/matlab/storage/matlabdrive:/usr/local/MATLAB/R2024b/toolbox/matlab/storage/mldriveconnection/matlab:/usr/local/MATLAB/R2024b/toolbox/matlab/storage/mldrivedesktop:/usr/local/MATLAB/R2024b/toolbox/matlab/storage/mldrivejsplugins/matlabdrive_js/matlab:/usr/local/MATLAB/R2024b/toolbox/matlab/storage/mldrivejsplugins/share_folder_preview/matlab:/usr/local/MATLAB/R2024b/toolbox/matlab/storage/mldrivejsplugins/sharing_actions/matlab:/usr/local/MATLAB/R2024b/toolbox/matlab/storage/mldrivejsplugins/tripwire_button/matlab:/usr/local/MATLAB/R2024b/toolbox/matlab/strfun:/usr/local/MATLAB/R2024b/toolbox/matlab/strfun/pattern:/usr/local/MATLAB/R2024b/toolbox/matlab/strfun/validators:/usr/local/MATLAB/R2024b/toolbox/matlab/supportpackagemanagement:/usr/local/MATLAB/R2024b/toolbox/matlab/system:/usr/local/MATLAB/R2024b/toolbox/matlab/system/editor:/usr/local/MATLAB/R2024b/toolbox/matlab/taskpool:/usr/local/MATLAB/R2024b/toolbox/matlab/testframework/measurement/core:/usr/local/MATLAB/R2024b/toolbox/matlab/testframework/measurement/ext:/usr/local/MATLAB/R2024b/toolbox/matlab/testframework/mock/core:/usr/local/MATLAB/R2024b/toolbox/matlab/testframework/obsolete:/usr/local/MATLAB/R2024b/toolbox/matlab/testframework/performance/core:/usr/local/MATLAB/R2024b/toolbox/matlab/testframework/performance/ext:/usr/local/MATLAB/R2024b/toolbox/matlab/testframework/shared/testbrowser/testbrowser-mi:/usr/local/MATLAB/R2024b/toolbox/matlab/testframework/testbrowser/testbrowser-mi:/usr/local/MATLAB/R2024b/toolbox/matlab/testframework/ui/toolstrip:/usr/local/MATLAB/R2024b/toolbox/matlab/testframework/uiautomation:/usr/local/MATLAB/R2024b/toolbox/matlab/testframework/uitest:/usr/local/MATLAB/R2024b/toolbox/matlab/testframework/unittest/core:/usr/local/MATLAB/R2024b/toolbox/matlab/testframework/unittest/ext:/usr/local/MATLAB/R2024b/toolbox/matlab/testframework/unittest/parallel:/usr/local/MATLAB/R2024b/toolbox/matlab/timefun:/usr/local/MATLAB/R2024b/toolbox/matlab/timerfun:/usr/local/MATLAB/R2024b/toolbox/matlab/timeseries:/usr/local/MATLAB/R2024b/toolbox/matlab/toolbox_packaging:/usr/local/MATLAB/R2024b/toolbox/matlab/toolboxmanagement/matlab_api:/usr/local/MATLAB/R2024b/toolbox/matlab/toolstrip:/usr/local/MATLAB/R2024b/toolbox/matlab/uicomponents/databrowser:/usr/local/MATLAB/R2024b/toolbox/matlab/uicomponents/plugin/appdesigner:/usr/local/MATLAB/R2024b/toolbox/matlab/uicomponents/uicomponents:/usr/local/MATLAB/R2024b/toolbox/matlab/uicomponents/uicomponents/graphics:/usr/local/MATLAB/R2024b/toolbox/matlab/uicomponents/uicomponents/style:/usr/local/MATLAB/R2024b/toolbox/matlab/uicomponents/uicontrol:/usr/local/MATLAB/R2024b/toolbox/matlab/uiscopes/plugin/appdesigner:/usr/local/MATLAB/R2024b/toolbox/matlab/uiscopes/uitimescope/uitimescope:/usr/local/MATLAB/R2024b/toolbox/matlab/uitools/mofigurehelperfunc:/usr/local/MATLAB/R2024b/toolbox/matlab/uitools/uicomponents/components:/usr/local/MATLAB/R2024b/toolbox/matlab/uitools/uitools:/usr/local/MATLAB/R2024b/toolbox/matlab/uitools/uitools/obsolete:/usr/local/MATLAB/R2024b/toolbox/matlab/updateinstaller:/usr/local/MATLAB/R2024b/toolbox/matlab/urlmanager:/usr/local/MATLAB/R2024b/toolbox/matlab/validators:/usr/local/MATLAB/R2024b/toolbox/matlab/winfun:/usr/local/MATLAB/R2024b/toolbox/matlab/xmlfun:/usr/local/MATLAB/R2024b/toolbox/local:/usr/local/MATLAB/R2024b/toolbox/simulink/IconEditor:/usr/local/MATLAB/R2024b/toolbox/simulink/advisor/advisor_app/advisor_toolstrip/ml:/usr/local/MATLAB/R2024b/toolbox/simulink/advisor/advisor_common/ml:/usr/local/MATLAB/R2024b/toolbox/simulink/advisor/advisor_contextmenu/macontext:/usr/local/MATLAB/R2024b/toolbox/simulink/advisor/advisor_datamodel/internal:/usr/local/MATLAB/R2024b/toolbox/simulink/advisor/advisor_reporting/advisor_report_base:/usr/local/MATLAB/R2024b/toolbox/simulink/advisor/advisor_reporting/advisor_report_docx:/usr/local/MATLAB/R2024b/toolbox/simulink/advisor/advisor_reporting/advisor_report_html:/usr/local/MATLAB/R2024b/toolbox/simulink/advisor/advisor_reporting/advisor_report_pdf:/usr/local/MATLAB/R2024b/toolbox/simulink/advisor/advisor_reporting/ml:/usr/local/MATLAB/R2024b/toolbox/simulink/advisor/advisor_services/progress_service:/usr/local/MATLAB/R2024b/toolbox/simulink/advisor/advisor_ui/ml:/usr/local/MATLAB/R2024b/toolbox/simulink/batchsim:/usr/local/MATLAB/R2024b/toolbox/simulink/blockSupport:/usr/local/MATLAB/R2024b/toolbox/simulink/blocks:/usr/local/MATLAB/R2024b/toolbox/simulink/blocks/library:/usr/local/MATLAB/R2024b/toolbox/simulink/blocks/library/simulinkcoder:/usr/local/MATLAB/R2024b/toolbox/simulink/blocks/obsolete:/usr/local/MATLAB/R2024b/toolbox/simulink/blocks/pid_Images:/usr/local/MATLAB/R2024b/toolbox/simulink/blocks/sb2sl:/usr/local/MATLAB/R2024b/toolbox/simulink/comparisons/blockdiagram/matlab:/usr/local/MATLAB/R2024b/toolbox/simulink/comparisons/configset/matlab:/usr/local/MATLAB/R2024b/toolbox/simulink/comparisons/dict/mldesktop/matlab:/usr/local/MATLAB/R2024b/toolbox/simulink/comparisons/model/edits:/usr/local/MATLAB/R2024b/toolbox/simulink/comparisons/model/mldesktop/matlab:/usr/local/MATLAB/R2024b/toolbox/simulink/comparisons/rptgen:/usr/local/MATLAB/R2024b/toolbox/simulink/comparisons/scope/matlab:/usr/local/MATLAB/R2024b/toolbox/simulink/comparisons/sltemplate/mldesktop/matlab:/usr/local/MATLAB/R2024b/toolbox/simulink/compiled_model_interface:/usr/local/MATLAB/R2024b/toolbox/simulink/configset/derived:/usr/local/MATLAB/R2024b/toolbox/simulink/configset/m:/usr/local/MATLAB/R2024b/toolbox/simulink/configset_context/m:/usr/local/MATLAB/R2024b/toolbox/simulink/constraint_manager/matlab:/usr/local/MATLAB/R2024b/toolbox/simulink/core/api:/usr/local/MATLAB/R2024b/toolbox/simulink/core/callbacktracing:/usr/local/MATLAB/R2024b/toolbox/simulink/core/dataclasses:/usr/local/MATLAB/R2024b/toolbox/simulink/core/dataobjectwizard:/usr/local/MATLAB/R2024b/toolbox/simulink/core/dialogs:/usr/local/MATLAB/R2024b/toolbox/simulink/core/general:/usr/local/MATLAB/R2024b/toolbox/simulink/core/librarylinktool:/usr/local/MATLAB/R2024b/toolbox/simulink/core/model_transformer:/usr/local/MATLAB/R2024b/toolbox/simulink/core/sfuncheck:/usr/local/MATLAB/R2024b/toolbox/simulink/core/slresolve:/usr/local/MATLAB/R2024b/toolbox/simulink/core/sortingcheck:/usr/local/MATLAB/R2024b/toolbox/simulink/core/taskeditor:/usr/local/MATLAB/R2024b/toolbox/simulink/core/typeeditor/toolstrip:/usr/local/MATLAB/R2024b/toolbox/simulink/core/units:/usr/local/MATLAB/R2024b/toolbox/simulink/datetimewidget/leapsecondtable/m:/usr/local/MATLAB/R2024b/toolbox/simulink/dependency/analysis:/usr/local/MATLAB/R2024b/toolbox/simulink/dependency/app:/usr/local/MATLAB/R2024b/toolbox/simulink/dependency/buses:/usr/local/MATLAB/R2024b/toolbox/simulink/dependency/refactoring:/usr/local/MATLAB/R2024b/toolbox/simulink/diagram/mi/m:/usr/local/MATLAB/R2024b/toolbox/simulink/editor/contextmenus:/usr/local/MATLAB/R2024b/toolbox/simulink/engine/mi:/usr/local/MATLAB/R2024b/toolbox/simulink/engine_interface:/usr/local/MATLAB/R2024b/toolbox/simulink/file_preview_plugin/matlab:/usr/local/MATLAB/R2024b/toolbox/simulink/fixedandfloat:/usr/local/MATLAB/R2024b/toolbox/simulink/fixedandfloat/obsolete:/usr/local/MATLAB/R2024b/toolbox/simulink/hmi:/usr/local/MATLAB/R2024b/toolbox/simulink/hmi_lib:/usr/local/MATLAB/R2024b/toolbox/simulink/legacycode:/usr/local/MATLAB/R2024b/toolbox/simulink/libcodegen_harness/libcodegen_harness:/usr/local/MATLAB/R2024b/toolbox/simulink/maskeditor/matlab:/usr/local/MATLAB/R2024b/toolbox/simulink/mex:/usr/local/MATLAB/R2024b/toolbox/simulink/modelfinder/src:/usr/local/MATLAB/R2024b/toolbox/simulink/modelfinder_ui/m:/usr/local/MATLAB/R2024b/toolbox/simulink/multisim/design:/usr/local/MATLAB/R2024b/toolbox/simulink/multisim/main:/usr/local/MATLAB/R2024b/toolbox/simulink/multisim/utils:/usr/local/MATLAB/R2024b/toolbox/simulink/online/server/m:/usr/local/MATLAB/R2024b/toolbox/simulink/project/comparisons/matlab:/usr/local/MATLAB/R2024b/toolbox/simulink/project/java:/usr/local/MATLAB/R2024b/toolbox/simulink/project/settings/matlab:/usr/local/MATLAB/R2024b/toolbox/simulink/project/simulinkeditor:/usr/local/MATLAB/R2024b/toolbox/simulink/project/templates:/usr/local/MATLAB/R2024b/toolbox/simulink/project/unsavedchanges:/usr/local/MATLAB/R2024b/toolbox/simulink/project/upgrade:/usr/local/MATLAB/R2024b/toolbox/simulink/protected_model/core/core:/usr/local/MATLAB/R2024b/toolbox/simulink/record_playback:/usr/local/MATLAB/R2024b/toolbox/simulink/record_playback/src:/usr/local/MATLAB/R2024b/toolbox/simulink/record_playback/ui/studio/config/m:/usr/local/MATLAB/R2024b/toolbox/simulink/record_playback_lib:/usr/local/MATLAB/R2024b/toolbox/simulink/runtime_callbacks:/usr/local/MATLAB/R2024b/toolbox/simulink/sdi:/usr/local/MATLAB/R2024b/toolbox/simulink/search/mi/m:/usr/local/MATLAB/R2024b/toolbox/simulink/sfuntemplates:/usr/local/MATLAB/R2024b/toolbox/simulink/sfuntemplates/include:/usr/local/MATLAB/R2024b/toolbox/simulink/sfuntemplates/src:/usr/local/MATLAB/R2024b/toolbox/simulink/simmanager/fileIO:/usr/local/MATLAB/R2024b/toolbox/simulink/simulationinput:/usr/local/MATLAB/R2024b/toolbox/simulink/simulationinput_deployed:/usr/local/MATLAB/R2024b/toolbox/simulink/simulationinput_desktop:/usr/local/MATLAB/R2024b/toolbox/simulink/simulationinput_proxy:/usr/local/MATLAB/R2024b/toolbox/simulink/simulationoutput:/usr/local/MATLAB/R2024b/toolbox/simulink/simulink:/usr/local/MATLAB/R2024b/toolbox/simulink/simulink/blocksetdesigner/m:/usr/local/MATLAB/R2024b/toolbox/simulink/simulink/components:/usr/local/MATLAB/R2024b/toolbox/simulink/simulink/components/images:/usr/local/MATLAB/R2024b/toolbox/simulink/simulink/iodata/iofile:/usr/local/MATLAB/R2024b/toolbox/simulink/simulink/iodata/iofile/sourceBlocks:/usr/local/MATLAB/R2024b/toolbox/simulink/simulink/iodata/ioformat:/usr/local/MATLAB/R2024b/toolbox/simulink/simulink/iodata/iomap:/usr/local/MATLAB/R2024b/toolbox/simulink/simulink/keymodels:/usr/local/MATLAB/R2024b/toolbox/simulink/simulink/modeladvisor:/usr/local/MATLAB/R2024b/toolbox/simulink/simulink/modeladvisor/configset/derived:/usr/local/MATLAB/R2024b/toolbox/simulink/simulink/modeladvisor/configset/m:/usr/local/MATLAB/R2024b/toolbox/simulink/simulink/modeladvisor/fixpt:/usr/local/MATLAB/R2024b/toolbox/simulink/simulink/modeladvisor/misra:/usr/local/MATLAB/R2024b/toolbox/simulink/simulink/modeladvisor/security:/usr/local/MATLAB/R2024b/toolbox/simulink/simulink/performance:/usr/local/MATLAB/R2024b/toolbox/simulink/simulink/performance/performancea:/usr/local/MATLAB/R2024b/toolbox/simulink/simulink/sl_structure_analysis:/usr/local/MATLAB/R2024b/toolbox/simulink/simulink/slblocksetsdk:/usr/local/MATLAB/R2024b/toolbox/simulink/simulink/slprofiler:/usr/local/MATLAB/R2024b/toolbox/simulink/simulink/sltopo:/usr/local/MATLAB/R2024b/toolbox/simulink/simulink/templates/core:/usr/local/MATLAB/R2024b/toolbox/simulink/simulink/templates/product:/usr/local/MATLAB/R2024b/toolbox/simulink/simulink/upgradeadvisor:/usr/local/MATLAB/R2024b/toolbox/simulink/simulink_core_blocks/BlockGraphics:/usr/local/MATLAB/R2024b/toolbox/simulink/simulink_data_dictionary/matlab:/usr/local/MATLAB/R2024b/toolbox/simulink/simulink_data_dictionary/sldd:/usr/local/MATLAB/R2024b/toolbox/simulink/simulink_data_dictionary_mcos_api/matlab:/usr/local/MATLAB/R2024b/toolbox/simulink/simulink_export_methods:/usr/local/MATLAB/R2024b/toolbox/simulink/simulink_hmi_slexportprevious:/usr/local/MATLAB/R2024b/toolbox/simulink/simulink_udd:/usr/local/MATLAB/R2024b/toolbox/simulink/sl_async_streaming:/usr/local/MATLAB/R2024b/toolbox/simulink/sl_graphics_services/tools:/usr/local/MATLAB/R2024b/toolbox/simulink/sl_interface_dict/api:/usr/local/MATLAB/R2024b/toolbox/simulink/sl_interface_dict/editor:/usr/local/MATLAB/R2024b/toolbox/simulink/sl_interface_dict/migrator:/usr/local/MATLAB/R2024b/toolbox/simulink/sl_interface_dict/platforms/dds:/usr/local/MATLAB/R2024b/toolbox/simulink/sl_solver_profiler:/usr/local/MATLAB/R2024b/toolbox/simulink/sl_suggestions/m:/usr/local/MATLAB/R2024b/toolbox/simulink/sl_suggestions_mvn_bridge/db:/usr/local/MATLAB/R2024b/toolbox/simulink/sl_upgrade_engine:/usr/local/MATLAB/R2024b/toolbox/simulink/slcheck_exclusioneditor:/usr/local/MATLAB/R2024b/toolbox/simulink/slcheck_ma_config_editor:/usr/local/MATLAB/R2024b/toolbox/simulink/slexportprevious:/usr/local/MATLAB/R2024b/toolbox/simulink/slsa/parametertuning:/usr/local/MATLAB/R2024b/toolbox/simulink/sltemplate:/usr/local/MATLAB/R2024b/toolbox/simulink/sltemplate/toolstrip_plugin/m:/usr/local/MATLAB/R2024b/toolbox/simulink/slx/m:/usr/local/MATLAB/R2024b/toolbox/simulink/sta/derivedSignals:/usr/local/MATLAB/R2024b/toolbox/simulink/sta/repository:/usr/local/MATLAB/R2024b/toolbox/simulink/sta/repository/util:/usr/local/MATLAB/R2024b/toolbox/simulink/sta/scenarioconnector:/usr/local/MATLAB/R2024b/toolbox/simulink/sta/scenarioconnector/ui:/usr/local/MATLAB/R2024b/toolbox/simulink/sta/scenarioconnector/ui/mapping:/usr/local/MATLAB/R2024b/toolbox/simulink/sta/scenarioconnector/ui/mapping/callbacks:/usr/local/MATLAB/R2024b/toolbox/simulink/sta/scenarioconnector/ui/mapping/util:/usr/local/MATLAB/R2024b/toolbox/simulink/sta/scenarioconnector/ui/preferences/mapper:/usr/local/MATLAB/R2024b/toolbox/simulink/sta/scenarioconnector/ui/toolstrip/filesection:/usr/local/MATLAB/R2024b/toolbox/simulink/sta/scenarioconnector/ui/toolstrip/modelsection:/usr/local/MATLAB/R2024b/toolbox/simulink/sta/scenarioconnector/ui/toolstrip/session:/usr/local/MATLAB/R2024b/toolbox/simulink/sta/sl_sta_editor_block/core:/usr/local/MATLAB/R2024b/toolbox/simulink/sta/sl_sta_webscope:/usr/local/MATLAB/R2024b/toolbox/simulink/sta/sta:/usr/local/MATLAB/R2024b/toolbox/simulink/sta/sta/editor:/usr/local/MATLAB/R2024b/toolbox/simulink/sta/sta/editor/ui:/usr/local/MATLAB/R2024b/toolbox/simulink/sta/sta/ui:/usr/local/MATLAB/R2024b/toolbox/simulink/sta/sta/ui/toolstrip:/usr/local/MATLAB/R2024b/toolbox/simulink/sta/sta/ui/toolstrip/help:/usr/local/MATLAB/R2024b/toolbox/simulink/sta/sta/ui/toolstrip/open:/usr/local/MATLAB/R2024b/toolbox/simulink/sta/sta/ui/toolstrip/open/streaming:/usr/local/MATLAB/R2024b/toolbox/simulink/steadystatesimulation:/usr/local/MATLAB/R2024b/toolbox/simulink/sysarch/sysarch:/usr/local/MATLAB/R2024b/toolbox/simulink/timinglegend/m:/usr/local/MATLAB/R2024b/toolbox/simulink/timinglegend/web/m:/usr/local/MATLAB/R2024b/toolbox/simulink/types:/usr/local/MATLAB/R2024b/toolbox/simulink/ui/library_browser/core/m:/usr/local/MATLAB/R2024b/toolbox/simulink/ui/matlabjsd:/usr/local/MATLAB/R2024b/toolbox/simulink/ui/printing:/usr/local/MATLAB/R2024b/toolbox/simulink/ui/sl_studio/sl_studio:/usr/local/MATLAB/R2024b/toolbox/simulink/ui/studio/config/m:/usr/local/MATLAB/R2024b/toolbox/simulink/ui/sysdoc/core:/usr/local/MATLAB/R2024b/toolbox/simulink/webblocks/core/m:/usr/local/MATLAB/R2024b/toolbox/simulink/webblocks/customwebblocks/m:/usr/local/MATLAB/R2024b/toolbox/simulink/webblocks/customwebblocks_lib:/usr/local/MATLAB/R2024b/toolbox/stateflow/coder:/usr/local/MATLAB/R2024b/toolbox/stateflow/comparisons/diff/matlab:/usr/local/MATLAB/R2024b/toolbox/stateflow/comparisons/highlighting/matlab:/usr/local/MATLAB/R2024b/toolbox/stateflow/comparisons/merge/matlab:/usr/local/MATLAB/R2024b/toolbox/stateflow/comparisons/utils/matlab:/usr/local/MATLAB/R2024b/toolbox/stateflow/modeladvisor:/usr/local/MATLAB/R2024b/toolbox/stateflow/reqtable/analysis/mfiles:/usr/local/MATLAB/R2024b/toolbox/stateflow/reqtable/semantics/mfiles:/usr/local/MATLAB/R2024b/toolbox/stateflow/sf_file_preview_plugin/matlab:/usr/local/MATLAB/R2024b/toolbox/stateflow/sftemplates:/usr/local/MATLAB/R2024b/toolbox/stateflow/stateflow:/usr/local/MATLAB/R2024b/toolbox/stateflow/stateflow_lib:/usr/local/MATLAB/R2024b/toolbox/stateflow/ui/studio/config/m:/usr/local/MATLAB/R2024b/toolbox/rtw/accel:/usr/local/MATLAB/R2024b/toolbox/rtw/rtw:/usr/local/MATLAB/R2024b/toolbox/rtw/rtw/udd:/usr/local/MATLAB/R2024b/toolbox/rtw/targets/AUTOSAR/AUTOSAR:/usr/local/MATLAB/R2024b/toolbox/rtw/targets/AUTOSAR/AUTOSAR/cs_adaptive/derived:/usr/local/MATLAB/R2024b/toolbox/rtw/targets/AUTOSAR/AUTOSAR/cs_adaptive/m:/usr/local/MATLAB/R2024b/toolbox/rtw/targets/AUTOSAR/AUTOSAR/dataclasses:/usr/local/MATLAB/R2024b/toolbox/rtw/targets/AUTOSAR/AUTOSAR/profiles:/usr/local/MATLAB/R2024b/toolbox/rtw/targets/asap2/asap2:/usr/local/MATLAB/R2024b/toolbox/rtw/targets/asap2/asap2/dataclasses:/usr/local/MATLAB/R2024b/toolbox/rtw/targets/asap2/asap2/user:/usr/local/MATLAB/R2024b/toolbox/rtw/targets/common/can/blocks:/usr/local/MATLAB/R2024b/toolbox/rtw/targets/common/can/blocks/dataclasses:/usr/local/MATLAB/R2024b/toolbox/rtw/targets/common/tgtcommon:/usr/local/MATLAB/R2024b/toolbox/rtw/targets/connectivity:/usr/local/MATLAB/R2024b/toolbox/rtw/targets/ecoder:/usr/local/MATLAB/R2024b/toolbox/rtw/targets/mpt:/usr/local/MATLAB/R2024b/toolbox/rtw/targets/mpt/mpt:/usr/local/MATLAB/R2024b/toolbox/rtw/targets/mpt/user_specific:/usr/local/MATLAB/R2024b/toolbox/rtw/targets/pil:/usr/local/MATLAB/R2024b/toolbox/rtw/targets/rsim/configset/derived:/usr/local/MATLAB/R2024b/toolbox/rtw/targets/rsim/configset/m:/usr/local/MATLAB/R2024b/toolbox/rtw/targets/tornado/m:/usr/local/MATLAB/R2024b/extern/examples/compiler:/usr/local/MATLAB/R2024b/extern/examples/compilersdk:/usr/local/MATLAB/R2024b/platform/pf_matlab_impl/m:/usr/local/MATLAB/R2024b/toolbox/5g/5g:/usr/local/MATLAB/R2024b/toolbox/5g/shared_wwg_wwa:/usr/local/MATLAB/R2024b/toolbox/5g/wwa:/usr/local/MATLAB/R2024b/toolbox/5g/wwg:/usr/local/MATLAB/R2024b/toolbox/DesignCostEstimation/Presentations/Report:/usr/local/MATLAB/R2024b/toolbox/aero/aero:/usr/local/MATLAB/R2024b/toolbox/aero/aircraft:/usr/local/MATLAB/R2024b/toolbox/aero/animation:/usr/local/MATLAB/R2024b/toolbox/aero/animation/AC3D:/usr/local/MATLAB/R2024b/toolbox/aero/astdemos:/usr/local/MATLAB/R2024b/toolbox/aero/core:/usr/local/MATLAB/R2024b/toolbox/aero/graphics:/usr/local/MATLAB/R2024b/toolbox/aero/spacecraft:/usr/local/MATLAB/R2024b/toolbox/aero/uicomponents/plugin/appdesigner:/usr/local/MATLAB/R2024b/toolbox/aero/uicomponents/uicomponents:/usr/local/MATLAB/R2024b/toolbox/aeroblks:/usr/local/MATLAB/R2024b/toolbox/aeroblks/aeroblks:/usr/local/MATLAB/R2024b/toolbox/aeroblks/aeroblksutilities:/usr/local/MATLAB/R2024b/toolbox/aeroblks/aeroblksutilities/fwdTransformations:/usr/local/MATLAB/R2024b/toolbox/aeroblks/flightcontrol:/usr/local/MATLAB/R2024b/toolbox/aeroblks/flightcontrol/3DOFAirframe:/usr/local/MATLAB/R2024b/toolbox/aeroblks/flightcontrol/6DOFAirframe:/usr/local/MATLAB/R2024b/toolbox/aeroblks/hmi:/usr/local/MATLAB/R2024b/toolbox/aeroblks/sim3d:/usr/local/MATLAB/R2024b/toolbox/aeroblks/sim3dutilities:/usr/local/MATLAB/R2024b/toolbox/aeroblks/sim3dutilities/export:/usr/local/MATLAB/R2024b/toolbox/aeroblks/sim3dutilities/fwdTransformations:/usr/local/MATLAB/R2024b/toolbox/aeroblks/spacecraft/analysis:/usr/local/MATLAB/R2024b/toolbox/aeroblks/spacecraft/block_libraries:/usr/local/MATLAB/R2024b/toolbox/aeroblks/spacecraft/templates:/usr/local/MATLAB/R2024b/toolbox/aeroblks/spacecraft/templates/visualization:/usr/local/MATLAB/R2024b/toolbox/aeroblks/templates:/usr/local/MATLAB/R2024b/toolbox/alm/artifact_service/ml:/usr/local/MATLAB/R2024b/toolbox/alm/digital_thread_service/ml:/usr/local/MATLAB/R2024b/toolbox/alm/mcos_utils/ml:/usr/local/MATLAB/R2024b/toolbox/alm/project_services/ml:/usr/local/MATLAB/R2024b/toolbox/alm/settings/ml:/usr/local/MATLAB/R2024b/toolbox/alm/trace_plugin_interface/ml:/usr/local/MATLAB/R2024b/toolbox/alm/trace_plugins/coder_trace_plugins/ml:/usr/local/MATLAB/R2024b/toolbox/alm/trace_plugins/mtest_trace_plugins/ml:/usr/local/MATLAB/R2024b/toolbox/alm/trace_plugins/req_trace_plugins/ml:/usr/local/MATLAB/R2024b/toolbox/alm/trace_plugins/safety_trace_plugins/ml:/usr/local/MATLAB/R2024b/toolbox/alm/trace_plugins/simulink_trace_plugins/ml:/usr/local/MATLAB/R2024b/toolbox/alm/trace_plugins/slcheck_trace_plugins/ml:/usr/local/MATLAB/R2024b/toolbox/alm/trace_plugins/slcov_trace_plugins/ml:/usr/local/MATLAB/R2024b/toolbox/alm/trace_plugins/sltest_trace_plugins/ml:/usr/local/MATLAB/R2024b/toolbox/alm/trace_plugins/stateflow_trace_plugins/ml:/usr/local/MATLAB/R2024b/toolbox/alm/trace_plugins/systemcomposer_trace_plugins/ml:/usr/local/MATLAB/R2024b/toolbox/alm/ui/dt_views/ml:/usr/local/MATLAB/R2024b/toolbox/alm/ui/settings/ml:/usr/local/MATLAB/R2024b/toolbox/alm/ui_service/ml:/usr/local/MATLAB/R2024b/toolbox/antenna/antenna:/usr/local/MATLAB/R2024b/toolbox/antenna/antenna/antennautilities:/usr/local/MATLAB/R2024b/toolbox/antenna/antenna/meshutilities:/usr/local/MATLAB/R2024b/toolbox/antenna/antenna/optimutilities/models:/usr/local/MATLAB/R2024b/toolbox/antenna/antenna/optimutilities/sadea:/usr/local/MATLAB/R2024b/toolbox/antenna/antenna/optimutilities/sadea4:/usr/local/MATLAB/R2024b/toolbox/antenna/antenna/optimutilities/sadea4models:/usr/local/MATLAB/R2024b/toolbox/antenna/antenna/optimutilities/sadea4utils:/usr/local/MATLAB/R2024b/toolbox/antenna/antenna/optimutilities/sadeautils:/usr/local/MATLAB/R2024b/toolbox/audio/audio:/usr/local/MATLAB/R2024b/toolbox/audio/audio/compiled:/usr/local/MATLAB/R2024b/toolbox/audio/audioapps/audioapps:/usr/local/MATLAB/R2024b/toolbox/audio/audioapps/audioapputils:/usr/local/MATLAB/R2024b/toolbox/audio/audioapps/audioapputils/appdesigner:/usr/local/MATLAB/R2024b/toolbox/audio/audioexamples:/usr/local/MATLAB/R2024b/toolbox/audio/audioutilities:/usr/local/MATLAB/R2024b/toolbox/audio/audioutilities/audioinit:/usr/local/MATLAB/R2024b/toolbox/audio/audioutilities/audiomex:/usr/local/MATLAB/R2024b/toolbox/audio/samples:/usr/local/MATLAB/R2024b/toolbox/audio/templates:/usr/local/MATLAB/R2024b/toolbox/autoblks:/usr/local/MATLAB/R2024b/toolbox/autoblks/autoblks:/usr/local/MATLAB/R2024b/toolbox/autoblks/autoblksreference:/usr/local/MATLAB/R2024b/toolbox/autoblks/autoblksreference/images:/usr/local/MATLAB/R2024b/toolbox/autoblks/autoblksreference/refappgen:/usr/local/MATLAB/R2024b/toolbox/autoblks/autoblksshared:/usr/local/MATLAB/R2024b/toolbox/autoblks/autoblksshared/mbc:/usr/local/MATLAB/R2024b/toolbox/autoblks/autoblksshared/mbctemplates:/usr/local/MATLAB/R2024b/toolbox/autoblks/autoblksshared/pwranalysis:/usr/local/MATLAB/R2024b/toolbox/autoblks/autoblksutilities:/usr/local/MATLAB/R2024b/toolbox/autoblks/autoblksutilities/mbctemplates:/usr/local/MATLAB/R2024b/toolbox/autoblks/autosolution:/usr/local/MATLAB/R2024b/toolbox/autoblks_utils:/usr/local/MATLAB/R2024b/toolbox/autosar/blocks/client_sfcn/masks:/usr/local/MATLAB/R2024b/toolbox/autosar/blocks/client_sfcn/mex:/usr/local/MATLAB/R2024b/toolbox/bioinfo/bioinfo:/usr/local/MATLAB/R2024b/toolbox/bioinfo/bioinfo/biolearning:/usr/local/MATLAB/R2024b/toolbox/bioinfo/bioinfo/biomatrices:/usr/local/MATLAB/R2024b/toolbox/bioinfo/bioinfo/blastplus:/usr/local/MATLAB/R2024b/toolbox/bioinfo/bioinfo/bwa:/usr/local/MATLAB/R2024b/toolbox/bioinfo/bioinfo/cufflinks:/usr/local/MATLAB/R2024b/toolbox/bioinfo/bioinfo/mass_spec:/usr/local/MATLAB/R2024b/toolbox/bioinfo/bioinfo/microarray:/usr/local/MATLAB/R2024b/toolbox/bioinfo/bioinfo/proteins:/usr/local/MATLAB/R2024b/toolbox/bioinfo/bioinfo/sra:/usr/local/MATLAB/R2024b/toolbox/bioinfo/bioinfodata:/usr/local/MATLAB/R2024b/toolbox/bioinfo/pipeline:/usr/local/MATLAB/R2024b/toolbox/bluetooth:/usr/local/MATLAB/R2024b/toolbox/bluetooth/ble:/usr/local/MATLAB/R2024b/toolbox/bluetooth/bluetooth:/usr/local/MATLAB/R2024b/toolbox/c2b:/usr/local/MATLAB/R2024b/toolbox/c2b/tic2000:/usr/local/MATLAB/R2024b/toolbox/c2b/tic2000/blocks:/usr/local/MATLAB/R2024b/toolbox/c2b/tic2000/blocks/masks:/usr/local/MATLAB/R2024b/toolbox/c2b/tic2000/blocks/mex:/usr/local/MATLAB/R2024b/toolbox/c2b/tic2000/registry:/usr/local/MATLAB/R2024b/toolbox/c2b/tic2000/tlc_c:/usr/local/MATLAB/R2024b/toolbox/c2b/tic2000/utils:/usr/local/MATLAB/R2024b/toolbox/c2b/tic2000_base:/usr/local/MATLAB/R2024b/toolbox/c2b/tic2000_base/crl:/usr/local/MATLAB/R2024b/toolbox/c2b/tic2000_base/pil:/usr/local/MATLAB/R2024b/toolbox/c2b/tic2000_base/registry:/usr/local/MATLAB/R2024b/toolbox/c2b/tic2000_concerto:/usr/local/MATLAB/R2024b/toolbox/c2b/tic2000_concerto/blocks:/usr/local/MATLAB/R2024b/toolbox/c2b/tic2000_concerto/blocks/masks:/usr/local/MATLAB/R2024b/toolbox/c2b/tic2000_shared:/usr/local/MATLAB/R2024b/toolbox/c2b/tic2000_shared/dataclasses:/usr/local/MATLAB/R2024b/toolbox/c2b/tic2000_shared/utils:/usr/local/MATLAB/R2024b/toolbox/c2b/tic2000_soc:/usr/local/MATLAB/R2024b/toolbox/c2b/tic2000_soc/blocks:/usr/local/MATLAB/R2024b/toolbox/c2b/tic2000_soc/blocks/mex:/usr/local/MATLAB/R2024b/toolbox/c2b/tic2000_soc/peripherals:/usr/local/MATLAB/R2024b/toolbox/c2b/tic2000_soc/registry:/usr/local/MATLAB/R2024b/toolbox/c2b/tic2000_soc/tlc_c:/usr/local/MATLAB/R2024b/toolbox/classdiagram/app/core:/usr/local/MATLAB/R2024b/toolbox/classdiagram/app/mcos:/usr/local/MATLAB/R2024b/toolbox/clone_detection/clonedetection_exclusion_editor/clonedetection_exclusion_editor_m:/usr/local/MATLAB/R2024b/toolbox/clone_detection_app/m:/usr/local/MATLAB/R2024b/toolbox/clone_detection_app/slcontextmenus:/usr/local/MATLAB/R2024b/toolbox/clonedetection:/usr/local/MATLAB/R2024b/toolbox/coder/advisor:/usr/local/MATLAB/R2024b/toolbox/coder/autosar:/usr/local/MATLAB/R2024b/toolbox/coder/autosar/blocks:/usr/local/MATLAB/R2024b/toolbox/coder/autosar/sdp/profiles:/usr/local/MATLAB/R2024b/toolbox/coder/autosar/xrelexport:/usr/local/MATLAB/R2024b/toolbox/coder/autosar_templates:/usr/local/MATLAB/R2024b/toolbox/coder/clang_api/interface/ml:/usr/local/MATLAB/R2024b/toolbox/coder/codedescriptor_core:/usr/local/MATLAB/R2024b/toolbox/coder/coder:/usr/local/MATLAB/R2024b/toolbox/coder/coder_halide:/usr/local/MATLAB/R2024b/toolbox/coder/coderapp/cfb/matlab:/usr/local/MATLAB/R2024b/toolbox/coder/coderapp/coderconfig/ml:/usr/local/MATLAB/R2024b/toolbox/coder/coderapp/common/ml:/usr/local/MATLAB/R2024b/toolbox/coder/coderapp/config/ml:/usr/local/MATLAB/R2024b/toolbox/coder/coderapp/configui/ml:/usr/local/MATLAB/R2024b/toolbox/coder/coderapp/core/ml:/usr/local/MATLAB/R2024b/toolbox/coder/coderapp/emlwhich/ml:/usr/local/MATLAB/R2024b/toolbox/coder/coderapp/form/ml:/usr/local/MATLAB/R2024b/toolbox/coder/coderapp/screener/ml:/usr/local/MATLAB/R2024b/toolbox/coder/coderapp/screener_cfb/matlab:/usr/local/MATLAB/R2024b/toolbox/coder/coderapp/screener_globallist/ml:/usr/local/MATLAB/R2024b/toolbox/coder/coderapp/types/ml:/usr/local/MATLAB/R2024b/toolbox/coder/coderapp/utils/ml:/usr/local/MATLAB/R2024b/toolbox/coder/compile:/usr/local/MATLAB/R2024b/toolbox/coder/compile/codebuildtests:/usr/local/MATLAB/R2024b/toolbox/coder/compile/tools/registry:/usr/local/MATLAB/R2024b/toolbox/coder/connectivity:/usr/local/MATLAB/R2024b/toolbox/coder/connectivity_core:/usr/local/MATLAB/R2024b/toolbox/coder/connectivity_targetservices/common:/usr/local/MATLAB/R2024b/toolbox/coder/connectivity_targetservices/connectivityconfig:/usr/local/MATLAB/R2024b/toolbox/coder/connectivity_targetservices/dispatch:/usr/local/MATLAB/R2024b/toolbox/coder/connectivity_targetservices/targetframework:/usr/local/MATLAB/R2024b/toolbox/coder/coverage:/usr/local/MATLAB/R2024b/toolbox/coder/embeddedcoder:/usr/local/MATLAB/R2024b/toolbox/coder/embeddedcoder_templates:/usr/local/MATLAB/R2024b/toolbox/coder/extmode/xcp_classic_trig/plugin/m:/usr/local/MATLAB/R2024b/toolbox/coder/float2fixed:/usr/local/MATLAB/R2024b/toolbox/coder/float2fixed/custom_logger:/usr/local/MATLAB/R2024b/toolbox/coder/float2fixed/demos:/usr/local/MATLAB/R2024b/toolbox/coder/float2fixed/dmm_emlauthoring:/usr/local/MATLAB/R2024b/toolbox/coder/float2fixed/float2fixed_apps/fixptconfig_app/ml:/usr/local/MATLAB/R2024b/toolbox/coder/float2fixed/mathlib:/usr/local/MATLAB/R2024b/toolbox/coder/foundation:/usr/local/MATLAB/R2024b/toolbox/coder/foundation/build/tools/registry:/usr/local/MATLAB/R2024b/toolbox/coder/foundation/templates:/usr/local/MATLAB/R2024b/toolbox/coder/foundation/tfl:/usr/local/MATLAB/R2024b/toolbox/coder/foundation/tfl/AUTOSAR/AUTOSAR4p0/IFL:/usr/local/MATLAB/R2024b/toolbox/coder/foundation/tfl/AUTOSAR/AUTOSAR4p0/IFX:/usr/local/MATLAB/R2024b/toolbox/coder/foundation/tfl/AUTOSAR/shared:/usr/local/MATLAB/R2024b/toolbox/coder/foundation/tfl/gui:/usr/local/MATLAB/R2024b/toolbox/coder/half:/usr/local/MATLAB/R2024b/toolbox/coder/halide_codegen/build_tools:/usr/local/MATLAB/R2024b/toolbox/coder/matlabcoder:/usr/local/MATLAB/R2024b/toolbox/coder/matlabcoder/templates:/usr/local/MATLAB/R2024b/toolbox/coder/mdf/m:/usr/local/MATLAB/R2024b/toolbox/coder/objectives:/usr/local/MATLAB/R2024b/toolbox/coder/profile:/usr/local/MATLAB/R2024b/toolbox/coder/rtiostream:/usr/local/MATLAB/R2024b/toolbox/coder/simulinkcoder:/usr/local/MATLAB/R2024b/toolbox/coder/simulinkcoder/cgv/API:/usr/local/MATLAB/R2024b/toolbox/coder/simulinkcoder/targets:/usr/local/MATLAB/R2024b/toolbox/coder/simulinkcoder/toolstripHW/m:/usr/local/MATLAB/R2024b/toolbox/coder/simulinkcoder/xil/toolstrip/m:/usr/local/MATLAB/R2024b/toolbox/coder/simulinkcoder_app/code_perspective:/usr/local/MATLAB/R2024b/toolbox/coder/simulinkcoder_app/core:/usr/local/MATLAB/R2024b/toolbox/coder/simulinkcoder_app/dplDlg:/usr/local/MATLAB/R2024b/toolbox/coder/simulinkcoder_app/quick_start/m:/usr/local/MATLAB/R2024b/toolbox/coder/simulinkcoder_app/report:/usr/local/MATLAB/R2024b/toolbox/coder/simulinkcoder_app/sdp/m:/usr/local/MATLAB/R2024b/toolbox/coder/simulinkcoder_app/slcoderRpt:/usr/local/MATLAB/R2024b/toolbox/coder/simulinkcoder_app/slfpc:/usr/local/MATLAB/R2024b/toolbox/coder/simulinkcoder_app/toolstrip/m:/usr/local/MATLAB/R2024b/toolbox/coder/simulinkcoder_app/ui:/usr/local/MATLAB/R2024b/toolbox/coder/simulinkcoder_core:/usr/local/MATLAB/R2024b/toolbox/coder/simulinkcoder_core/templates:/usr/local/MATLAB/R2024b/toolbox/coder/simulinkcoder_obfuscator:/usr/local/MATLAB/R2024b/toolbox/coder/simulinkcoder_preview/m:/usr/local/MATLAB/R2024b/toolbox/coder/simulinkcoder_targetframework/connection:/usr/local/MATLAB/R2024b/toolbox/coder/simulinkcoder_targetframework/toolstrip/matlab:/usr/local/MATLAB/R2024b/toolbox/coder/sl_coderdictionary_softwareplatform:/usr/local/MATLAB/R2024b/toolbox/coder/sl_coderdictionary_softwareplatform/swarch:/usr/local/MATLAB/R2024b/toolbox/coder/sltoolstrip_base_hw/m:/usr/local/MATLAB/R2024b/toolbox/coder/targetreg:/usr/local/MATLAB/R2024b/toolbox/coder/trace:/usr/local/MATLAB/R2024b/toolbox/coder/wcet:/usr/local/MATLAB/R2024b/toolbox/coder/wizard:/usr/local/MATLAB/R2024b/toolbox/coder/xcp:/usr/local/MATLAB/R2024b/toolbox/coder/xcp_on_can:/usr/local/MATLAB/R2024b/toolbox/coder/xrel:/usr/local/MATLAB/R2024b/toolbox/coder/xrelimport:/usr/local/MATLAB/R2024b/toolbox/collaboration/comments/mi/m:/usr/local/MATLAB/R2024b/toolbox/comm/cdma2000:/usr/local/MATLAB/R2024b/toolbox/comm/comm:/usr/local/MATLAB/R2024b/toolbox/comm/comm/compiled:/usr/local/MATLAB/R2024b/toolbox/comm/comm/wirelessappcontainer:/usr/local/MATLAB/R2024b/toolbox/comm/commdeprecated:/usr/local/MATLAB/R2024b/toolbox/comm/commhdloptimized:/usr/local/MATLAB/R2024b/toolbox/comm/commhdloptimized/commutilities:/usr/local/MATLAB/R2024b/toolbox/comm/commutilities:/usr/local/MATLAB/R2024b/toolbox/comm/commutilities/comminit:/usr/local/MATLAB/R2024b/toolbox/comm/commutilities/commmex:/usr/local/MATLAB/R2024b/toolbox/comm/lrwpan:/usr/local/MATLAB/R2024b/toolbox/comm/templates:/usr/local/MATLAB/R2024b/toolbox/comm/webscopes/constellationdiagramutils:/usr/local/MATLAB/R2024b/toolbox/comm/webscopes/mlconstellationdiagram:/usr/local/MATLAB/R2024b/toolbox/comm/webscopes/slconstellationdiagram:/usr/local/MATLAB/R2024b/toolbox/comparisons/binary/mldesktop/matlab:/usr/local/MATLAB/R2024b/toolbox/comparisons/cfb/action_ui/matlab:/usr/local/MATLAB/R2024b/toolbox/comparisons/folder/mldesktop/matlab:/usr/local/MATLAB/R2024b/toolbox/comparisons/highlight/matlab:/usr/local/MATLAB/R2024b/toolbox/comparisons/mat/mldesktop/matlab:/usr/local/MATLAB/R2024b/toolbox/comparisons/mldesktop/matlab:/usr/local/MATLAB/R2024b/toolbox/comparisons/prefspanel:/usr/local/MATLAB/R2024b/toolbox/comparisons/rptgen_shared:/usr/local/MATLAB/R2024b/toolbox/comparisons/text/mldesktop/matlab:/usr/local/MATLAB/R2024b/toolbox/comparisons/text/view/rptgen/matlab:/usr/local/MATLAB/R2024b/toolbox/comparisons/tree/mlutils:/usr/local/MATLAB/R2024b/toolbox/comparisons/tree/view/rptgen:/usr/local/MATLAB/R2024b/toolbox/comparisons/view/edits:/usr/local/MATLAB/R2024b/toolbox/comparisons/view/mf0edits:/usr/local/MATLAB/R2024b/toolbox/comparisons/view/web3/matlab:/usr/local/MATLAB/R2024b/toolbox/comparisons/zip/mldesktop/matlab:/usr/local/MATLAB/R2024b/toolbox/comparisons/zip/utilities/matlab:/usr/local/MATLAB/R2024b/toolbox/compiler:/usr/local/MATLAB/R2024b/toolbox/compiler/cli/build:/usr/local/MATLAB/R2024b/toolbox/compiler/cli/deploymentScript:/usr/local/MATLAB/R2024b/toolbox/compiler/cli/deploymentScriptProject:/usr/local/MATLAB/R2024b/toolbox/compiler/cli/legacy_project:/usr/local/MATLAB/R2024b/toolbox/compiler/cli/package:/usr/local/MATLAB/R2024b/toolbox/compiler/java:/usr/local/MATLAB/R2024b/toolbox/compiler/java/apps:/usr/local/MATLAB/R2024b/toolbox/compiler/mlhadoop:/usr/local/MATLAB/R2024b/toolbox/compiler/mlspark/mlspark:/usr/local/MATLAB/R2024b/toolbox/compiler/mltall:/usr/local/MATLAB/R2024b/toolbox/compiler/preferences:/usr/local/MATLAB/R2024b/toolbox/compiler/ui/excel/utils:/usr/local/MATLAB/R2024b/toolbox/compiler/ui/package_dialog:/usr/local/MATLAB/R2024b/toolbox/compiler/ui/share_window/m:/usr/local/MATLAB/R2024b/toolbox/compiler/ui/standalone/m:/usr/local/MATLAB/R2024b/toolbox/compiler/ui/standalone/utils:/usr/local/MATLAB/R2024b/toolbox/compiler/ui/webapp/m:/usr/local/MATLAB/R2024b/toolbox/compiler/ui/webapp/utils:/usr/local/MATLAB/R2024b/toolbox/compiler/userinfo:/usr/local/MATLAB/R2024b/toolbox/compiler/utils/utils:/usr/local/MATLAB/R2024b/toolbox/compiler_sdk:/usr/local/MATLAB/R2024b/toolbox/compiler_sdk/cli/build:/usr/local/MATLAB/R2024b/toolbox/compiler_sdk/cli/deploymentScript:/usr/local/MATLAB/R2024b/toolbox/compiler_sdk/cli/deploymentScriptProject:/usr/local/MATLAB/R2024b/toolbox/compiler_sdk/cli/legacy_project:/usr/local/MATLAB/R2024b/toolbox/compiler_sdk/cli/package:/usr/local/MATLAB/R2024b/toolbox/compiler_sdk/getting_started/src:/usr/local/MATLAB/R2024b/toolbox/compiler_sdk/java:/usr/local/MATLAB/R2024b/toolbox/compiler_sdk/matlabtest/core:/usr/local/MATLAB/R2024b/toolbox/compiler_sdk/matlabtest/cpp:/usr/local/MATLAB/R2024b/toolbox/compiler_sdk/matlabtest/dotnet:/usr/local/MATLAB/R2024b/toolbox/compiler_sdk/matlabtest/java:/usr/local/MATLAB/R2024b/toolbox/compiler_sdk/matlabtest/mps:/usr/local/MATLAB/R2024b/toolbox/compiler_sdk/matlabtest/python:/usr/local/MATLAB/R2024b/toolbox/compiler_sdk/mpsdevandtestfrontend/utils:/usr/local/MATLAB/R2024b/toolbox/compiler_sdk/samples/cli/src:/usr/local/MATLAB/R2024b/toolbox/compiler_sdk/samples/cppdata/src:/usr/local/MATLAB/R2024b/toolbox/compiler_sdk/samples/cppmwarray/src:/usr/local/MATLAB/R2024b/toolbox/compiler_sdk/samples/dotnet/src:/usr/local/MATLAB/R2024b/toolbox/compiler_sdk/samples/dotnet_mda/src:/usr/local/MATLAB/R2024b/toolbox/compiler_sdk/samples/interface/src:/usr/local/MATLAB/R2024b/toolbox/compiler_sdk/samples/java/src:/usr/local/MATLAB/R2024b/toolbox/compiler_sdk/samples/mparser/src:/usr/local/MATLAB/R2024b/toolbox/compiler_sdk/samples/python/src:/usr/local/MATLAB/R2024b/toolbox/compiler_sdk/samples/stub:/usr/local/MATLAB/R2024b/toolbox/compiler_sdk/ui/cSharedLibrary/utils:/usr/local/MATLAB/R2024b/toolbox/compiler_sdk/ui/com/utils:/usr/local/MATLAB/R2024b/toolbox/compiler_sdk/ui/cppSharedLibrary/utils:/usr/local/MATLAB/R2024b/toolbox/compiler_sdk/ui/dotnet/utils:/usr/local/MATLAB/R2024b/toolbox/compiler_sdk/ui/java/utils:/usr/local/MATLAB/R2024b/toolbox/compiler_sdk/ui/mps/utils:/usr/local/MATLAB/R2024b/toolbox/compiler_sdk/ui/python/utils:/usr/local/MATLAB/R2024b/toolbox/compiler_sdk/ui/sample_generation/utils:/usr/local/MATLAB/R2024b/toolbox/control/control:/usr/local/MATLAB/R2024b/toolbox/control/ctrlanalysis:/usr/local/MATLAB/R2024b/toolbox/control/ctrldesign:/usr/local/MATLAB/R2024b/toolbox/control/ctrlguis:/usr/local/MATLAB/R2024b/toolbox/control/ctrlmodels:/usr/local/MATLAB/R2024b/toolbox/control/ctrlobsolete:/usr/local/MATLAB/R2024b/toolbox/control/ctrlplots:/usr/local/MATLAB/R2024b/toolbox/control/ctrlutil:/usr/local/MATLAB/R2024b/toolbox/curvefit/curvefit:/usr/local/MATLAB/R2024b/toolbox/curvefit/curvefitterapp:/usr/local/MATLAB/R2024b/toolbox/curvefit/splines:/usr/local/MATLAB/R2024b/toolbox/da:/usr/local/MATLAB/R2024b/toolbox/dam/simulate:/usr/local/MATLAB/R2024b/toolbox/dashboard/algorithms/ml:/usr/local/MATLAB/R2024b/toolbox/dashboard/api/ml:/usr/local/MATLAB/R2024b/toolbox/dashboard/datamodel_ml/ml:/usr/local/MATLAB/R2024b/toolbox/dashboard/fxp_algorithm_factory:/usr/local/MATLAB/R2024b/toolbox/dashboard/layout/ml:/usr/local/MATLAB/R2024b/toolbox/dashboard/mtest_algorithm_factory/ml:/usr/local/MATLAB/R2024b/toolbox/dashboard/report_service/ml:/usr/local/MATLAB/R2024b/toolbox/dashboard/sl_algorithm_factory/ml:/usr/local/MATLAB/R2024b/toolbox/dashboard/slcov_algorithm_factory:/usr/local/MATLAB/R2024b/toolbox/dashboard/slreq_algorithm_factory:/usr/local/MATLAB/R2024b/toolbox/dashboard/sltest_algorithm_factory:/usr/local/MATLAB/R2024b/toolbox/dashboard/ui/ml:/usr/local/MATLAB/R2024b/toolbox/dashboard/uidatamodel/ml:/usr/local/MATLAB/R2024b/toolbox/database/database:/usr/local/MATLAB/R2024b/toolbox/database/database/cassandra:/usr/local/MATLAB/R2024b/toolbox/database/database/jdbc:/usr/local/MATLAB/R2024b/toolbox/database/database/mariadb:/usr/local/MATLAB/R2024b/toolbox/database/database/mongo:/usr/local/MATLAB/R2024b/toolbox/database/database/neo4j:/usr/local/MATLAB/R2024b/toolbox/database/database/odbc:/usr/local/MATLAB/R2024b/toolbox/database/database/orm:/usr/local/MATLAB/R2024b/toolbox/database/database/postgresql:/usr/local/MATLAB/R2024b/toolbox/database/database/shared:/usr/local/MATLAB/R2024b/toolbox/database/database/sqlite:/usr/local/MATLAB/R2024b/toolbox/database/dbdata:/usr/local/MATLAB/R2024b/toolbox/datafeed/datafeed:/usr/local/MATLAB/R2024b/toolbox/datafeed/datafeeddemos:/usr/local/MATLAB/R2024b/toolbox/datafeed/dfgui:/usr/local/MATLAB/R2024b/toolbox/ddom:/usr/local/MATLAB/R2024b/toolbox/dds/adaptor:/usr/local/MATLAB/R2024b/toolbox/dds/adaptor/ddsLibraryPlugin:/usr/local/MATLAB/R2024b/toolbox/dds/coder:/usr/local/MATLAB/R2024b/toolbox/dds/datamodel:/usr/local/MATLAB/R2024b/toolbox/dds/dds:/usr/local/MATLAB/R2024b/toolbox/dds/src:/usr/local/MATLAB/R2024b/toolbox/dds/toolstrip:/usr/local/MATLAB/R2024b/toolbox/dds/vendor/eprosima:/usr/local/MATLAB/R2024b/toolbox/dds/vendor/rti:/usr/local/MATLAB/R2024b/toolbox/dds/vendor/rtimicro:/usr/local/MATLAB/R2024b/toolbox/deployment/common/gui/utils:/usr/local/MATLAB/R2024b/toolbox/deployment/common/gui/utils/deploymentScript:/usr/local/MATLAB/R2024b/toolbox/deployment/common/gui/utils/deploymentScriptProject:/usr/local/MATLAB/R2024b/toolbox/deployment/toolbox/gui/matlab:/usr/local/MATLAB/R2024b/toolbox/design_cost_estimation:/usr/local/MATLAB/R2024b/toolbox/diagram/editor/examples/multieditors/m:/usr/local/MATLAB/R2024b/toolbox/diagram/editor/web/m:/usr/local/MATLAB/R2024b/toolbox/diagram/layout/treelayout:/usr/local/MATLAB/R2024b/toolbox/diagram/markup:/usr/local/MATLAB/R2024b/toolbox/dig/src:/usr/local/MATLAB/R2024b/toolbox/dnnfpga/dnnfpga:/usr/local/MATLAB/R2024b/toolbox/dnnfpga/dnnfpga/dlhdlutils:/usr/local/MATLAB/R2024b/toolbox/dnnfpga/dnnfpga/lib:/usr/local/MATLAB/R2024b/toolbox/dnnfpga/dnnfpga/networks:/usr/local/MATLAB/R2024b/toolbox/dnnfpga/dnnfpga/networks/dnnfpga_digits:/usr/local/MATLAB/R2024b/toolbox/dnnfpga/registration:/usr/local/MATLAB/R2024b/toolbox/driving/driving:/usr/local/MATLAB/R2024b/toolbox/driving/drivingdata:/usr/local/MATLAB/R2024b/toolbox/driving/drivingutilities:/usr/local/MATLAB/R2024b/toolbox/dsp/dsp:/usr/local/MATLAB/R2024b/toolbox/dsp/dsp/compiled:/usr/local/MATLAB/R2024b/toolbox/dsp/dsp/dsputilities:/usr/local/MATLAB/R2024b/toolbox/dsp/dsp/dsputilities/crl:/usr/local/MATLAB/R2024b/toolbox/dsp/dsp/dsputilities/dspinit:/usr/local/MATLAB/R2024b/toolbox/dsp/dsp/dsputilities/dspmex:/usr/local/MATLAB/R2024b/toolbox/dsp/dsp/dsputilities/dsptoc:/usr/local/MATLAB/R2024b/toolbox/dsp/dsp/dsputilities/dsptransform:/usr/local/MATLAB/R2024b/toolbox/dsp/dsp/dsputilities/dspupgrade:/usr/local/MATLAB/R2024b/toolbox/dsp/dsp/samples:/usr/local/MATLAB/R2024b/toolbox/dsp/dsphdl:/usr/local/MATLAB/R2024b/toolbox/dsp/dsphdl/dsputilities:/usr/local/MATLAB/R2024b/toolbox/dsp/filterdesign:/usr/local/MATLAB/R2024b/toolbox/dsp/halidesim:/usr/local/MATLAB/R2024b/toolbox/dsp/templates:/usr/local/MATLAB/R2024b/toolbox/dsphdl/dsphdl:/usr/local/MATLAB/R2024b/toolbox/dsphdl/dsphdlutilities:/usr/local/MATLAB/R2024b/toolbox/dsphdl/dsphdlutilities/dsphdltransform:/usr/local/MATLAB/R2024b/toolbox/econ/econ:/usr/local/MATLAB/R2024b/toolbox/econ/econGUIs:/usr/local/MATLAB/R2024b/toolbox/econ/econdata:/usr/local/MATLAB/R2024b/toolbox/edalink/edalink/edalink:/usr/local/MATLAB/R2024b/toolbox/edalink/edalink/hdlverifier:/usr/local/MATLAB/R2024b/toolbox/edalink/edalink/sltoolstrip/m:/usr/local/MATLAB/R2024b/toolbox/edalink/extensions/incisive/incisive:/usr/local/MATLAB/R2024b/toolbox/edalink/extensions/modelsim/modelsim:/usr/local/MATLAB/R2024b/toolbox/edalink/extensions/vcs/vcs:/usr/local/MATLAB/R2024b/toolbox/edalink/extensions/vivadosim/vivadosim:/usr/local/MATLAB/R2024b/toolbox/edalink/foundation/hdllink:/usr/local/MATLAB/R2024b/toolbox/eml/eml:/usr/local/MATLAB/R2024b/toolbox/evolutions/evolutions:/usr/local/MATLAB/R2024b/toolbox/experiments/custom_templates/experiments:/usr/local/MATLAB/R2024b/toolbox/experiments/dl_templates/experiments:/usr/local/MATLAB/R2024b/toolbox/experiments/experiments:/usr/local/MATLAB/R2024b/toolbox/experiments/matlab_templates/experiments:/usr/local/MATLAB/R2024b/toolbox/finance/bigdata:/usr/local/MATLAB/R2024b/toolbox/finance/calendar:/usr/local/MATLAB/R2024b/toolbox/finance/finance:/usr/local/MATLAB/R2024b/toolbox/finance/finsupport:/usr/local/MATLAB/R2024b/toolbox/finance/ftseries:/usr/local/MATLAB/R2024b/toolbox/fininst/fininst:/usr/local/MATLAB/R2024b/toolbox/fininst/fininstguis:/usr/local/MATLAB/R2024b/toolbox/fixedpoint/embeddedlib/embeddedlib:/usr/local/MATLAB/R2024b/toolbox/fixedpoint/embeddedlibhdl:/usr/local/MATLAB/R2024b/toolbox/fixedpoint/fixedpoint:/usr/local/MATLAB/R2024b/toolbox/fixedpoint/fixedpointconverter:/usr/local/MATLAB/R2024b/toolbox/fixedpoint/fixedpointtool:/usr/local/MATLAB/R2024b/toolbox/fixedpoint/fixedpointtool/contextmenus:/usr/local/MATLAB/R2024b/toolbox/fixedpoint/simulinkfixedpoint:/usr/local/MATLAB/R2024b/toolbox/fixedpoint/ui/nedFunctionApproximationTool:/usr/local/MATLAB/R2024b/toolbox/fixedpoint/ui/nedNumericTypeScope:/usr/local/MATLAB/R2024b/toolbox/fixedpoint/ui/nedParameterAnalyzer:/usr/local/MATLAB/R2024b/toolbox/fixedpoint/ui/nedVisuals:/usr/local/MATLAB/R2024b/toolbox/fixpoint:/usr/local/MATLAB/R2024b/toolbox/fixpoint/fixed:/usr/local/MATLAB/R2024b/toolbox/fixpoint/fxptopo:/usr/local/MATLAB/R2024b/toolbox/fixpoint/restorepoint:/usr/local/MATLAB/R2024b/toolbox/fusion/core/fusion:/usr/local/MATLAB/R2024b/toolbox/fusion/core/fusiondata:/usr/local/MATLAB/R2024b/toolbox/fusion/simulink:/usr/local/MATLAB/R2024b/toolbox/fuzzy/fuzzy:/usr/local/MATLAB/R2024b/toolbox/fuzzy/fuzzyutil:/usr/local/MATLAB/R2024b/toolbox/geoweb/geoweb:/usr/local/MATLAB/R2024b/toolbox/globaloptim:/usr/local/MATLAB/R2024b/toolbox/globaloptim/globaloptim:/usr/local/MATLAB/R2024b/toolbox/gpucoder/gpucoder:/usr/local/MATLAB/R2024b/toolbox/gpucoder/gpucoder/foundation/build:/usr/local/MATLAB/R2024b/toolbox/gpucoder/profiler/ml:/usr/local/MATLAB/R2024b/toolbox/gpucoder_dl_targets_src:/usr/local/MATLAB/R2024b/toolbox/hdlcoder/boards:/usr/local/MATLAB/R2024b/toolbox/hdlcoder/boards/amd:/usr/local/MATLAB/R2024b/toolbox/hdlcoder/boards/intel:/usr/local/MATLAB/R2024b/toolbox/hdlcoder/contextmenus:/usr/local/MATLAB/R2024b/toolbox/hdlcoder/hdlcoder:/usr/local/MATLAB/R2024b/toolbox/hdlcoder/hdlcoder/hdlutils:/usr/local/MATLAB/R2024b/toolbox/hdlcoder/hdlcoder/hdlwa:/usr/local/MATLAB/R2024b/toolbox/hdlcoder/hdlcoder_apps/hdlconfig_app/ml:/usr/local/MATLAB/R2024b/toolbox/hdlcoder/hdlcommon:/usr/local/MATLAB/R2024b/toolbox/hdlcoder/hdlcommon/modelcheckeradvisor:/usr/local/MATLAB/R2024b/toolbox/hdlcoder/hdldesignpatterns:/usr/local/MATLAB/R2024b/toolbox/hdlcoder/hdldesignpatterns/matlabhdl:/usr/local/MATLAB/R2024b/toolbox/hdlcoder/hdldesignpatterns/simulinkhdl:/usr/local/MATLAB/R2024b/toolbox/hdlcoder/hdldesignpatterns/simulinkhdl/framebased:/usr/local/MATLAB/R2024b/toolbox/hdlcoder/hdllib/ml_lib:/usr/local/MATLAB/R2024b/toolbox/hdlcoder/hdllib/sl_lib:/usr/local/MATLAB/R2024b/toolbox/hdlcoder/hdlslrt:/usr/local/MATLAB/R2024b/toolbox/hdlcoder/hdlssc:/usr/local/MATLAB/R2024b/toolbox/hdlcoder/hdlssc/hdlsscworkflowadvisor:/usr/local/MATLAB/R2024b/toolbox/hdlcoder/hdlssc/hil_blocks:/usr/local/MATLAB/R2024b/toolbox/hdlcoder/hdlssc/hil_examples:/usr/local/MATLAB/R2024b/toolbox/hdlcoder/hdlssc/hil_lib:/usr/local/MATLAB/R2024b/toolbox/hdlcoder/matlabhdlcoder:/usr/local/MATLAB/R2024b/toolbox/hdlcoder/matlabhdlcoder/matlabhdlcoder:/usr/local/MATLAB/R2024b/toolbox/hdlcoder/slhdltemplates:/usr/local/MATLAB/R2024b/toolbox/hdlcoder/toolstrip/mfiles:/usr/local/MATLAB/R2024b/toolbox/hdlfilter/hdlfilter:/usr/local/MATLAB/R2024b/toolbox/hdlverifier/dpigenerator:/usr/local/MATLAB/R2024b/toolbox/hdlverifier/dpigenerator/configset/derived:/usr/local/MATLAB/R2024b/toolbox/hdlverifier/dpigenerator/configset/m:/usr/local/MATLAB/R2024b/toolbox/hdlverifier/dpigenerator/dpiblklib:/usr/local/MATLAB/R2024b/toolbox/hdlverifier/dpigenerator/rtw:/usr/local/MATLAB/R2024b/toolbox/hdlverifier/dpigenerator/src:/usr/local/MATLAB/R2024b/toolbox/hdlverifier/dpigenerator/src/dpiblkscb:/usr/local/MATLAB/R2024b/toolbox/hdlverifier/uvmgenerator:/usr/local/MATLAB/R2024b/toolbox/hdlverifier/uvmgenerator/src:/usr/local/MATLAB/R2024b/toolbox/icomm/apps/provider:/usr/local/MATLAB/R2024b/toolbox/icomm/icomm:/usr/local/MATLAB/R2024b/toolbox/icomm/icomm/icommblks:/usr/local/MATLAB/R2024b/toolbox/icomm/modbus/apps/modbusapplet:/usr/local/MATLAB/R2024b/toolbox/icomm/modbus/modbus:/usr/local/MATLAB/R2024b/toolbox/icomm/modbus/modbus/modbusblks:/usr/local/MATLAB/R2024b/toolbox/icomm/modbus/modbus/modbusblks/configset/derived:/usr/local/MATLAB/R2024b/toolbox/icomm/mqtt/mqtt:/usr/local/MATLAB/R2024b/toolbox/icomm/opc/opc:/usr/local/MATLAB/R2024b/toolbox/icomm/opc/opcblks:/usr/local/MATLAB/R2024b/toolbox/icomm/opc/opcblks/configset/derived:/usr/local/MATLAB/R2024b/toolbox/icomm/opc/opcblks/configset/m:/usr/local/MATLAB/R2024b/toolbox/icomm/opc/opcblks/opcblks:/usr/local/MATLAB/R2024b/toolbox/icomm/opc/opcblks/opcmasks:/usr/local/MATLAB/R2024b/toolbox/icomm/opc/opcblks/opcuablks:/usr/local/MATLAB/R2024b/toolbox/icomm/opc/opcgui:/usr/local/MATLAB/R2024b/toolbox/icomm/osisoftpi/piclient:/usr/local/MATLAB/R2024b/toolbox/idelink/extensions/ticcs:/usr/local/MATLAB/R2024b/toolbox/idelink/extensions/ticcs/ccsblks:/usr/local/MATLAB/R2024b/toolbox/idelink/foundation:/usr/local/MATLAB/R2024b/toolbox/idelink/foundation/errorhandler:/usr/local/MATLAB/R2024b/toolbox/idelink/foundation/hookpoints:/usr/local/MATLAB/R2024b/toolbox/idelink/foundation/pjtgenerator:/usr/local/MATLAB/R2024b/toolbox/idelink/foundation/pjtgenerator/blks:/usr/local/MATLAB/R2024b/toolbox/idelink/foundation/pjtgenerator/blks_common:/usr/local/MATLAB/R2024b/toolbox/idelink/foundation/pjtgenerator/blks_common/masks:/usr/local/MATLAB/R2024b/toolbox/idelink/foundation/pjtgenerator/blks_common/tlc_c:/usr/local/MATLAB/R2024b/toolbox/idelink/foundation/pjtgenerator/mdlinfo:/usr/local/MATLAB/R2024b/toolbox/idelink/foundation/pjtgenerator/profiler:/usr/local/MATLAB/R2024b/toolbox/idelink/foundation/pjtgenerator/rtw:/usr/local/MATLAB/R2024b/toolbox/idelink/foundation/pjtgenerator/tgtpref2:/usr/local/MATLAB/R2024b/toolbox/idelink/foundation/util:/usr/local/MATLAB/R2024b/toolbox/ident/ident:/usr/local/MATLAB/R2024b/toolbox/ident/idguis:/usr/local/MATLAB/R2024b/toolbox/ident/idhelp:/usr/local/MATLAB/R2024b/toolbox/ident/idobsolete:/usr/local/MATLAB/R2024b/toolbox/ident/idrecursive:/usr/local/MATLAB/R2024b/toolbox/ident/idutils:/usr/local/MATLAB/R2024b/toolbox/ident/nlident:/usr/local/MATLAB/R2024b/toolbox/images/colorspaces:/usr/local/MATLAB/R2024b/toolbox/images/deep:/usr/local/MATLAB/R2024b/toolbox/images/images:/usr/local/MATLAB/R2024b/toolbox/images/imdata:/usr/local/MATLAB/R2024b/toolbox/images/imuitools:/usr/local/MATLAB/R2024b/toolbox/images/iptformats:/usr/local/MATLAB/R2024b/toolbox/images/iptutils:/usr/local/MATLAB/R2024b/toolbox/images/ui/core:/usr/local/MATLAB/R2024b/toolbox/imaq/apps/imaqapplet:/usr/local/MATLAB/R2024b/toolbox/imaq/apps/provider:/usr/local/MATLAB/R2024b/toolbox/imaq/imaq:/usr/local/MATLAB/R2024b/toolbox/imaq/imaqblks/imaqblks:/usr/local/MATLAB/R2024b/toolbox/imaq/imaqblks/imaqmasks:/usr/local/MATLAB/R2024b/toolbox/imaq/imaqblks/imaqmex:/usr/local/MATLAB/R2024b/toolbox/imaq/preferences:/usr/local/MATLAB/R2024b/toolbox/instrument/apps/ividevapp:/usr/local/MATLAB/R2024b/toolbox/instrument/apps/udpportapp:/usr/local/MATLAB/R2024b/toolbox/instrument/apps/visadevapp:/usr/local/MATLAB/R2024b/toolbox/instrument/drivers/icdevice:/usr/local/MATLAB/R2024b/toolbox/instrument/drivers/ividev:/usr/local/MATLAB/R2024b/toolbox/instrument/instrument:/usr/local/MATLAB/R2024b/toolbox/instrument/instrumentblks:/usr/local/MATLAB/R2024b/toolbox/instrument/instrumentblks/instrumentblks:/usr/local/MATLAB/R2024b/toolbox/instrument/instrumentblks/instrumentmasks:/usr/local/MATLAB/R2024b/toolbox/instrument/instrumentblks/instrumentmex:/usr/local/MATLAB/R2024b/toolbox/instrument/interface/rfmx:/usr/local/MATLAB/R2024b/toolbox/instrument/interface/serialcontroller:/usr/local/MATLAB/R2024b/toolbox/instrument/interface/tcpserver:/usr/local/MATLAB/R2024b/toolbox/instrument/interface/udpport:/usr/local/MATLAB/R2024b/toolbox/instrument/interface/visalib:/usr/local/MATLAB/R2024b/toolbox/learning/builder/core/m:/usr/local/MATLAB/R2024b/toolbox/learning/builder/course/m:/usr/local/MATLAB/R2024b/toolbox/learning/simulink/core/m:/usr/local/MATLAB/R2024b/toolbox/lidar/lidar:/usr/local/MATLAB/R2024b/toolbox/lidar/lidarUtilities:/usr/local/MATLAB/R2024b/toolbox/lidar/lidardata:/usr/local/MATLAB/R2024b/toolbox/lidar/lidardata/networks/networks:/usr/local/MATLAB/R2024b/toolbox/lidar/lidarformats:/usr/local/MATLAB/R2024b/toolbox/lidar/lidarsimulink:/usr/local/MATLAB/R2024b/toolbox/livecode/comparisons/mldesktop/matlab:/usr/local/MATLAB/R2024b/toolbox/liveio:/usr/local/MATLAB/R2024b/toolbox/lte/lte:/usr/local/MATLAB/R2024b/toolbox/lte/umts:/usr/local/MATLAB/R2024b/toolbox/lutdesigner:/usr/local/MATLAB/R2024b/toolbox/map/graphics:/usr/local/MATLAB/R2024b/toolbox/map/map:/usr/local/MATLAB/R2024b/toolbox/map/mapdata:/usr/local/MATLAB/R2024b/toolbox/map/mapdisp:/usr/local/MATLAB/R2024b/toolbox/map/mapformats:/usr/local/MATLAB/R2024b/toolbox/map/mapgeodesy:/usr/local/MATLAB/R2024b/toolbox/map/mapobsolete:/usr/local/MATLAB/R2024b/toolbox/map/mapproj:/usr/local/MATLAB/R2024b/toolbox/map/maputils:/usr/local/MATLAB/R2024b/toolbox/map/vectortiles:/usr/local/MATLAB/R2024b/toolbox/matlabcoder_dl_targets_src:/usr/local/MATLAB/R2024b/toolbox/matlabtest/compiler/core:/usr/local/MATLAB/R2024b/toolbox/matlabtest/matlabcoder/testframework:/usr/local/MATLAB/R2024b/toolbox/matlabtest/matlabtest:/usr/local/MATLAB/R2024b/toolbox/matlabtest/qualitydashboard/qualitydashboard:/usr/local/MATLAB/R2024b/toolbox/matlabtest/qualitydashboard/qualitydashboard_panel/matlab:/usr/local/MATLAB/R2024b/toolbox/matlabtest/testcreation/core:/usr/local/MATLAB/R2024b/toolbox/matlabtest/testcreation/ui/matlab:/usr/local/MATLAB/R2024b/toolbox/matlabtest/testframework/baselines:/usr/local/MATLAB/R2024b/toolbox/matlabtest/testframework/unittest/codecov:/usr/local/MATLAB/R2024b/toolbox/matlabtest/testframework/unittest/core:/usr/local/MATLAB/R2024b/toolbox/matlabtest/testframework/unittest/dependency:/usr/local/MATLAB/R2024b/toolbox/matlabtest/testframework/unittest/nwise:/usr/local/MATLAB/R2024b/toolbox/matlabtest/testframework/unittest/requirements:/usr/local/MATLAB/R2024b/toolbox/matlabtest/testframework/unittest/standalonecoveragereport:/usr/local/MATLAB/R2024b/toolbox/matlabtest/testmanager/datamodel/datamodel:/usr/local/MATLAB/R2024b/toolbox/matlabtest/testmanager/mtestmanager:/usr/local/MATLAB/R2024b/toolbox/mbc/mbc:/usr/local/MATLAB/R2024b/toolbox/mbc/mbcdata:/usr/local/MATLAB/R2024b/toolbox/mbc/mbcdesign:/usr/local/MATLAB/R2024b/toolbox/mbc/mbcexpr:/usr/local/MATLAB/R2024b/toolbox/mbc/mbcguitools:/usr/local/MATLAB/R2024b/toolbox/mbc/mbclayouts:/usr/local/MATLAB/R2024b/toolbox/mbc/mbcmodels:/usr/local/MATLAB/R2024b/toolbox/mbc/mbcsimulink:/usr/local/MATLAB/R2024b/toolbox/mbc/mbctools:/usr/local/MATLAB/R2024b/toolbox/mbc/mbcview:/usr/local/MATLAB/R2024b/toolbox/mcb:/usr/local/MATLAB/R2024b/toolbox/mcb/mcbblocks:/usr/local/MATLAB/R2024b/toolbox/mcb/mcbhdl:/usr/local/MATLAB/R2024b/toolbox/mcb/utils:/usr/local/MATLAB/R2024b/toolbox/mdom/appcontainer/m:/usr/local/MATLAB/R2024b/toolbox/medical/apps:/usr/local/MATLAB/R2024b/toolbox/medical/fileIO:/usr/local/MATLAB/R2024b/toolbox/medical/medical:/usr/local/MATLAB/R2024b/toolbox/mlreportgen/rpt2api:/usr/local/MATLAB/R2024b/toolbox/mpc/mpc:/usr/local/MATLAB/R2024b/toolbox/mpc/mpcguis:/usr/local/MATLAB/R2024b/toolbox/mpc/mpcobsolete:/usr/local/MATLAB/R2024b/toolbox/mpc/mpcutils:/usr/local/MATLAB/R2024b/toolbox/mps/discovery:/usr/local/MATLAB/R2024b/toolbox/mps/json:/usr/local/MATLAB/R2024b/toolbox/mps/metrics:/usr/local/MATLAB/R2024b/toolbox/mps/persistence:/usr/local/MATLAB/R2024b/toolbox/msblks/helperfiles:/usr/local/MATLAB/R2024b/toolbox/msblks/msblks:/usr/local/MATLAB/R2024b/toolbox/msblks/msblksmex:/usr/local/MATLAB/R2024b/toolbox/msblks/msblksutilities:/usr/local/MATLAB/R2024b/toolbox/msblks/thirdParty/deltaSigmaTbx:/usr/local/MATLAB/R2024b/toolbox/multisim:/usr/local/MATLAB/R2024b/toolbox/nav/deep:/usr/local/MATLAB/R2024b/toolbox/nav/deep/data:/usr/local/MATLAB/R2024b/toolbox/nav/geometry/matlab:/usr/local/MATLAB/R2024b/toolbox/nav/nav:/usr/local/MATLAB/R2024b/toolbox/nav/navplan/core:/usr/local/MATLAB/R2024b/toolbox/nav/navplan/core/data:/usr/local/MATLAB/R2024b/toolbox/nav/navsimulink:/usr/local/MATLAB/R2024b/toolbox/nav/navsimulink/blockicons:/usr/local/MATLAB/R2024b/toolbox/nav/navslam/core:/usr/local/MATLAB/R2024b/toolbox/nav/navslamapp:/usr/local/MATLAB/R2024b/toolbox/nav/positioning/core/positioning:/usr/local/MATLAB/R2024b/toolbox/nav/positioning/core/positioningdata:/usr/local/MATLAB/R2024b/toolbox/nnet:/usr/local/MATLAB/R2024b/toolbox/nnet/cnn:/usr/local/MATLAB/R2024b/toolbox/nnet/cnn/spkgs:/usr/local/MATLAB/R2024b/toolbox/nnet/deep/deep:/usr/local/MATLAB/R2024b/toolbox/nnet/deep_blocks:/usr/local/MATLAB/R2024b/toolbox/nnet/deep_blocks/blockicons:/usr/local/MATLAB/R2024b/toolbox/nnet/deepapp/3p:/usr/local/MATLAB/R2024b/toolbox/nnet/deepapp/core:/usr/local/MATLAB/R2024b/toolbox/nnet/deepcoder:/usr/local/MATLAB/R2024b/toolbox/nnet/deepmonitor:/usr/local/MATLAB/R2024b/toolbox/nnet/deeptrain:/usr/local/MATLAB/R2024b/toolbox/nnet/deepviz/core:/usr/local/MATLAB/R2024b/toolbox/nnet/deepviz/lime/core:/usr/local/MATLAB/R2024b/toolbox/nnet/layerblocks:/usr/local/MATLAB/R2024b/toolbox/nnet/layerblocks/sharedlibraries/deeplearningconvolution:/usr/local/MATLAB/R2024b/toolbox/nnet/nnapp:/usr/local/MATLAB/R2024b/toolbox/nnet/nncontrol:/usr/local/MATLAB/R2024b/toolbox/nnet/nncontrol/blocks:/usr/local/MATLAB/R2024b/toolbox/nnet/nndata:/usr/local/MATLAB/R2024b/toolbox/nnet/nndemos/nndatasets:/usr/local/MATLAB/R2024b/toolbox/nnet/nnet:/usr/local/MATLAB/R2024b/toolbox/nnet/nnguis:/usr/local/MATLAB/R2024b/toolbox/nnet/nnobsolete:/usr/local/MATLAB/R2024b/toolbox/nnet/nnshallow/nncore:/usr/local/MATLAB/R2024b/toolbox/nnet/nnshallow/nncore/nnadapt:/usr/local/MATLAB/R2024b/toolbox/nnet/nnshallow/nncore/nndatafun:/usr/local/MATLAB/R2024b/toolbox/nnet/nnshallow/nncore/nnderivative:/usr/local/MATLAB/R2024b/toolbox/nnet/nnshallow/nncore/nndistance:/usr/local/MATLAB/R2024b/toolbox/nnet/nnshallow/nncore/nndivision:/usr/local/MATLAB/R2024b/toolbox/nnet/nnshallow/nncore/nninitlayer:/usr/local/MATLAB/R2024b/toolbox/nnet/nnshallow/nncore/nninitnetwork:/usr/local/MATLAB/R2024b/toolbox/nnet/nnshallow/nncore/nninitweight:/usr/local/MATLAB/R2024b/toolbox/nnet/nnshallow/nncore/nnlearn:/usr/local/MATLAB/R2024b/toolbox/nnet/nnshallow/nncore/nnnetfun:/usr/local/MATLAB/R2024b/toolbox/nnet/nnshallow/nncore/nnnetinput:/usr/local/MATLAB/R2024b/toolbox/nnet/nnshallow/nncore/nnnetwork:/usr/local/MATLAB/R2024b/toolbox/nnet/nnshallow/nncore/nnperformance:/usr/local/MATLAB/R2024b/toolbox/nnet/nnshallow/nncore/nnplot:/usr/local/MATLAB/R2024b/toolbox/nnet/nnshallow/nncore/nnprocess:/usr/local/MATLAB/R2024b/toolbox/nnet/nnshallow/nncore/nnsearch:/usr/local/MATLAB/R2024b/toolbox/nnet/nnshallow/nncore/nntopology:/usr/local/MATLAB/R2024b/toolbox/nnet/nnshallow/nncore/nntrain:/usr/local/MATLAB/R2024b/toolbox/nnet/nnshallow/nncore/nntransfer:/usr/local/MATLAB/R2024b/toolbox/nnet/nnshallow/nncore/nnweight:/usr/local/MATLAB/R2024b/toolbox/nnet/nnutils:/usr/local/MATLAB/R2024b/toolbox/nnet/nnviz:/usr/local/MATLAB/R2024b/toolbox/nnet/pycoexblks:/usr/local/MATLAB/R2024b/toolbox/nnet/pycoexblks/icons:/usr/local/MATLAB/R2024b/toolbox/optim:/usr/local/MATLAB/R2024b/toolbox/optim/gui:/usr/local/MATLAB/R2024b/toolbox/optim/optim:/usr/local/MATLAB/R2024b/toolbox/optim/problemdef:/usr/local/MATLAB/R2024b/toolbox/padv_gr/padv_ui_stub/ml:/usr/local/MATLAB/R2024b/toolbox/parallel/array/array:/usr/local/MATLAB/R2024b/toolbox/parallel/array/distributed:/usr/local/MATLAB/R2024b/toolbox/parallel/array/distributed/util:/usr/local/MATLAB/R2024b/toolbox/parallel/bigdata:/usr/local/MATLAB/R2024b/toolbox/parallel/cluster:/usr/local/MATLAB/R2024b/toolbox/parallel/cluster/cluster:/usr/local/MATLAB/R2024b/toolbox/parallel/cluster/discovery:/usr/local/MATLAB/R2024b/toolbox/parallel/cluster/generic/plugins:/usr/local/MATLAB/R2024b/toolbox/parallel/distcomp:/usr/local/MATLAB/R2024b/toolbox/parallel/gpu/gpu:/usr/local/MATLAB/R2024b/toolbox/parallel/gpuapi/gpuapi:/usr/local/MATLAB/R2024b/toolbox/parallel/lang:/usr/local/MATLAB/R2024b/toolbox/parallel/mpi/mpi:/usr/local/MATLAB/R2024b/toolbox/parallel/mpi/profilerviewer:/usr/local/MATLAB/R2024b/toolbox/parallel/parallel:/usr/local/MATLAB/R2024b/toolbox/parallel/ui/bundle/matlab:/usr/local/MATLAB/R2024b/toolbox/parallel/ui/preferences/src:/usr/local/MATLAB/R2024b/toolbox/parallel/ui/runasbatchjob/matlab:/usr/local/MATLAB/R2024b/toolbox/parallel/user:/usr/local/MATLAB/R2024b/toolbox/pde/pde:/usr/local/MATLAB/R2024b/toolbox/pde/pde/pdedata:/usr/local/MATLAB/R2024b/toolbox/phased/phased:/usr/local/MATLAB/R2024b/toolbox/phased/phased/webscopes/slatiwebscope:/usr/local/MATLAB/R2024b/toolbox/phased/phased/webscopes/sldtiwebscope:/usr/local/MATLAB/R2024b/toolbox/phased/phased/webscopes/slrtiwebscope:/usr/local/MATLAB/R2024b/toolbox/phased/phasedapps:/usr/local/MATLAB/R2024b/toolbox/physmod/battery/builder/m:/usr/local/MATLAB/R2024b/toolbox/physmod/battery/library/m:/usr/local/MATLAB/R2024b/toolbox/physmod/battery/library/m/simscapebattery:/usr/local/MATLAB/R2024b/toolbox/physmod/battery/parts/m:/usr/local/MATLAB/R2024b/toolbox/physmod/battery/shared_library/m:/usr/local/MATLAB/R2024b/toolbox/physmod/battery/shared_parts/m:/usr/local/MATLAB/R2024b/toolbox/physmod/battery/shared_utils/m:/usr/local/MATLAB/R2024b/toolbox/physmod/battery/sli/m:/usr/local/MATLAB/R2024b/toolbox/physmod/battery/templates:/usr/local/MATLAB/R2024b/toolbox/physmod/battery/utils/m:/usr/local/MATLAB/R2024b/toolbox/physmod/common/cgir/eml/m:/usr/local/MATLAB/R2024b/toolbox/physmod/common/data2/mli/m:/usr/local/MATLAB/R2024b/toolbox/physmod/common/data2/mli/n:/usr/local/MATLAB/R2024b/toolbox/physmod/common/dataservices/gui/m:/usr/local/MATLAB/R2024b/toolbox/physmod/common/dataservices/mli/m:/usr/local/MATLAB/R2024b/toolbox/physmod/common/dataservices/sli/m:/usr/local/MATLAB/R2024b/toolbox/physmod/common/deploy/sli/m:/usr/local/MATLAB/R2024b/toolbox/physmod/common/exec/mli/m:/usr/local/MATLAB/R2024b/toolbox/physmod/common/external/library/m:/usr/local/MATLAB/R2024b/toolbox/physmod/common/external/mli/m:/usr/local/MATLAB/R2024b/toolbox/physmod/common/foundation/mli/m:/usr/local/MATLAB/R2024b/toolbox/physmod/common/foundation/sli/m:/usr/local/MATLAB/R2024b/toolbox/physmod/common/gl/mli/m:/usr/local/MATLAB/R2024b/toolbox/physmod/common/gl/sli/m:/usr/local/MATLAB/R2024b/toolbox/physmod/common/graph_importer/app/m:/usr/local/MATLAB/R2024b/toolbox/physmod/common/gui/mli/m:/usr/local/MATLAB/R2024b/toolbox/physmod/common/instrumentation/mli/m:/usr/local/MATLAB/R2024b/toolbox/physmod/common/instrumentation/sdi/m:/usr/local/MATLAB/R2024b/toolbox/physmod/common/instrumentation/sli/m:/usr/local/MATLAB/R2024b/toolbox/physmod/common/logging/mli/m:/usr/local/MATLAB/R2024b/toolbox/physmod/common/logging/sli/m:/usr/local/MATLAB/R2024b/toolbox/physmod/common/logging2/mli/m:/usr/local/MATLAB/R2024b/toolbox/physmod/common/op/mli/m:/usr/local/MATLAB/R2024b/toolbox/physmod/common/parts/mli/m:/usr/local/MATLAB/R2024b/toolbox/physmod/common/parts/sli/m:/usr/local/MATLAB/R2024b/toolbox/physmod/common/pi/sli/m:/usr/local/MATLAB/R2024b/toolbox/physmod/common/state/gui/m:/usr/local/MATLAB/R2024b/toolbox/physmod/common/state/gui/m/toolstrip:/usr/local/MATLAB/R2024b/toolbox/physmod/common/state/mli/m:/usr/local/MATLAB/R2024b/toolbox/physmod/common/statistics/gui/m:/usr/local/MATLAB/R2024b/toolbox/physmod/common/statistics/mli/m:/usr/local/MATLAB/R2024b/toolbox/physmod/common/statistics/sli/m:/usr/local/MATLAB/R2024b/toolbox/physmod/common/ui/mli/m:/usr/local/MATLAB/R2024b/toolbox/physmod/common/units2/mli/m:/usr/local/MATLAB/R2024b/toolbox/physmod/elec/analysis/m:/usr/local/MATLAB/R2024b/toolbox/physmod/elec/assistant/m:/usr/local/MATLAB/R2024b/toolbox/physmod/elec/assistant/m/convclass:/usr/local/MATLAB/R2024b/toolbox/physmod/elec/assistant/m/convclass/conv:/usr/local/MATLAB/R2024b/toolbox/physmod/elec/assistant/m/convclass/conv/sl:/usr/local/MATLAB/R2024b/toolbox/physmod/elec/assistant/m/utils:/usr/local/MATLAB/R2024b/toolbox/physmod/elec/cosimulation/m:/usr/local/MATLAB/R2024b/toolbox/physmod/elec/cosimulation/sfun:/usr/local/MATLAB/R2024b/toolbox/physmod/elec/fpgahil/fpgahil_lib/library:/usr/local/MATLAB/R2024b/toolbox/physmod/elec/library/m:/usr/local/MATLAB/R2024b/toolbox/physmod/elec/parts/m:/usr/local/MATLAB/R2024b/toolbox/physmod/elec/sli/m:/usr/local/MATLAB/R2024b/toolbox/physmod/elec/sli/sfun:/usr/local/MATLAB/R2024b/toolbox/physmod/elec/sparameters/m:/usr/local/MATLAB/R2024b/toolbox/physmod/elec/spice/mosfets/m:/usr/local/MATLAB/R2024b/toolbox/physmod/elec/spice2ssc/m:/usr/local/MATLAB/R2024b/toolbox/physmod/elec/stubs/elec/m:/usr/local/MATLAB/R2024b/toolbox/physmod/elec/stubs/pe/m:/usr/local/MATLAB/R2024b/toolbox/physmod/elec/stubs/pe/sli:/usr/local/MATLAB/R2024b/toolbox/physmod/elec/supporting_files:/usr/local/MATLAB/R2024b/toolbox/physmod/elec/supporting_files/documentation_models:/usr/local/MATLAB/R2024b/toolbox/physmod/elec/supporting_files/example_libraries:/usr/local/MATLAB/R2024b/toolbox/physmod/elec/templates:/usr/local/MATLAB/R2024b/toolbox/physmod/elec/utils/m:/usr/local/MATLAB/R2024b/toolbox/physmod/fluids/library/m:/usr/local/MATLAB/R2024b/toolbox/physmod/fluids/parts/m:/usr/local/MATLAB/R2024b/toolbox/physmod/fluids/supporting_files/documentation_models:/usr/local/MATLAB/R2024b/toolbox/physmod/fluids/supporting_files/example_libraries:/usr/local/MATLAB/R2024b/toolbox/physmod/fluids/utils:/usr/local/MATLAB/R2024b/toolbox/physmod/ne_sli/ne_sli:/usr/local/MATLAB/R2024b/toolbox/physmod/pm_sli/pm_sli:/usr/local/MATLAB/R2024b/toolbox/physmod/powersys/DR/DR:/usr/local/MATLAB/R2024b/toolbox/physmod/powersys/facts/facts:/usr/local/MATLAB/R2024b/toolbox/physmod/powersys/library:/usr/local/MATLAB/R2024b/toolbox/physmod/powersys/library/control:/usr/local/MATLAB/R2024b/toolbox/physmod/powersys/library/drives:/usr/local/MATLAB/R2024b/toolbox/physmod/powersys/library/electricalmachines:/usr/local/MATLAB/R2024b/toolbox/physmod/powersys/library/passives:/usr/local/MATLAB/R2024b/toolbox/physmod/powersys/library/powerelectronics:/usr/local/MATLAB/R2024b/toolbox/physmod/powersys/library/powergridelements:/usr/local/MATLAB/R2024b/toolbox/physmod/powersys/library/sensorsandmeasurements:/usr/local/MATLAB/R2024b/toolbox/physmod/powersys/library/sources:/usr/local/MATLAB/R2024b/toolbox/physmod/powersys/library/utilities:/usr/local/MATLAB/R2024b/toolbox/physmod/powersys/powersys:/usr/local/MATLAB/R2024b/toolbox/physmod/powersys/supporting_files/documentation_models:/usr/local/MATLAB/R2024b/toolbox/physmod/powersys/templates:/usr/local/MATLAB/R2024b/toolbox/physmod/sdl/advisor/m:/usr/local/MATLAB/R2024b/toolbox/physmod/sdl/classic/sdl:/usr/local/MATLAB/R2024b/toolbox/physmod/sdl/classic/sdl/blockIcons:/usr/local/MATLAB/R2024b/toolbox/physmod/sdl/library/sdl:/usr/local/MATLAB/R2024b/toolbox/physmod/sdl/parts/m:/usr/local/MATLAB/R2024b/toolbox/physmod/sdl/supporting_files/documentation_models:/usr/local/MATLAB/R2024b/toolbox/physmod/sh/advisor/m:/usr/local/MATLAB/R2024b/toolbox/physmod/sh/sh:/usr/local/MATLAB/R2024b/toolbox/physmod/sh/sh_legacy:/usr/local/MATLAB/R2024b/toolbox/physmod/sh/utils:/usr/local/MATLAB/R2024b/toolbox/physmod/simrf/m:/usr/local/MATLAB/R2024b/toolbox/physmod/simscape/advisor/m:/usr/local/MATLAB/R2024b/toolbox/physmod/simscape/build/m:/usr/local/MATLAB/R2024b/toolbox/physmod/simscape/compiler/mli/m:/usr/local/MATLAB/R2024b/toolbox/physmod/simscape/compiler/patterns/m:/usr/local/MATLAB/R2024b/toolbox/physmod/simscape/compiler/sli/m:/usr/local/MATLAB/R2024b/toolbox/physmod/simscape/configset/derived:/usr/local/MATLAB/R2024b/toolbox/physmod/simscape/configset/m:/usr/local/MATLAB/R2024b/toolbox/physmod/simscape/couplers/m:/usr/local/MATLAB/R2024b/toolbox/physmod/simscape/coverage/sli/m:/usr/local/MATLAB/R2024b/toolbox/physmod/simscape/dependency/m:/usr/local/MATLAB/R2024b/toolbox/physmod/simscape/domains/mli/m:/usr/local/MATLAB/R2024b/toolbox/physmod/simscape/engine/library/m:/usr/local/MATLAB/R2024b/toolbox/physmod/simscape/engine/mli/m:/usr/local/MATLAB/R2024b/toolbox/physmod/simscape/engine/sli/m:/usr/local/MATLAB/R2024b/toolbox/physmod/simscape/fault/m:/usr/local/MATLAB/R2024b/toolbox/physmod/simscape/foundation/simscape:/usr/local/MATLAB/R2024b/toolbox/physmod/simscape/gui/mli/m:/usr/local/MATLAB/R2024b/toolbox/physmod/simscape/language_editor/matlab:/usr/local/MATLAB/R2024b/toolbox/physmod/simscape/library/m:/usr/local/MATLAB/R2024b/toolbox/physmod/simscape/library/m/physical_signal_legacy:/usr/local/MATLAB/R2024b/toolbox/physmod/simscape/logging/sli/m:/usr/local/MATLAB/R2024b/toolbox/physmod/simscape/op/m:/usr/local/MATLAB/R2024b/toolbox/physmod/simscape/parts/sli/m:/usr/local/MATLAB/R2024b/toolbox/physmod/simscape/probe/m:/usr/local/MATLAB/R2024b/toolbox/physmod/simscape/reg/m:/usr/local/MATLAB/R2024b/toolbox/physmod/simscape/simscape/m:/usr/local/MATLAB/R2024b/toolbox/physmod/simscape/sl_test/sli/m:/usr/local/MATLAB/R2024b/toolbox/physmod/simscape/sl_toolstrip/m:/usr/local/MATLAB/R2024b/toolbox/physmod/simscape/smt/m:/usr/local/MATLAB/R2024b/toolbox/physmod/simscape/solver/m:/usr/local/MATLAB/R2024b/toolbox/physmod/simscape/sschdl/model_xform/m:/usr/local/MATLAB/R2024b/toolbox/physmod/simscape/statistics/sli/m:/usr/local/MATLAB/R2024b/toolbox/physmod/simscape/supporting_files/documentation_models:/usr/local/MATLAB/R2024b/toolbox/physmod/simscape/supporting_files/example_libraries:/usr/local/MATLAB/R2024b/toolbox/physmod/simscape/templates:/usr/local/MATLAB/R2024b/toolbox/physmod/simscape/utils/m:/usr/local/MATLAB/R2024b/toolbox/physmod/sm/core/m:/usr/local/MATLAB/R2024b/toolbox/physmod/sm/foundation/mech:/usr/local/MATLAB/R2024b/toolbox/physmod/sm/gui/app/m:/usr/local/MATLAB/R2024b/toolbox/physmod/sm/gui/gfx/m:/usr/local/MATLAB/R2024b/toolbox/physmod/sm/import/m:/usr/local/MATLAB/R2024b/toolbox/physmod/sm/local/m:/usr/local/MATLAB/R2024b/toolbox/physmod/sm/mli/m:/usr/local/MATLAB/R2024b/toolbox/physmod/sm/sli/m:/usr/local/MATLAB/R2024b/toolbox/physmod/sm/sli/m/dialog:/usr/local/MATLAB/R2024b/toolbox/physmod/sm/sli/m/dialog/toolstrip:/usr/local/MATLAB/R2024b/toolbox/physmod/sm/sli/m/mechanics_explorer:/usr/local/MATLAB/R2024b/toolbox/physmod/sm/sli/m/mechanics_explorer/toolstrip:/usr/local/MATLAB/R2024b/toolbox/physmod/sm/sli/m/romui:/usr/local/MATLAB/R2024b/toolbox/physmod/sm/sli/m/romui/toolstrip:/usr/local/MATLAB/R2024b/toolbox/physmod/sm/sli_configset/derived:/usr/local/MATLAB/R2024b/toolbox/physmod/sm/sli_configset/m:/usr/local/MATLAB/R2024b/toolbox/physmod/sm/sm/m:/usr/local/MATLAB/R2024b/toolbox/physmod/sm/ssci/continuous/sli/m:/usr/local/MATLAB/R2024b/toolbox/physmod/sm/ssci/discrete/sli/m:/usr/local/MATLAB/R2024b/toolbox/physmod/sm/templates/m:/usr/local/MATLAB/R2024b/toolbox/physmod/sps/sps:/usr/local/MATLAB/R2024b/toolbox/plccoder/configset/derived:/usr/local/MATLAB/R2024b/toolbox/plccoder/configset/m:/usr/local/MATLAB/R2024b/toolbox/plccoder/modeladvisor:/usr/local/MATLAB/R2024b/toolbox/plccoder/plccoder:/usr/local/MATLAB/R2024b/toolbox/plccoder/plccoder/ladderlogic/code:/usr/local/MATLAB/R2024b/toolbox/plccoder/plccoder/ladderlogic/plclib/studio5000:/usr/local/MATLAB/R2024b/toolbox/plccoder/plccoder/ladderlogic/targets/studio5000:/usr/local/MATLAB/R2024b/toolbox/plccoder/plccoder/slcontextmenus:/usr/local/MATLAB/R2024b/toolbox/plccoder/plugins/gxworks3:/usr/local/MATLAB/R2024b/toolbox/plccoder/plugins/indraworks:/usr/local/MATLAB/R2024b/toolbox/plccoder/plugins/omron:/usr/local/MATLAB/R2024b/toolbox/plccoder/plugins/omron_iec61131_10:/usr/local/MATLAB/R2024b/toolbox/plccoder/plugins/plcopen:/usr/local/MATLAB/R2024b/toolbox/plccoder/plugins/rslogix5000:/usr/local/MATLAB/R2024b/toolbox/plccoder/plugins/rslogix5000_routine:/usr/local/MATLAB/R2024b/toolbox/plccoder/plugins/schneider:/usr/local/MATLAB/R2024b/toolbox/plccoder/plugins/selectron:/usr/local/MATLAB/R2024b/toolbox/plccoder/plugins/stone:/usr/local/MATLAB/R2024b/toolbox/plccoder/plugins/studio5000:/usr/local/MATLAB/R2024b/toolbox/plccoder/plugins/studio5000_routine:/usr/local/MATLAB/R2024b/toolbox/predmaint/predmaint:/usr/local/MATLAB/R2024b/toolbox/predmaint/predmaintdemos:/usr/local/MATLAB/R2024b/toolbox/predmaint/predmaintguis:/usr/local/MATLAB/R2024b/toolbox/qualkits/common/project_extension/ml:/usr/local/MATLAB/R2024b/toolbox/radar/radar:/usr/local/MATLAB/R2024b/toolbox/radar/radarapps:/usr/local/MATLAB/R2024b/toolbox/radar/webapps/radardesigner/src:/usr/local/MATLAB/R2024b/toolbox/realtime:/usr/local/MATLAB/R2024b/toolbox/realtime/realtime:/usr/local/MATLAB/R2024b/toolbox/realtime/realtime/rtw:/usr/local/MATLAB/R2024b/toolbox/rf/rf:/usr/local/MATLAB/R2024b/toolbox/rf/rfnetparamfiles:/usr/local/MATLAB/R2024b/toolbox/rf/thirdparty:/usr/local/MATLAB/R2024b/toolbox/rfblks/rfblks/rfblks:/usr/local/MATLAB/R2024b/toolbox/rfblks/rfblks/rfblksmasks:/usr/local/MATLAB/R2024b/toolbox/rfblks/rfblks/rfblksmex:/usr/local/MATLAB/R2024b/toolbox/rfpcb/rfpcb:/usr/local/MATLAB/R2024b/toolbox/rfpcb/rfpcb/rfpcbfilterfiles:/usr/local/MATLAB/R2024b/toolbox/rfpcb/rfpcb/rfpcbutilities:/usr/local/MATLAB/R2024b/toolbox/rfpcb/rfpcb/shapes:/usr/local/MATLAB/R2024b/toolbox/risk/bigdata:/usr/local/MATLAB/R2024b/toolbox/risk/risk:/usr/local/MATLAB/R2024b/toolbox/risk/riskdata:/usr/local/MATLAB/R2024b/toolbox/rl/rl:/usr/local/MATLAB/R2024b/toolbox/rl/rl/simulink:/usr/local/MATLAB/R2024b/toolbox/rl/rl/simulink/libs:/usr/local/MATLAB/R2024b/toolbox/rl/rl/simulink/models:/usr/local/MATLAB/R2024b/toolbox/rl/rlobsolete:/usr/local/MATLAB/R2024b/toolbox/robotics/ikdesigner:/usr/local/MATLAB/R2024b/toolbox/robotics/manipdeep:/usr/local/MATLAB/R2024b/toolbox/robotics/manipfcn/matlab:/usr/local/MATLAB/R2024b/toolbox/robotics/navinterface:/usr/local/MATLAB/R2024b/toolbox/robotics/robotgazebo/gazebomatlab:/usr/local/MATLAB/R2024b/toolbox/robotics/robothoops:/usr/local/MATLAB/R2024b/toolbox/robotics/robotics:/usr/local/MATLAB/R2024b/toolbox/robotics/robotmanip:/usr/local/MATLAB/R2024b/toolbox/robotics/robotmanip/xacro2urdf/bin:/usr/local/MATLAB/R2024b/toolbox/robotics/robotmobile:/usr/local/MATLAB/R2024b/toolbox/robotics/robotmodels/exampleRobots/iiwa_description/urdf:/usr/local/MATLAB/R2024b/toolbox/robotics/robotmodels/exampleRobots/sawyer_description/urdf:/usr/local/MATLAB/R2024b/toolbox/robotics/robotmodels/robotModels/robotmat:/usr/local/MATLAB/R2024b/toolbox/robotics/robotmodels/robotModels/roboturdf:/usr/local/MATLAB/R2024b/toolbox/robotics/robotscenario:/usr/local/MATLAB/R2024b/toolbox/robotics/robotsimulink/robotslgazebo:/usr/local/MATLAB/R2024b/toolbox/robotics/robotsimulink/robotslmanip:/usr/local/MATLAB/R2024b/toolbox/robotics/robotsimulink/robotslmobile:/usr/local/MATLAB/R2024b/toolbox/robotics/robotsimulink/robotslsim3d:/usr/local/MATLAB/R2024b/toolbox/robotics/robotsimulink/simulinklibrary:/usr/local/MATLAB/R2024b/toolbox/robotics/robotsimulink/simulinklibrary/blockicons:/usr/local/MATLAB/R2024b/toolbox/robust/rctlmi:/usr/local/MATLAB/R2024b/toolbox/robust/rctobsolete/lmi:/usr/local/MATLAB/R2024b/toolbox/robust/rctobsolete/mutools/commands:/usr/local/MATLAB/R2024b/toolbox/robust/rctobsolete/mutools/subs:/usr/local/MATLAB/R2024b/toolbox/robust/rctobsolete/robust:/usr/local/MATLAB/R2024b/toolbox/robust/rctutil:/usr/local/MATLAB/R2024b/toolbox/robust/robust:/usr/local/MATLAB/R2024b/toolbox/ros/codertarget:/usr/local/MATLAB/R2024b/toolbox/ros/codertarget/registry:/usr/local/MATLAB/R2024b/toolbox/ros/codertarget/ros2:/usr/local/MATLAB/R2024b/toolbox/ros/codertarget/tlc:/usr/local/MATLAB/R2024b/toolbox/ros/mlros2:/usr/local/MATLAB/R2024b/toolbox/ros/mlros2/registry:/usr/local/MATLAB/R2024b/toolbox/ros/mlros2/rmwconfigui:/usr/local/MATLAB/R2024b/toolbox/ros/mlroscpp:/usr/local/MATLAB/R2024b/toolbox/ros/mlroscpp/toolchain:/usr/local/MATLAB/R2024b/toolbox/ros/mlroscpp/util:/usr/local/MATLAB/R2024b/toolbox/ros/preferences:/usr/local/MATLAB/R2024b/toolbox/ros/ros:/usr/local/MATLAB/R2024b/toolbox/ros/rosgraphapp:/usr/local/MATLAB/R2024b/toolbox/ros/slros2:/usr/local/MATLAB/R2024b/toolbox/ros/slroscpp:/usr/local/MATLAB/R2024b/toolbox/ros/sltoolstrip/m:/usr/local/MATLAB/R2024b/toolbox/ros/utilities:/usr/local/MATLAB/R2024b/toolbox/ros/utilities/icons:/usr/local/MATLAB/R2024b/toolbox/ros/visualizationapp:/usr/local/MATLAB/R2024b/toolbox/rptgen/rptgen:/usr/local/MATLAB/R2024b/toolbox/rptgen/rptgen/udd:/usr/local/MATLAB/R2024b/toolbox/rptgen/rptgendemos:/usr/local/MATLAB/R2024b/toolbox/rptgen/xmlcomp:/usr/local/MATLAB/R2024b/toolbox/rptgenext/rptgenext:/usr/local/MATLAB/R2024b/toolbox/rptgenext/rptgenext/udd:/usr/local/MATLAB/R2024b/toolbox/rptgenext/rptgenextdemos:/usr/local/MATLAB/R2024b/toolbox/rptgenext/slxmlcomp:/usr/local/MATLAB/R2024b/toolbox/safety/block_libraries:/usr/local/MATLAB/R2024b/toolbox/safety/fault_dashboard/m:/usr/local/MATLAB/R2024b/toolbox/safety/manager/m:/usr/local/MATLAB/R2024b/toolbox/safety/manager/templates:/usr/local/MATLAB/R2024b/toolbox/safety/safety:/usr/local/MATLAB/R2024b/toolbox/satcom/satcom:/usr/local/MATLAB/R2024b/toolbox/satcom/satcomsimulink:/usr/local/MATLAB/R2024b/toolbox/scenariomodeler/m:/usr/local/MATLAB/R2024b/toolbox/sequencediagram/execution/m:/usr/local/MATLAB/R2024b/toolbox/sequencediagram/execution_library:/usr/local/MATLAB/R2024b/toolbox/sequencediagram/sl/m:/usr/local/MATLAB/R2024b/toolbox/sequencediagram/web/m:/usr/local/MATLAB/R2024b/toolbox/serdes/amicodegen:/usr/local/MATLAB/R2024b/toolbox/serdes/amicodegen/registry:/usr/local/MATLAB/R2024b/toolbox/serdes/helperfiles:/usr/local/MATLAB/R2024b/toolbox/serdes/serdes:/usr/local/MATLAB/R2024b/toolbox/serdes/upgradeadvisor:/usr/local/MATLAB/R2024b/toolbox/shared/adlib:/usr/local/MATLAB/R2024b/toolbox/shared/advisor:/usr/local/MATLAB/R2024b/toolbox/shared/aeroblks/aeroblks:/usr/local/MATLAB/R2024b/toolbox/shared/aeroblks/aeroblks/aeroblksutilities:/usr/local/MATLAB/R2024b/toolbox/shared/aeroblks/aeroblks/aeroblksutilities/fwdTransformations:/usr/local/MATLAB/R2024b/toolbox/shared/aerospace/core_blocks:/usr/local/MATLAB/R2024b/toolbox/shared/aerospace/quaternion_math:/usr/local/MATLAB/R2024b/toolbox/shared/appdes/bind:/usr/local/MATLAB/R2024b/toolbox/shared/appdes/services:/usr/local/MATLAB/R2024b/toolbox/shared/asam/a2l:/usr/local/MATLAB/R2024b/toolbox/shared/asam/cdfx:/usr/local/MATLAB/R2024b/toolbox/shared/asam/mcd2mc/package:/usr/local/MATLAB/R2024b/toolbox/shared/asam/mdf:/usr/local/MATLAB/R2024b/toolbox/shared/asynciolib:/usr/local/MATLAB/R2024b/toolbox/shared/audio/signallabeler:/usr/local/MATLAB/R2024b/toolbox/shared/autonomous/autonomouslib:/usr/local/MATLAB/R2024b/toolbox/shared/autonomous/maplib:/usr/local/MATLAB/R2024b/toolbox/shared/autonomous/maplib/internal:/usr/local/MATLAB/R2024b/toolbox/shared/autosar/arxml/fileio/reader:/usr/local/MATLAB/R2024b/toolbox/shared/basemaps:/usr/local/MATLAB/R2024b/toolbox/shared/bigdata/bigdata:/usr/local/MATLAB/R2024b/toolbox/shared/blelib:/usr/local/MATLAB/R2024b/toolbox/shared/buildings:/usr/local/MATLAB/R2024b/toolbox/shared/can:/usr/local/MATLAB/R2024b/toolbox/shared/can/canblks:/usr/local/MATLAB/R2024b/toolbox/shared/can/canmasks:/usr/local/MATLAB/R2024b/toolbox/shared/can/canmex:/usr/local/MATLAB/R2024b/toolbox/shared/cgxe/cgxe:/usr/local/MATLAB/R2024b/toolbox/shared/channel:/usr/local/MATLAB/R2024b/toolbox/shared/channel/raytracing:/usr/local/MATLAB/R2024b/toolbox/shared/channel/rfprop:/usr/local/MATLAB/R2024b/toolbox/shared/channel/terrain:/usr/local/MATLAB/R2024b/toolbox/shared/cmlink/api:/usr/local/MATLAB/R2024b/toolbox/shared/cmlink/preferences:/usr/local/MATLAB/R2024b/toolbox/shared/cmlink/view/action_web/cmlink-action-ui/matlab:/usr/local/MATLAB/R2024b/toolbox/shared/cmlink/view/editor/addons/git_blame_addon/matlab:/usr/local/MATLAB/R2024b/toolbox/shared/cmlink/view/ui/matlab:/usr/local/MATLAB/R2024b/toolbox/shared/codeinstrum/codeinstrum_mi/codeinstrum_mi:/usr/local/MATLAB/R2024b/toolbox/shared/codeinstrum/core_mi/core_mi:/usr/local/MATLAB/R2024b/toolbox/shared/coder/coder:/usr/local/MATLAB/R2024b/toolbox/shared/coder/coder/lib:/usr/local/MATLAB/R2024b/toolbox/shared/coder/reportinfo:/usr/local/MATLAB/R2024b/toolbox/shared/codergui/codergui:/usr/local/MATLAB/R2024b/toolbox/shared/comm_msblks_serdes/comm_msblks_serdes:/usr/local/MATLAB/R2024b/toolbox/shared/comm_msblks_serdes/deprecated:/usr/local/MATLAB/R2024b/toolbox/shared/comm_msblks_serdes/scopes:/usr/local/MATLAB/R2024b/toolbox/shared/comm_msblks_serdes/sleyediagram:/usr/local/MATLAB/R2024b/toolbox/shared/comm_msblks_serdes/utilities:/usr/local/MATLAB/R2024b/toolbox/shared/comm_sysmod/comm_sysmod:/usr/local/MATLAB/R2024b/toolbox/shared/comm_sysmod/pcap:/usr/local/MATLAB/R2024b/toolbox/shared/comparisons:/usr/local/MATLAB/R2024b/toolbox/shared/computils/mockfilechooser/matlab:/usr/local/MATLAB/R2024b/toolbox/shared/configset:/usr/local/MATLAB/R2024b/toolbox/shared/configset_model/configset:/usr/local/MATLAB/R2024b/toolbox/shared/configset_view/m:/usr/local/MATLAB/R2024b/toolbox/shared/controllib/engine:/usr/local/MATLAB/R2024b/toolbox/shared/controllib/engine/blocks:/usr/local/MATLAB/R2024b/toolbox/shared/controllib/engine/numerics:/usr/local/MATLAB/R2024b/toolbox/shared/controllib/engine/optim:/usr/local/MATLAB/R2024b/toolbox/shared/controllib/engine/options:/usr/local/MATLAB/R2024b/toolbox/shared/controllib/estimation:/usr/local/MATLAB/R2024b/toolbox/shared/controllib/general:/usr/local/MATLAB/R2024b/toolbox/shared/controllib/graphics:/usr/local/MATLAB/R2024b/toolbox/shared/controllib/graphics/plotoptions:/usr/local/MATLAB/R2024b/toolbox/shared/controllib/graphics/utils:/usr/local/MATLAB/R2024b/toolbox/shared/controllib/requirements:/usr/local/MATLAB/R2024b/toolbox/shared/coordinates/coordinates_ml:/usr/local/MATLAB/R2024b/toolbox/shared/cosimservice/ddg:/usr/local/MATLAB/R2024b/toolbox/shared/cosimservice/src/cosimcompiledportattribs:/usr/local/MATLAB/R2024b/toolbox/shared/cosimservice/src/cosimutils:/usr/local/MATLAB/R2024b/toolbox/shared/coverage_data/coverage_data:/usr/local/MATLAB/R2024b/toolbox/shared/curvefitlib:/usr/local/MATLAB/R2024b/toolbox/shared/cxxfe/parser_mi/parser_mi:/usr/local/MATLAB/R2024b/toolbox/shared/cxxfe_mi/cxxfe_mi:/usr/local/MATLAB/R2024b/toolbox/shared/dastudio:/usr/local/MATLAB/R2024b/toolbox/shared/dastudio/seqdiagram:/usr/local/MATLAB/R2024b/toolbox/shared/data_explorer/m:/usr/local/MATLAB/R2024b/toolbox/shared/data_explorer/toolstrip:/usr/local/MATLAB/R2024b/toolbox/shared/datacreation:/usr/local/MATLAB/R2024b/toolbox/shared/datacreation/datagenerator:/usr/local/MATLAB/R2024b/toolbox/shared/datacreation/task:/usr/local/MATLAB/R2024b/toolbox/shared/datacreation/task/codegenerator:/usr/local/MATLAB/R2024b/toolbox/shared/datacreation/task/interface:/usr/local/MATLAB/R2024b/toolbox/shared/datacreation/task/ui:/usr/local/MATLAB/R2024b/toolbox/shared/datacreation/uicomponent:/usr/local/MATLAB/R2024b/toolbox/shared/datamodelapi/datamodelapi:/usr/local/MATLAB/R2024b/toolbox/shared/deviceplugindetection:/usr/local/MATLAB/R2024b/toolbox/shared/devicetree/base:/usr/local/MATLAB/R2024b/toolbox/shared/diagnostic:/usr/local/MATLAB/R2024b/toolbox/shared/dlcoder_base/dlcoder_base:/usr/local/MATLAB/R2024b/toolbox/shared/dnnshared:/usr/local/MATLAB/R2024b/toolbox/shared/drivingmaps:/usr/local/MATLAB/R2024b/toolbox/shared/drivingscenario:/usr/local/MATLAB/R2024b/toolbox/shared/drivingutils:/usr/local/MATLAB/R2024b/toolbox/shared/drivingvisuals:/usr/local/MATLAB/R2024b/toolbox/shared/dsp/dialog:/usr/local/MATLAB/R2024b/toolbox/shared/dsp/filterdesignlib:/usr/local/MATLAB/R2024b/toolbox/shared/dsp/filterdesignlib/filterbuilder:/usr/local/MATLAB/R2024b/toolbox/shared/dsp/float2fixed:/usr/local/MATLAB/R2024b/toolbox/shared/dsp/hdl:/usr/local/MATLAB/R2024b/toolbox/shared/dsp/vision/matlab/utilities:/usr/local/MATLAB/R2024b/toolbox/shared/dsp/vision/matlab/utilities/init:/usr/local/MATLAB/R2024b/toolbox/shared/dsp/vision/matlab/utilities/mex:/usr/local/MATLAB/R2024b/toolbox/shared/dsp/vision/matlab/vision:/usr/local/MATLAB/R2024b/toolbox/shared/dsp/vision/simulink/utilities:/usr/local/MATLAB/R2024b/toolbox/shared/dsp/vision/simulink/utilities/mex:/usr/local/MATLAB/R2024b/toolbox/shared/dsp/vision/simulink/vision:/usr/local/MATLAB/R2024b/toolbox/shared/dsp/webscopes/dspwebscopesutils:/usr/local/MATLAB/R2024b/toolbox/shared/dsp/webscopes/mlarrayplot:/usr/local/MATLAB/R2024b/toolbox/shared/dsp/webscopes/mlfiltervisualizer:/usr/local/MATLAB/R2024b/toolbox/shared/dsp/webscopes/mlspectrumanalyzer:/usr/local/MATLAB/R2024b/toolbox/shared/dsp/webscopes/mltimescope:/usr/local/MATLAB/R2024b/toolbox/shared/dsp/webscopes/slarrayplot:/usr/local/MATLAB/R2024b/toolbox/shared/dsp/webscopes/slfiltervisualizer:/usr/local/MATLAB/R2024b/toolbox/shared/dsp/webscopes/slspectrumanalyzer:/usr/local/MATLAB/R2024b/toolbox/shared/dspblks/dspblks:/usr/local/MATLAB/R2024b/toolbox/shared/dspblks/dspmex:/usr/local/MATLAB/R2024b/toolbox/shared/eda/board:/usr/local/MATLAB/R2024b/toolbox/shared/eda/edagraph:/usr/local/MATLAB/R2024b/toolbox/shared/eda/fil:/usr/local/MATLAB/R2024b/toolbox/shared/eda/fil/filmapi:/usr/local/MATLAB/R2024b/toolbox/shared/eda/fpgaautomation:/usr/local/MATLAB/R2024b/toolbox/shared/eda/fpgaautomation/obsolete:/usr/local/MATLAB/R2024b/toolbox/shared/eda/fpgabase:/usr/local/MATLAB/R2024b/toolbox/shared/eda/hdlparser:/usr/local/MATLAB/R2024b/toolbox/shared/em_cad:/usr/local/MATLAB/R2024b/toolbox/shared/em_cad/authoring:/usr/local/MATLAB/R2024b/toolbox/shared/em_catalog:/usr/local/MATLAB/R2024b/toolbox/shared/em_catalog/FeedDefinitions:/usr/local/MATLAB/R2024b/toolbox/shared/em_catalog/cadsupport/gerber:/usr/local/MATLAB/R2024b/toolbox/shared/em_catalog/sharedutilities:/usr/local/MATLAB/R2024b/toolbox/shared/em_interop:/usr/local/MATLAB/R2024b/toolbox/shared/em_interop/PCBRead:/usr/local/MATLAB/R2024b/toolbox/shared/em_mesher:/usr/local/MATLAB/R2024b/toolbox/shared/em_solver:/usr/local/MATLAB/R2024b/toolbox/shared/em_solver2d:/usr/local/MATLAB/R2024b/toolbox/shared/eml_requirements:/usr/local/MATLAB/R2024b/toolbox/shared/env_encoder/matlab:/usr/local/MATLAB/R2024b/toolbox/shared/etargets/etargets:/usr/local/MATLAB/R2024b/toolbox/shared/etargets/etargets/demoutils:/usr/local/MATLAB/R2024b/toolbox/shared/experimentmonitor:/usr/local/MATLAB/R2024b/toolbox/shared/filterapps/src:/usr/local/MATLAB/R2024b/toolbox/shared/filterplotter/src:/usr/local/MATLAB/R2024b/toolbox/shared/financelib:/usr/local/MATLAB/R2024b/toolbox/shared/fmu_base:/usr/local/MATLAB/R2024b/toolbox/shared/fmu_block:/usr/local/MATLAB/R2024b/toolbox/shared/fmu_share/fmuexport:/usr/local/MATLAB/R2024b/toolbox/shared/fusion/apps:/usr/local/MATLAB/R2024b/toolbox/shared/fusion/utils:/usr/local/MATLAB/R2024b/toolbox/shared/geodesy:/usr/local/MATLAB/R2024b/toolbox/shared/geometry_matlab:/usr/local/MATLAB/R2024b/toolbox/shared/geometry_matlab/ClibGeometry/geometry_api:/usr/local/MATLAB/R2024b/toolbox/shared/geometry_matlab_loaders:/usr/local/MATLAB/R2024b/toolbox/shared/geometry_matlab_loaders/ClibGeometry/geometry_loaders:/usr/local/MATLAB/R2024b/toolbox/shared/geometry_matlab_polytext/matlab_api:/usr/local/MATLAB/R2024b/toolbox/shared/globe/core:/usr/local/MATLAB/R2024b/toolbox/shared/gnss/gnss:/usr/local/MATLAB/R2024b/toolbox/shared/gps:/usr/local/MATLAB/R2024b/toolbox/shared/gpu:/usr/local/MATLAB/R2024b/toolbox/shared/gpucoder/gpucoder:/usr/local/MATLAB/R2024b/toolbox/shared/hadoopserializer:/usr/local/MATLAB/R2024b/toolbox/shared/hdlmotorcontrol:/usr/local/MATLAB/R2024b/toolbox/shared/hdlmotorcontrol/socMotorControl:/usr/local/MATLAB/R2024b/toolbox/shared/hdlshared:/usr/local/MATLAB/R2024b/toolbox/shared/hdlshared/hdlshared_gui/configset/derived:/usr/local/MATLAB/R2024b/toolbox/shared/hdlshared/hdlshared_gui/m:/usr/local/MATLAB/R2024b/toolbox/shared/hdlshared/hdlshared_gui/udd:/usr/local/MATLAB/R2024b/toolbox/shared/hdlshared/hdlshared_soc:/usr/local/MATLAB/R2024b/toolbox/shared/hotpluglib:/usr/local/MATLAB/R2024b/toolbox/shared/hwconnectinstaller:/usr/local/MATLAB/R2024b/toolbox/shared/hwconnectinstaller/common:/usr/local/MATLAB/R2024b/toolbox/shared/hwmanager/hwconnection:/usr/local/MATLAB/R2024b/toolbox/shared/hwmanager/hwmanagerapp:/usr/local/MATLAB/R2024b/toolbox/shared/hwmanager/hwmanagerapp/clientapp:/usr/local/MATLAB/R2024b/toolbox/shared/hwmanager/hwmanagerapp/devicedata:/usr/local/MATLAB/R2024b/toolbox/shared/hwmanager/hwmanagerapp/devicedetection:/usr/local/MATLAB/R2024b/toolbox/shared/hwmanager/hwmanagerapp/devices:/usr/local/MATLAB/R2024b/toolbox/shared/hwmanager/hwmanagerapp/hwmgr:/usr/local/MATLAB/R2024b/toolbox/shared/hwmanager/hwmanagerapp/hwsetup:/usr/local/MATLAB/R2024b/toolbox/shared/hwmanager/hwmanagerapp/plugins:/usr/local/MATLAB/R2024b/toolbox/shared/hwmanager/hwmanagerapp/providers:/usr/local/MATLAB/R2024b/toolbox/shared/hwmanager/hwmanagerapp/scopes:/usr/local/MATLAB/R2024b/toolbox/shared/hwmanager/hwmanagerapp/shared:/usr/local/MATLAB/R2024b/toolbox/shared/hwmanager/hwservices/hwinfo:/usr/local/MATLAB/R2024b/toolbox/shared/hwmanager/hwsetup:/usr/local/MATLAB/R2024b/toolbox/shared/hwmanager/hwsetup/hwtemplates:/usr/local/MATLAB/R2024b/toolbox/shared/hwmanager/hwsetup/hwwidgets:/usr/local/MATLAB/R2024b/toolbox/shared/hwmanager/hwsetup/launch:/usr/local/MATLAB/R2024b/toolbox/shared/hwmanager/hwsetup/thirdpartytools:/usr/local/MATLAB/R2024b/toolbox/shared/hwmanager/logger:/usr/local/MATLAB/R2024b/toolbox/shared/image_io/imageio_builtins:/usr/local/MATLAB/R2024b/toolbox/shared/imageio:/usr/local/MATLAB/R2024b/toolbox/shared/images_datatypes:/usr/local/MATLAB/R2024b/toolbox/shared/imageslib:/usr/local/MATLAB/R2024b/toolbox/shared/imaqlib:/usr/local/MATLAB/R2024b/toolbox/shared/insframework/core/insframework:/usr/local/MATLAB/R2024b/toolbox/shared/insframework/core/insframeworkdata:/usr/local/MATLAB/R2024b/toolbox/shared/insframework/plugin/plugin:/usr/local/MATLAB/R2024b/toolbox/shared/instrument:/usr/local/MATLAB/R2024b/toolbox/shared/io/general:/usr/local/MATLAB/R2024b/toolbox/shared/labelutils/labelutils:/usr/local/MATLAB/R2024b/toolbox/shared/lidar:/usr/local/MATLAB/R2024b/toolbox/shared/lidar_ros:/usr/local/MATLAB/R2024b/toolbox/shared/lidarsim:/usr/local/MATLAB/R2024b/toolbox/shared/lidarsim/lidarsim:/usr/local/MATLAB/R2024b/toolbox/shared/lut/microservice/serialization/m:/usr/local/MATLAB/R2024b/toolbox/shared/lutwidget/plugin/chart/m:/usr/local/MATLAB/R2024b/toolbox/shared/m3i:/usr/local/MATLAB/R2024b/toolbox/shared/mapgeodesy:/usr/local/MATLAB/R2024b/toolbox/shared/maputils:/usr/local/MATLAB/R2024b/toolbox/shared/matlab/testframework/baselines:/usr/local/MATLAB/R2024b/toolbox/shared/matlab/testframework/baselines_sdi:/usr/local/MATLAB/R2024b/toolbox/shared/matlab_system_block/upgrade_advisor:/usr/local/MATLAB/R2024b/toolbox/shared/matlabtest/coder_foundation/testframework:/usr/local/MATLAB/R2024b/toolbox/shared/matlabtest/compiler/interfaces:/usr/local/MATLAB/R2024b/toolbox/shared/matlabtest/datagenerators:/usr/local/MATLAB/R2024b/toolbox/shared/matlabtest/matlabcoder/testframework:/usr/local/MATLAB/R2024b/toolbox/shared/matlabtest/requirements:/usr/local/MATLAB/R2024b/toolbox/shared/mcbeeblks:/usr/local/MATLAB/R2024b/toolbox/shared/measure:/usr/local/MATLAB/R2024b/toolbox/shared/mlarrow:/usr/local/MATLAB/R2024b/toolbox/shared/mldatx:/usr/local/MATLAB/R2024b/toolbox/shared/mldatx/file_icon_plugin/matlab:/usr/local/MATLAB/R2024b/toolbox/shared/mldatx/file_label_filter_plugin/matlab:/usr/local/MATLAB/R2024b/toolbox/shared/mldatx/file_preview_plugin/matlab:/usr/local/MATLAB/R2024b/toolbox/shared/mlearnlib/core:/usr/local/MATLAB/R2024b/toolbox/shared/mlreportgen/dom:/usr/local/MATLAB/R2024b/toolbox/shared/mlreportgen/dom/dom:/usr/local/MATLAB/R2024b/toolbox/shared/mlreportgen/dom/dom/help:/usr/local/MATLAB/R2024b/toolbox/shared/mlreportgen/fop:/usr/local/MATLAB/R2024b/toolbox/shared/mlreportgen/ppt:/usr/local/MATLAB/R2024b/toolbox/shared/mlreportgen/ppt/ppt:/usr/local/MATLAB/R2024b/toolbox/shared/mlreportgen/ppt/ppt/help:/usr/local/MATLAB/R2024b/toolbox/shared/mlreportgen/re/re/help:/usr/local/MATLAB/R2024b/toolbox/shared/mlreportgen/rpt:/usr/local/MATLAB/R2024b/toolbox/shared/mlreportgen/rpt/rpt:/usr/local/MATLAB/R2024b/toolbox/shared/mlreportgen/utils:/usr/local/MATLAB/R2024b/toolbox/shared/mlreportgen/widgets/equation/matlab:/usr/local/MATLAB/R2024b/toolbox/shared/mlreportgen/xml/xml/help:/usr/local/MATLAB/R2024b/toolbox/shared/mlreportgen/xml_transform/xml_transform/help:/usr/local/MATLAB/R2024b/toolbox/shared/mlreportgen/xml_xpath/xml_xpath/help:/usr/local/MATLAB/R2024b/toolbox/shared/mlreq:/usr/local/MATLAB/R2024b/toolbox/shared/mlskyplot/mlskyplot:/usr/local/MATLAB/R2024b/toolbox/shared/motionmodel/motionmodellib:/usr/local/MATLAB/R2024b/toolbox/shared/msblks_measurement/helperfiles:/usr/local/MATLAB/R2024b/toolbox/shared/msblks_measurement/jitterfunctions:/usr/local/MATLAB/R2024b/toolbox/shared/msblks_measurement/msblks_measurement:/usr/local/MATLAB/R2024b/toolbox/shared/multibody/multibodylib:/usr/local/MATLAB/R2024b/toolbox/shared/multimedia:/usr/local/MATLAB/R2024b/toolbox/shared/multivercosim/m:/usr/local/MATLAB/R2024b/toolbox/shared/nav_lidar/nav_lidar_lib:/usr/local/MATLAB/R2024b/toolbox/shared/nav_offroad/core:/usr/local/MATLAB/R2024b/toolbox/shared/nav_rst/nav_rst_lib:/usr/local/MATLAB/R2024b/toolbox/shared/nav_rst/nav_rst_simulink:/usr/local/MATLAB/R2024b/toolbox/shared/nav_rst/nav_rst_simulink/blockicons:/usr/local/MATLAB/R2024b/toolbox/shared/nav_rst/nav_rst_simulink/utilities:/usr/local/MATLAB/R2024b/toolbox/shared/networklib:/usr/local/MATLAB/R2024b/toolbox/shared/opcount:/usr/local/MATLAB/R2024b/toolbox/shared/opcount/base:/usr/local/MATLAB/R2024b/toolbox/shared/opencvbuildinfo/opencvbuildinfo:/usr/local/MATLAB/R2024b/toolbox/shared/openstreetmapdata:/usr/local/MATLAB/R2024b/toolbox/shared/optimlib:/usr/local/MATLAB/R2024b/toolbox/shared/orbit:/usr/local/MATLAB/R2024b/toolbox/shared/orbit/orbitdata:/usr/local/MATLAB/R2024b/toolbox/shared/orbit/visual3Dmodels:/usr/local/MATLAB/R2024b/toolbox/shared/osi/osi:/usr/local/MATLAB/R2024b/toolbox/shared/parseutils:/usr/local/MATLAB/R2024b/toolbox/shared/pdelib:/usr/local/MATLAB/R2024b/toolbox/shared/pegparserlib/pegparser:/usr/local/MATLAB/R2024b/toolbox/shared/performance:/usr/local/MATLAB/R2024b/toolbox/shared/phasedfusion:/usr/local/MATLAB/R2024b/toolbox/shared/planning/planningmatlab:/usr/local/MATLAB/R2024b/toolbox/shared/pointclouds:/usr/local/MATLAB/R2024b/toolbox/shared/polyspace/codeinsight_mi:/usr/local/MATLAB/R2024b/toolbox/shared/polyspace/configure_mi:/usr/local/MATLAB/R2024b/toolbox/shared/polyspace/utils_mi:/usr/local/MATLAB/R2024b/toolbox/shared/polytraj:/usr/local/MATLAB/R2024b/toolbox/shared/positioning/positioning:/usr/local/MATLAB/R2024b/toolbox/shared/positioning/positioningdata:/usr/local/MATLAB/R2024b/toolbox/shared/positioning/simulink:/usr/local/MATLAB/R2024b/toolbox/shared/positioning/simulink/blockicons:/usr/local/MATLAB/R2024b/toolbox/shared/positioning/simulink/utilities:/usr/local/MATLAB/R2024b/toolbox/shared/positioning/utilities/utilities:/usr/local/MATLAB/R2024b/toolbox/shared/predmaint/signallabeler:/usr/local/MATLAB/R2024b/toolbox/shared/pslink:/usr/local/MATLAB/R2024b/toolbox/shared/pycoexblks:/usr/local/MATLAB/R2024b/toolbox/shared/pycoexblks/icons:/usr/local/MATLAB/R2024b/toolbox/shared/pyspkgmgr:/usr/local/MATLAB/R2024b/toolbox/shared/python_importer/m:/usr/local/MATLAB/R2024b/toolbox/shared/radarfusion:/usr/local/MATLAB/R2024b/toolbox/shared/raytracer:/usr/local/MATLAB/R2024b/toolbox/shared/readsecret:/usr/local/MATLAB/R2024b/toolbox/shared/remote_connectivity/remote_connectivity:/usr/local/MATLAB/R2024b/toolbox/shared/reqmgt:/usr/local/MATLAB/R2024b/toolbox/shared/reqmgt/editorPlugin:/usr/local/MATLAB/R2024b/toolbox/shared/reqmgt/mmutils:/usr/local/MATLAB/R2024b/toolbox/shared/reqmgt_file_preview_plugin/matlab:/usr/local/MATLAB/R2024b/toolbox/shared/rf_ideal:/usr/local/MATLAB/R2024b/toolbox/shared/rf_ideal/utilities:/usr/local/MATLAB/R2024b/toolbox/shared/rffit:/usr/local/MATLAB/R2024b/toolbox/shared/rflib:/usr/local/MATLAB/R2024b/toolbox/shared/roadnetwork:/usr/local/MATLAB/R2024b/toolbox/shared/roadrunnerapi/roadrunnerapi:/usr/local/MATLAB/R2024b/toolbox/shared/roadrunnermaps/roadrunnermaps:/usr/local/MATLAB/R2024b/toolbox/shared/robotics/dynmat/matlab:/usr/local/MATLAB/R2024b/toolbox/shared/robotics/robotappscore:/usr/local/MATLAB/R2024b/toolbox/shared/robotics/robotcore/matlab:/usr/local/MATLAB/R2024b/toolbox/shared/robotics/robotdata/meshes:/usr/local/MATLAB/R2024b/toolbox/shared/robotics/robotslcore:/usr/local/MATLAB/R2024b/toolbox/shared/robotics/robotslcore/blockicons:/usr/local/MATLAB/R2024b/toolbox/shared/robotics/robotslcore/slexportprevious:/usr/local/MATLAB/R2024b/toolbox/shared/robotics/robotutils:/usr/local/MATLAB/R2024b/toolbox/shared/robotics/robotutilsint:/usr/local/MATLAB/R2024b/toolbox/shared/rotations/rotationslib:/usr/local/MATLAB/R2024b/toolbox/shared/rotations_utils:/usr/local/MATLAB/R2024b/toolbox/shared/rptgen:/usr/local/MATLAB/R2024b/toolbox/shared/rptgen/udd:/usr/local/MATLAB/R2024b/toolbox/shared/sdi:/usr/local/MATLAB/R2024b/toolbox/shared/sdi_matlabunit:/usr/local/MATLAB/R2024b/toolbox/shared/sdi_visuals:/usr/local/MATLAB/R2024b/toolbox/shared/sensorsim/coordinates:/usr/local/MATLAB/R2024b/toolbox/shared/sensorsim/geotrajectory/geotrajectory:/usr/local/MATLAB/R2024b/toolbox/shared/sensorsim/gps/core:/usr/local/MATLAB/R2024b/toolbox/shared/sensorsim/gps/simulink/core:/usr/local/MATLAB/R2024b/toolbox/shared/sensorsim/gps/simulink/core/blockicons:/usr/local/MATLAB/R2024b/toolbox/shared/sensorsim/ins/core:/usr/local/MATLAB/R2024b/toolbox/shared/sensorsim/ins/simulink:/usr/local/MATLAB/R2024b/toolbox/shared/sensorsim/ins/simulink/blockicons:/usr/local/MATLAB/R2024b/toolbox/shared/sensorsim/ins/simulink/utilities:/usr/local/MATLAB/R2024b/toolbox/shared/sensorsim/trajectories/trajectories:/usr/local/MATLAB/R2024b/toolbox/shared/sensorsim/ultrasonic:/usr/local/MATLAB/R2024b/toolbox/shared/seriallib:/usr/local/MATLAB/R2024b/toolbox/shared/seriallib_blocks:/usr/local/MATLAB/R2024b/toolbox/shared/sfunctionbuilderjs/m:/usr/local/MATLAB/R2024b/toolbox/shared/sharedgui:/usr/local/MATLAB/R2024b/toolbox/shared/sigbldr:/usr/local/MATLAB/R2024b/toolbox/shared/sigbldr_import:/usr/local/MATLAB/R2024b/toolbox/shared/siglib:/usr/local/MATLAB/R2024b/toolbox/shared/signal_featureextraction/signalfeatureextraction:/usr/local/MATLAB/R2024b/toolbox/shared/signallabelutils/signallabelutils:/usr/local/MATLAB/R2024b/toolbox/shared/signalwavelet/signalwavelet:/usr/local/MATLAB/R2024b/toolbox/shared/signalwavelet_deep:/usr/local/MATLAB/R2024b/toolbox/shared/sigwebappsutils/src:/usr/local/MATLAB/R2024b/toolbox/shared/sim3d/sim3d:/usr/local/MATLAB/R2024b/toolbox/shared/sim3d_projects/automotive_project_linux/UE:/usr/local/MATLAB/R2024b/toolbox/shared/sim3dblks/sim3dblks:/usr/local/MATLAB/R2024b/toolbox/shared/sim3dblks/sim3dblksutils:/usr/local/MATLAB/R2024b/toolbox/shared/simtargets:/usr/local/MATLAB/R2024b/toolbox/shared/simulink/fmuexport:/usr/local/MATLAB/R2024b/toolbox/shared/simulink/simulation_data:/usr/local/MATLAB/R2024b/toolbox/shared/simulink/slcheck_services:/usr/local/MATLAB/R2024b/toolbox/shared/simulink/sysarch/sysarch:/usr/local/MATLAB/R2024b/toolbox/shared/simulinkcoder/profiles:/usr/local/MATLAB/R2024b/toolbox/shared/simulinktest_matlabunit:/usr/local/MATLAB/R2024b/toolbox/shared/sip_servers/nano_shrlib:/usr/local/MATLAB/R2024b/toolbox/shared/sl_async_streaming:/usr/local/MATLAB/R2024b/toolbox/shared/sl_coverage_configset/derived:/usr/local/MATLAB/R2024b/toolbox/shared/sl_coverage_configset/m:/usr/local/MATLAB/R2024b/toolbox/shared/sl_messages:/usr/local/MATLAB/R2024b/toolbox/shared/sl_multicore/dfs:/usr/local/MATLAB/R2024b/toolbox/shared/sl_multicore/multicoredesigner:/usr/local/MATLAB/R2024b/toolbox/shared/sl_pslink/configset/derived:/usr/local/MATLAB/R2024b/toolbox/shared/sl_pslink/configset/m:/usr/local/MATLAB/R2024b/toolbox/shared/sl_swarch/swmodeling:/usr/local/MATLAB/R2024b/toolbox/shared/sl_units_mldatx:/usr/local/MATLAB/R2024b/toolbox/shared/sl_web_widgets:/usr/local/MATLAB/R2024b/toolbox/shared/slcc/slcc:/usr/local/MATLAB/R2024b/toolbox/shared/slcc_cov/slcc_cov:/usr/local/MATLAB/R2024b/toolbox/shared/slcc_importer/m:/usr/local/MATLAB/R2024b/toolbox/shared/slcheck/check:/usr/local/MATLAB/R2024b/toolbox/shared/slcheck/utils:/usr/local/MATLAB/R2024b/toolbox/shared/slci/slci:/usr/local/MATLAB/R2024b/toolbox/shared/slcontrollib:/usr/local/MATLAB/R2024b/toolbox/shared/slcontrollib/blocks:/usr/local/MATLAB/R2024b/toolbox/shared/slcontrollib/general:/usr/local/MATLAB/R2024b/toolbox/shared/slcontrollib/graphics:/usr/local/MATLAB/R2024b/toolbox/shared/slcontrollib/modelpack:/usr/local/MATLAB/R2024b/toolbox/shared/slcontrollib/operating_points:/usr/local/MATLAB/R2024b/toolbox/shared/slcontrollib/signal_injection_plugin/m:/usr/local/MATLAB/R2024b/toolbox/shared/slcoverage/slcoverage_core:/usr/local/MATLAB/R2024b/toolbox/shared/slcoverage/sltoolstrip/m:/usr/local/MATLAB/R2024b/toolbox/shared/slcoverage/sltoolstrip/slcontextmenus:/usr/local/MATLAB/R2024b/toolbox/shared/sldv:/usr/local/MATLAB/R2024b/toolbox/shared/sldv/configset/derived:/usr/local/MATLAB/R2024b/toolbox/shared/sldv/configset/m:/usr/local/MATLAB/R2024b/toolbox/shared/sldv/udd:/usr/local/MATLAB/R2024b/toolbox/shared/sldv_cc/sldv_cc:/usr/local/MATLAB/R2024b/toolbox/shared/slmleditor/m:/usr/local/MATLAB/R2024b/toolbox/shared/slpir:/usr/local/MATLAB/R2024b/toolbox/shared/slreportgen/reportexplorer:/usr/local/MATLAB/R2024b/toolbox/shared/slreportgen/rpt:/usr/local/MATLAB/R2024b/toolbox/shared/slreportgen/rpt/rpt:/usr/local/MATLAB/R2024b/toolbox/shared/slreportgen/utils:/usr/local/MATLAB/R2024b/toolbox/shared/slreq:/usr/local/MATLAB/R2024b/toolbox/shared/slreq/slcontextmenus:/usr/local/MATLAB/R2024b/toolbox/shared/slvnv_core:/usr/local/MATLAB/R2024b/toolbox/shared/slwizard:/usr/local/MATLAB/R2024b/toolbox/shared/smoothers:/usr/local/MATLAB/R2024b/toolbox/shared/soc:/usr/local/MATLAB/R2024b/toolbox/shared/soc/blocks:/usr/local/MATLAB/R2024b/toolbox/shared/soc/embedded_linux_explorer:/usr/local/MATLAB/R2024b/toolbox/shared/soc/hdlipimporter:/usr/local/MATLAB/R2024b/toolbox/shared/soc/hdlipimporter/blocks:/usr/local/MATLAB/R2024b/toolbox/shared/soc/performanceapp:/usr/local/MATLAB/R2024b/toolbox/shared/soc/processor:/usr/local/MATLAB/R2024b/toolbox/shared/soc/processor/blocks:/usr/local/MATLAB/R2024b/toolbox/shared/soc/processor/blocks/common:/usr/local/MATLAB/R2024b/toolbox/shared/soc/processor/blocks/interconnect/mex:/usr/local/MATLAB/R2024b/toolbox/shared/soc/processor/blocks/mex:/usr/local/MATLAB/R2024b/toolbox/shared/soc/processor/blocks/scheduler:/usr/local/MATLAB/R2024b/toolbox/shared/soc/processor/profiler:/usr/local/MATLAB/R2024b/toolbox/shared/soc/processor/utilities:/usr/local/MATLAB/R2024b/toolbox/shared/soc/shared:/usr/local/MATLAB/R2024b/toolbox/shared/soc/shared/blocks:/usr/local/MATLAB/R2024b/toolbox/shared/soc/shared/blocks/mex:/usr/local/MATLAB/R2024b/toolbox/shared/soc/shared/util:/usr/local/MATLAB/R2024b/toolbox/shared/soc/socbuilder:/usr/local/MATLAB/R2024b/toolbox/shared/soc/socinterfacemapper:/usr/local/MATLAB/R2024b/toolbox/shared/soc/socmodelcreator:/usr/local/MATLAB/R2024b/toolbox/shared/socio:/usr/local/MATLAB/R2024b/toolbox/shared/spatialmath/matlab:/usr/local/MATLAB/R2024b/toolbox/shared/spc/src_ml:/usr/local/MATLAB/R2024b/toolbox/shared/spc/src_sl/simulink/dsp:/usr/local/MATLAB/R2024b/toolbox/shared/spcuilib/applications:/usr/local/MATLAB/R2024b/toolbox/shared/spcuilib/iomanager:/usr/local/MATLAB/R2024b/toolbox/shared/spcuilib/logicanalyzer:/usr/local/MATLAB/R2024b/toolbox/shared/spcuilib/matrixviewer:/usr/local/MATLAB/R2024b/toolbox/shared/spcuilib/slscopes:/usr/local/MATLAB/R2024b/toolbox/shared/spcuilib/sltimescope:/usr/local/MATLAB/R2024b/toolbox/shared/spcuilib/slwebscopes:/usr/local/MATLAB/R2024b/toolbox/shared/spcuilib/slwebscopespbcproxyreg:/usr/local/MATLAB/R2024b/toolbox/shared/spcuilib/unifiedscopes:/usr/local/MATLAB/R2024b/toolbox/shared/spcuilib/webscopes:/usr/local/MATLAB/R2024b/toolbox/shared/spcuilib/webscopestreamingclient:/usr/local/MATLAB/R2024b/toolbox/shared/spreadsheet:/usr/local/MATLAB/R2024b/toolbox/shared/ssfcodegen:/usr/local/MATLAB/R2024b/toolbox/shared/ssfmcos:/usr/local/MATLAB/R2024b/toolbox/shared/ssfsensorbase/ssfsensorbase:/usr/local/MATLAB/R2024b/toolbox/shared/sshaccess:/usr/local/MATLAB/R2024b/toolbox/shared/stateflow:/usr/local/MATLAB/R2024b/toolbox/shared/statslib:/usr/local/MATLAB/R2024b/toolbox/shared/statslib/gpu:/usr/local/MATLAB/R2024b/toolbox/shared/statslib/sensitivity:/usr/local/MATLAB/R2024b/toolbox/shared/supportpkgservices/installedapi:/usr/local/MATLAB/R2024b/toolbox/shared/supportpkgservices/installservices:/usr/local/MATLAB/R2024b/toolbox/shared/supportpkgservices/legacysupportpkginfo:/usr/local/MATLAB/R2024b/toolbox/shared/supportpkgservices/supportpackageroot:/usr/local/MATLAB/R2024b/toolbox/shared/supportsoftware/launcher:/usr/local/MATLAB/R2024b/toolbox/shared/supportsoftware/services:/usr/local/MATLAB/R2024b/toolbox/shared/supportsoftware/upgrade:/usr/local/MATLAB/R2024b/toolbox/shared/surrogatelib:/usr/local/MATLAB/R2024b/toolbox/shared/system/coder:/usr/local/MATLAB/R2024b/toolbox/shared/system/coreblocks:/usr/local/MATLAB/R2024b/toolbox/shared/system/sfun:/usr/local/MATLAB/R2024b/toolbox/shared/system/simulink:/usr/local/MATLAB/R2024b/toolbox/shared/system/simulink_block:/usr/local/MATLAB/R2024b/toolbox/shared/tdms:/usr/local/MATLAB/R2024b/toolbox/shared/tdms/tdmsds:/usr/local/MATLAB/R2024b/toolbox/shared/tdms/tdmsio:/usr/local/MATLAB/R2024b/toolbox/shared/template_core:/usr/local/MATLAB/R2024b/toolbox/shared/terrain:/usr/local/MATLAB/R2024b/toolbox/shared/testmeaslib/apps:/usr/local/MATLAB/R2024b/toolbox/shared/testmeaslib/general:/usr/local/MATLAB/R2024b/toolbox/shared/testmeaslib/hwutils/vnt:/usr/local/MATLAB/R2024b/toolbox/shared/testmeaslib/simulink:/usr/local/MATLAB/R2024b/toolbox/shared/threejs/core:/usr/local/MATLAB/R2024b/toolbox/shared/tlmgenerator/configset/derived:/usr/local/MATLAB/R2024b/toolbox/shared/tlmgenerator/configset/m:/usr/local/MATLAB/R2024b/toolbox/shared/tlmgenerator/foundation:/usr/local/MATLAB/R2024b/toolbox/shared/tlmgenerator/foundation/rtw:/usr/local/MATLAB/R2024b/toolbox/shared/toolstrip_coder_app/plugin/m:/usr/local/MATLAB/R2024b/toolbox/shared/tracking/blks:/usr/local/MATLAB/R2024b/toolbox/shared/tracking/fusionlib:/usr/local/MATLAB/R2024b/toolbox/shared/tracking/trackinglib:/usr/local/MATLAB/R2024b/toolbox/shared/tracking/trackinglib/blocks:/usr/local/MATLAB/R2024b/toolbox/shared/transportapp:/usr/local/MATLAB/R2024b/toolbox/shared/transportclients:/usr/local/MATLAB/R2024b/toolbox/shared/transportlib:/usr/local/MATLAB/R2024b/toolbox/shared/uav_aero/wind:/usr/local/MATLAB/R2024b/toolbox/shared/uav_rst/matlab:/usr/local/MATLAB/R2024b/toolbox/shared/uav_rst/simulink:/usr/local/MATLAB/R2024b/toolbox/shared/uav_rst/simulink/blockicons:/usr/local/MATLAB/R2024b/toolbox/shared/vehicle_protocols/j1939blks:/usr/local/MATLAB/R2024b/toolbox/shared/vehicle_protocols/j1939mex:/usr/local/MATLAB/R2024b/toolbox/shared/viewmodel/viewmodel:/usr/local/MATLAB/R2024b/toolbox/shared/virtualfileio:/usr/local/MATLAB/R2024b/toolbox/shared/webuiconnector/m:/usr/local/MATLAB/R2024b/toolbox/shared/wireless:/usr/local/MATLAB/R2024b/toolbox/shared/xcp:/usr/local/MATLAB/R2024b/toolbox/shared/xcp/xcpblks:/usr/local/MATLAB/R2024b/toolbox/shared/xcp/xcpmex:/usr/local/MATLAB/R2024b/toolbox/shared/xcpcore/blocks:/usr/local/MATLAB/R2024b/toolbox/shared_dl_targets_src:/usr/local/MATLAB/R2024b/toolbox/si/core/si:/usr/local/MATLAB/R2024b/toolbox/signal/deep:/usr/local/MATLAB/R2024b/toolbox/signal/edffileanalyzer/src:/usr/local/MATLAB/R2024b/toolbox/signal/gpu:/usr/local/MATLAB/R2024b/toolbox/signal/sigappsshared:/usr/local/MATLAB/R2024b/toolbox/signal/signal:/usr/local/MATLAB/R2024b/toolbox/signal/signalanalyzer:/usr/local/MATLAB/R2024b/toolbox/signal/signallabeler:/usr/local/MATLAB/R2024b/toolbox/signal/sigtools:/usr/local/MATLAB/R2024b/toolbox/signal/sptoolgui:/usr/local/MATLAB/R2024b/toolbox/simbio/comparisons/comparisons:/usr/local/MATLAB/R2024b/toolbox/simbio/simbio:/usr/local/MATLAB/R2024b/toolbox/simrf/simrf/advisor:/usr/local/MATLAB/R2024b/toolbox/simrf/simrf/simrfV2:/usr/local/MATLAB/R2024b/toolbox/simrf/simrf/simrfV2masks:/usr/local/MATLAB/R2024b/toolbox/simrf/simrf_top/simrf_top:/usr/local/MATLAB/R2024b/toolbox/simulink_standalone/shared:/usr/local/MATLAB/R2024b/toolbox/simulink_standalone/utils:/usr/local/MATLAB/R2024b/toolbox/simulinkcompiler/appruntime:/usr/local/MATLAB/R2024b/toolbox/simulinkcompiler/appruntime/simulinkcompiler:/usr/local/MATLAB/R2024b/toolbox/simulinkcompiler/examples:/usr/local/MATLAB/R2024b/toolbox/simulinkcompiler/simulinkcompiler:/usr/local/MATLAB/R2024b/toolbox/simulinktest/block_libraries:/usr/local/MATLAB/R2024b/toolbox/simulinktest/comparisons/rptgen:/usr/local/MATLAB/R2024b/toolbox/simulinktest/core/assessments/assessments:/usr/local/MATLAB/R2024b/toolbox/simulinktest/core/assessments/expressions:/usr/local/MATLAB/R2024b/toolbox/simulinktest/core/assessments_editor/assessments_editor:/usr/local/MATLAB/R2024b/toolbox/simulinktest/core/fuzzer/fuzzer:/usr/local/MATLAB/R2024b/toolbox/simulinktest/core/observer/observer:/usr/local/MATLAB/R2024b/toolbox/simulinktest/core/simharness/simharness:/usr/local/MATLAB/R2024b/toolbox/simulinktest/core/slt_blkmaputil/slt_blkmaputil:/usr/local/MATLAB/R2024b/toolbox/simulinktest/core/testadvisor/testadvisor:/usr/local/MATLAB/R2024b/toolbox/simulinktest/core/testsequence/testsequence:/usr/local/MATLAB/R2024b/toolbox/simulinktest/realtime/m:/usr/local/MATLAB/R2024b/toolbox/simulinktest/simulinktest:/usr/local/MATLAB/R2024b/toolbox/simulinktest/ui/slcontextmenus:/usr/local/MATLAB/R2024b/toolbox/sl3d/library/worlds:/usr/local/MATLAB/R2024b/toolbox/sl3d/rtc_plugins/rtc_vrml_language_support/matlab:/usr/local/MATLAB/R2024b/toolbox/sl3d/sl3d:/usr/local/MATLAB/R2024b/toolbox/sl3d/sl3dext/sim3d:/usr/local/MATLAB/R2024b/toolbox/sl3d/sl3dext/sl3d:/usr/local/MATLAB/R2024b/toolbox/sl_blocks_library/lib_datetime:/usr/local/MATLAB/R2024b/toolbox/sl_blocks_library/lib_datetime/library:/usr/local/MATLAB/R2024b/toolbox/sl_data/dataAccessor/dataAccessor:/usr/local/MATLAB/R2024b/toolbox/sl_data/dataAccessor/unifiedCLI:/usr/local/MATLAB/R2024b/toolbox/sl_data/matlabFunctions/matlab:/usr/local/MATLAB/R2024b/toolbox/sl_data/uiHelper/uiHelper:/usr/local/MATLAB/R2024b/toolbox/sl_pir_cap:/usr/local/MATLAB/R2024b/toolbox/sl_variants/advisor_checks/checks/m:/usr/local/MATLAB/R2024b/toolbox/sl_variants/analyzer/datamodel/web/UI:/usr/local/MATLAB/R2024b/toolbox/sl_variants/analyzer/slplugin/m:/usr/local/MATLAB/R2024b/toolbox/sl_variants/config_obj/m:/usr/local/MATLAB/R2024b/toolbox/sl_variants/manager/core/m:/usr/local/MATLAB/R2024b/toolbox/sl_variants/manager/ui/m:/usr/local/MATLAB/R2024b/toolbox/sl_variants/manager/ui/vmgrtsplugin:/usr/local/MATLAB/R2024b/toolbox/sl_variants/reducer/core/m:/usr/local/MATLAB/R2024b/toolbox/sl_variants/utils/m:/usr/local/MATLAB/R2024b/toolbox/sl_xls:/usr/local/MATLAB/R2024b/toolbox/slcheck:/usr/local/MATLAB/R2024b/toolbox/slcheck/do178b:/usr/local/MATLAB/R2024b/toolbox/slcheck/highintegrity:/usr/local/MATLAB/R2024b/toolbox/slcheck/iec61508:/usr/local/MATLAB/R2024b/toolbox/slcheck/mametrics:/usr/local/MATLAB/R2024b/toolbox/slcheck/model_refactoring:/usr/local/MATLAB/R2024b/toolbox/slcheck/slmetrics/ml:/usr/local/MATLAB/R2024b/toolbox/slcheck/slmetrics_mmt/ml:/usr/local/MATLAB/R2024b/toolbox/slcheck/styleguide:/usr/local/MATLAB/R2024b/toolbox/slcheck_edittime_sdp/ml:/usr/local/MATLAB/R2024b/toolbox/slci/slci:/usr/local/MATLAB/R2024b/toolbox/slci/slci_manualreview/m:/usr/local/MATLAB/R2024b/toolbox/slci/slci_toolstrip/m:/usr/local/MATLAB/R2024b/toolbox/slci/slci_view/m:/usr/local/MATLAB/R2024b/toolbox/slcontrol/slcontextmenus:/usr/local/MATLAB/R2024b/toolbox/slcontrol/slcontrol:/usr/local/MATLAB/R2024b/toolbox/slcontrol/slctrlguis:/usr/local/MATLAB/R2024b/toolbox/slcontrol/slctrlobsolete:/usr/local/MATLAB/R2024b/toolbox/slcontrol/slctrlutil:/usr/local/MATLAB/R2024b/toolbox/slcontrol/slpreferences:/usr/local/MATLAB/R2024b/toolbox/slcoverage:/usr/local/MATLAB/R2024b/toolbox/slde/slde:/usr/local/MATLAB/R2024b/toolbox/slde/templates:/usr/local/MATLAB/R2024b/toolbox/sldo/sldo:/usr/local/MATLAB/R2024b/toolbox/sldo/sldoguis:/usr/local/MATLAB/R2024b/toolbox/sldo/slestim/slestim:/usr/local/MATLAB/R2024b/toolbox/sldo/slestim/slestutil:/usr/local/MATLAB/R2024b/toolbox/sldo/sloptim/sloptguis:/usr/local/MATLAB/R2024b/toolbox/sldo/sloptim/sloptim:/usr/local/MATLAB/R2024b/toolbox/sldo/sloptim/sloptobsolete:/usr/local/MATLAB/R2024b/toolbox/sldrt/rtw:/usr/local/MATLAB/R2024b/toolbox/sldrt/sldrt:/usr/local/MATLAB/R2024b/toolbox/sldrt/sldrt/configset/derived:/usr/local/MATLAB/R2024b/toolbox/sldrt/sldrt/configset/m:/usr/local/MATLAB/R2024b/toolbox/sldv:/usr/local/MATLAB/R2024b/toolbox/sldv/advisor:/usr/local/MATLAB/R2024b/toolbox/sldv/mdladv:/usr/local/MATLAB/R2024b/toolbox/sldv/slcontextmenus:/usr/local/MATLAB/R2024b/toolbox/sldv/sldv:/usr/local/MATLAB/R2024b/toolbox/sldv/slicer:/usr/local/MATLAB/R2024b/toolbox/sldv/slicer/contextmenus:/usr/local/MATLAB/R2024b/toolbox/sldv/slicer/gui:/usr/local/MATLAB/R2024b/toolbox/sldv/toolstrip:/usr/local/MATLAB/R2024b/toolbox/sldv/ui:/usr/local/MATLAB/R2024b/toolbox/sldv/ui/udd:/usr/local/MATLAB/R2024b/toolbox/slrealtime/appdesigner:/usr/local/MATLAB/R2024b/toolbox/slrealtime/appgenerator:/usr/local/MATLAB/R2024b/toolbox/slrealtime/simulink/advisor:/usr/local/MATLAB/R2024b/toolbox/slrealtime/simulink/blocks:/usr/local/MATLAB/R2024b/toolbox/slrealtime/simulink/blocks/IP:/usr/local/MATLAB/R2024b/toolbox/slrealtime/simulink/blocks/dds:/usr/local/MATLAB/R2024b/toolbox/slrealtime/simulink/blocks/mex:/usr/local/MATLAB/R2024b/toolbox/slrealtime/simulink/blocks/obsolete:/usr/local/MATLAB/R2024b/toolbox/slrealtime/simulink/blocks/obsolete/forwarding:/usr/local/MATLAB/R2024b/toolbox/slrealtime/simulink/blocks/obsolete/xpcobsolete:/usr/local/MATLAB/R2024b/toolbox/slrealtime/simulink/blocks/videocapture:/usr/local/MATLAB/R2024b/toolbox/slrealtime/simulink/coder:/usr/local/MATLAB/R2024b/toolbox/slrealtime/simulink/coder/crl:/usr/local/MATLAB/R2024b/toolbox/slrealtime/simulink/coder/cs/derived:/usr/local/MATLAB/R2024b/toolbox/slrealtime/simulink/coder/cs/m:/usr/local/MATLAB/R2024b/toolbox/slrealtime/simulink/coder/obsolete:/usr/local/MATLAB/R2024b/toolbox/slrealtime/simulink/coder/obsolete/rtw:/usr/local/MATLAB/R2024b/toolbox/slrealtime/simulink/coder/rtLinux:/usr/local/MATLAB/R2024b/toolbox/slrealtime/simulink/coder/rtw:/usr/local/MATLAB/R2024b/toolbox/slrealtime/simulink/coder_plugin/m:/usr/local/MATLAB/R2024b/toolbox/slrealtime/slrealtime:/usr/local/MATLAB/R2024b/toolbox/slrealtime/toolstrip/m:/usr/local/MATLAB/R2024b/toolbox/slreportgen/rpt2api:/usr/local/MATLAB/R2024b/toolbox/slreportgen/webview:/usr/local/MATLAB/R2024b/toolbox/slrequirements/comparisons/rptgen:/usr/local/MATLAB/R2024b/toolbox/slrequirements/slrequirements:/usr/local/MATLAB/R2024b/toolbox/slrequirements/slrequirements/builtin_profiles/safety:/usr/local/MATLAB/R2024b/toolbox/slrequirements/slrequirements/udd:/usr/local/MATLAB/R2024b/toolbox/slrequirements/src/slrequirements/comparisons/mldesktop/matlab:/usr/local/MATLAB/R2024b/toolbox/slsim/bind:/usr/local/MATLAB/R2024b/toolbox/slsim/cloud:/usr/local/MATLAB/R2024b/toolbox/slsim/clouddeploy:/usr/local/MATLAB/R2024b/toolbox/slsim/design:/usr/local/MATLAB/R2024b/toolbox/slsim/sim:/usr/local/MATLAB/R2024b/toolbox/slsim/uicomponents:/usr/local/MATLAB/R2024b/toolbox/sltp/m:/usr/local/MATLAB/R2024b/toolbox/slvnv/slvnv:/usr/local/MATLAB/R2024b/toolbox/soc:/usr/local/MATLAB/R2024b/toolbox/soc/blocks:/usr/local/MATLAB/R2024b/toolbox/soc/complexity:/usr/local/MATLAB/R2024b/toolbox/soc/complexity/app:/usr/local/MATLAB/R2024b/toolbox/soc/complexity/cli:/usr/local/MATLAB/R2024b/toolbox/soc/customhardwaretarget:/usr/local/MATLAB/R2024b/toolbox/soc/customhardwaretarget/registry:/usr/local/MATLAB/R2024b/toolbox/soc/fpga:/usr/local/MATLAB/R2024b/toolbox/soc/fpga/simulation:/usr/local/MATLAB/R2024b/toolbox/soc/fpga/target:/usr/local/MATLAB/R2024b/toolbox/soc/fpga/utilities:/usr/local/MATLAB/R2024b/toolbox/soc/hardwareboards/alterasoc:/usr/local/MATLAB/R2024b/toolbox/soc/hardwareboards/mpsoc:/usr/local/MATLAB/R2024b/toolbox/soc/hardwareboards/rfsoc:/usr/local/MATLAB/R2024b/toolbox/soc/hardwareboards/stm32:/usr/local/MATLAB/R2024b/toolbox/soc/hardwareboards/versal:/usr/local/MATLAB/R2024b/toolbox/soc/hardwareboards/xilinxfpga:/usr/local/MATLAB/R2024b/toolbox/soc/hardwareboards/zynq:/usr/local/MATLAB/R2024b/toolbox/soc/processor/profiler/kernelprofiler:/usr/local/MATLAB/R2024b/toolbox/soc/sltoolstrip/m:/usr/local/MATLAB/R2024b/toolbox/soc/soc/memmap:/usr/local/MATLAB/R2024b/toolbox/soc/socexamples:/usr/local/MATLAB/R2024b/toolbox/soc/systemcomposer_templates:/usr/local/MATLAB/R2024b/toolbox/soc/templates:/usr/local/MATLAB/R2024b/toolbox/ssm/scenarioblks/scenarioblks:/usr/local/MATLAB/R2024b/toolbox/ssm/sl_agent_metadata_m:/usr/local/MATLAB/R2024b/toolbox/ssm/ssm_m:/usr/local/MATLAB/R2024b/toolbox/stats/anomaly:/usr/local/MATLAB/R2024b/toolbox/stats/bayesoptim:/usr/local/MATLAB/R2024b/toolbox/stats/bigdata:/usr/local/MATLAB/R2024b/toolbox/stats/blocks:/usr/local/MATLAB/R2024b/toolbox/stats/blocks/classregblks:/usr/local/MATLAB/R2024b/toolbox/stats/blocks/clusteringblks:/usr/local/MATLAB/R2024b/toolbox/stats/blocks/incblks:/usr/local/MATLAB/R2024b/toolbox/stats/blocks/pycoexblks:/usr/local/MATLAB/R2024b/toolbox/stats/blocks/pycoexblks/icons:/usr/local/MATLAB/R2024b/toolbox/stats/blocks/templates:/usr/local/MATLAB/R2024b/toolbox/stats/blocks/utilities:/usr/local/MATLAB/R2024b/toolbox/stats/builtins:/usr/local/MATLAB/R2024b/toolbox/stats/classreg:/usr/local/MATLAB/R2024b/toolbox/stats/clustering:/usr/local/MATLAB/R2024b/toolbox/stats/distributed:/usr/local/MATLAB/R2024b/toolbox/stats/doe:/usr/local/MATLAB/R2024b/toolbox/stats/featlearn:/usr/local/MATLAB/R2024b/toolbox/stats/gpu:/usr/local/MATLAB/R2024b/toolbox/stats/hypothesis:/usr/local/MATLAB/R2024b/toolbox/stats/incremental:/usr/local/MATLAB/R2024b/toolbox/stats/livetasks:/usr/local/MATLAB/R2024b/toolbox/stats/mlearnapps:/usr/local/MATLAB/R2024b/toolbox/stats/pipeline/data:/usr/local/MATLAB/R2024b/toolbox/stats/pipeline/learning:/usr/local/MATLAB/R2024b/toolbox/stats/pipeline/viz/m:/usr/local/MATLAB/R2024b/toolbox/stats/responsible:/usr/local/MATLAB/R2024b/toolbox/stats/semisupervised:/usr/local/MATLAB/R2024b/toolbox/stats/stats:/usr/local/MATLAB/R2024b/toolbox/stats/statsdata:/usr/local/MATLAB/R2024b/toolbox/stats/synthesis:/usr/local/MATLAB/R2024b/toolbox/stats/timeseries:/usr/local/MATLAB/R2024b/toolbox/stm/DashBoard/ml:/usr/local/MATLAB/R2024b/toolbox/stm/comparisons/automerge/matlab:/usr/local/MATLAB/R2024b/toolbox/stm/comparisons/mldesktop/matlab:/usr/local/MATLAB/R2024b/toolbox/stm/comparisons/rptgen:/usr/local/MATLAB/R2024b/toolbox/stm/stm:/usr/local/MATLAB/R2024b/toolbox/stm/stm/matlabunit:/usr/local/MATLAB/R2024b/toolbox/studio/config_api:/usr/local/MATLAB/R2024b/toolbox/symbolic/graphics:/usr/local/MATLAB/R2024b/toolbox/symbolic/symbolic:/usr/local/MATLAB/R2024b/toolbox/symbolic/tasks:/usr/local/MATLAB/R2024b/toolbox/sysarch/sysarch:/usr/local/MATLAB/R2024b/toolbox/sysarch/sysarch/demos:/usr/local/MATLAB/R2024b/toolbox/sysarch/sysarch_api:/usr/local/MATLAB/R2024b/toolbox/sysarch/sysarch_interfaces:/usr/local/MATLAB/R2024b/toolbox/systemcomposer/activitydiagram/m:/usr/local/MATLAB/R2024b/toolbox/systemcomposer/allocation/allocation:/usr/local/MATLAB/R2024b/toolbox/systemcomposer/analysis/analysis:/usr/local/MATLAB/R2024b/toolbox/systemcomposer/comparisons/mldesktop/matlab:/usr/local/MATLAB/R2024b/toolbox/systemcomposer/feature/feature:/usr/local/MATLAB/R2024b/toolbox/systemcomposer/interfaces/interfaces:/usr/local/MATLAB/R2024b/toolbox/systemcomposer/matrix/matrix:/usr/local/MATLAB/R2024b/toolbox/systemcomposer/profile/designer:/usr/local/MATLAB/R2024b/toolbox/systemcomposer/profile/designer/toolstrip:/usr/local/MATLAB/R2024b/toolbox/systemcomposer/profile/m:/usr/local/MATLAB/R2024b/toolbox/systemcomposer/profile/m/profiles:/usr/local/MATLAB/R2024b/toolbox/systemcomposer/protobuf/protobuf:/usr/local/MATLAB/R2024b/toolbox/systemcomposer/systemcomposer:/usr/local/MATLAB/R2024b/toolbox/systemcomposer/templates:/usr/local/MATLAB/R2024b/toolbox/target:/usr/local/MATLAB/R2024b/toolbox/target/codertarget:/usr/local/MATLAB/R2024b/toolbox/target/codertarget/configset/derived:/usr/local/MATLAB/R2024b/toolbox/target/codertarget/configset/m:/usr/local/MATLAB/R2024b/toolbox/target/codertarget/matlabcoder:/usr/local/MATLAB/R2024b/toolbox/target/codertarget/rtw:/usr/local/MATLAB/R2024b/toolbox/target/codertarget/sltoolstrip/m:/usr/local/MATLAB/R2024b/toolbox/target/extensions/operatingsystem/linux/blks:/usr/local/MATLAB/R2024b/toolbox/target/extensions/operatingsystem/linux/blks/masks:/usr/local/MATLAB/R2024b/toolbox/target/extensions/operatingsystem/linux/blks/mex:/usr/local/MATLAB/R2024b/toolbox/target/extensions/operatingsystem/linux/src:/usr/local/MATLAB/R2024b/toolbox/target/extensions/operatingsystem/windows/blks:/usr/local/MATLAB/R2024b/toolbox/target/extensions/operatingsystem/windows/blks/masks:/usr/local/MATLAB/R2024b/toolbox/target/extensions/operatingsystem/windows/blks/mex:/usr/local/MATLAB/R2024b/toolbox/target/extensions/processor/ARM/tfl:/usr/local/MATLAB/R2024b/toolbox/target/extensions/processor/intelhost/tfl:/usr/local/MATLAB/R2024b/toolbox/target/extensions/processor/shared:/usr/local/MATLAB/R2024b/toolbox/target/extensions/processor/shared/ti:/usr/local/MATLAB/R2024b/toolbox/target/extensions/processor/shared/ti/blks:/usr/local/MATLAB/R2024b/toolbox/target/extensions/processor/shared/ti/blks/masks:/usr/local/MATLAB/R2024b/toolbox/target/extensions/processor/shared/ti/blks/mex:/usr/local/MATLAB/R2024b/toolbox/target/extensions/processor/shared/ti/mdlinfo:/usr/local/MATLAB/R2024b/toolbox/target/extensions/processor/shared/ti/utils:/usr/local/MATLAB/R2024b/toolbox/target/extensions/processor/tic2000:/usr/local/MATLAB/R2024b/toolbox/target/extensions/processor/tic2000/rtw:/usr/local/MATLAB/R2024b/toolbox/target/foundation:/usr/local/MATLAB/R2024b/toolbox/target/foundation/blks:/usr/local/MATLAB/R2024b/toolbox/target/foundation/blks/masks:/usr/local/MATLAB/R2024b/toolbox/target/foundation/blks/mex:/usr/local/MATLAB/R2024b/toolbox/target/foundation/utils:/usr/local/MATLAB/R2024b/toolbox/target/foundation/utils/resource_config:/usr/local/MATLAB/R2024b/toolbox/target/shared/armcortexabase:/usr/local/MATLAB/R2024b/toolbox/target/shared/armcortexabase/utils:/usr/local/MATLAB/R2024b/toolbox/target/shared/armcortexmbase:/usr/local/MATLAB/R2024b/toolbox/target/shared/armcortexmbase/blocks:/usr/local/MATLAB/R2024b/toolbox/target/shared/armcortexmbase/blocks/masks:/usr/local/MATLAB/R2024b/toolbox/target/shared/armcortexmbase/blocks/mex:/usr/local/MATLAB/R2024b/toolbox/target/shared/armcortexmbase/registry:/usr/local/MATLAB/R2024b/toolbox/target/shared/asyncioplugins:/usr/local/MATLAB/R2024b/toolbox/target/shared/devicedriverbuilder:/usr/local/MATLAB/R2024b/toolbox/target/shared/devicedrivers_coder:/usr/local/MATLAB/R2024b/toolbox/target/shared/embedded_utilities:/usr/local/MATLAB/R2024b/toolbox/target/shared/embedded_utilities/blocks:/usr/local/MATLAB/R2024b/toolbox/target/shared/embedded_utilities/blocks/mex:/usr/local/MATLAB/R2024b/toolbox/target/shared/embedded_utilities/common:/usr/local/MATLAB/R2024b/toolbox/target/shared/file_logging:/usr/local/MATLAB/R2024b/toolbox/target/shared/ioplayback:/usr/local/MATLAB/R2024b/toolbox/target/shared/ioserver:/usr/local/MATLAB/R2024b/toolbox/target/shared/linux_ioserver:/usr/local/MATLAB/R2024b/toolbox/target/shared/peripherals:/usr/local/MATLAB/R2024b/toolbox/target/shared/svd:/usr/local/MATLAB/R2024b/toolbox/target/shared/svd/blocks:/usr/local/MATLAB/R2024b/toolbox/target/shared/svd/blocks/mex:/usr/local/MATLAB/R2024b/toolbox/target/shared/svd/common:/usr/local/MATLAB/R2024b/toolbox/target/shared/target_plugins/targetHiddenBlkInsert:/usr/local/MATLAB/R2024b/toolbox/target/shared/targetauthoring:/usr/local/MATLAB/R2024b/toolbox/targetframework/configuration/matlab:/usr/local/MATLAB/R2024b/toolbox/targetframework/data/dmsi/matlabonly:/usr/local/MATLAB/R2024b/toolbox/targetframework/matlab:/usr/local/MATLAB/R2024b/toolbox/targetframework/model/foundation/matlab:/usr/local/MATLAB/R2024b/toolbox/targetframework/model/target/matlab:/usr/local/MATLAB/R2024b/toolbox/targetframework/plugins/legacyconnection/matlabprovider/matlab:/usr/local/MATLAB/R2024b/toolbox/targetframework/user/commandline/matlab:/usr/local/MATLAB/R2024b/toolbox/targetframework/user/connection:/usr/local/MATLAB/R2024b/toolbox/targetframework/utilities/supportpackage:/usr/local/MATLAB/R2024b/toolbox/textanalytics/BERT/matlab:/usr/local/MATLAB/R2024b/toolbox/textanalytics/livetasks:/usr/local/MATLAB/R2024b/toolbox/textanalytics/textanalytics:/usr/local/MATLAB/R2024b/toolbox/tlc_simulink:/usr/local/MATLAB/R2024b/toolbox/uav/flightlogapp:/usr/local/MATLAB/R2024b/toolbox/uav/scenarioapp:/usr/local/MATLAB/R2024b/toolbox/uav/uav:/usr/local/MATLAB/R2024b/toolbox/uav/uavmatlab:/usr/local/MATLAB/R2024b/toolbox/uav/uavmatlab/mavlink/message_definitions:/usr/local/MATLAB/R2024b/toolbox/uav/uavsimulink/core:/usr/local/MATLAB/R2024b/toolbox/uav/uavsimulink/core/blockicons:/usr/local/MATLAB/R2024b/toolbox/uav/uavsimulink/core/busdefinitions:/usr/local/MATLAB/R2024b/toolbox/vdynblks:/usr/local/MATLAB/R2024b/toolbox/vdynblks/vdynblks:/usr/local/MATLAB/R2024b/toolbox/vdynblks/vdynblksutilities:/usr/local/MATLAB/R2024b/toolbox/vdynblks/vdynsolution:/usr/local/MATLAB/R2024b/toolbox/vision/gpu:/usr/local/MATLAB/R2024b/toolbox/vision/preferences:/usr/local/MATLAB/R2024b/toolbox/vision/vision:/usr/local/MATLAB/R2024b/toolbox/vision/visiondata:/usr/local/MATLAB/R2024b/toolbox/vision/visionutilities:/usr/local/MATLAB/R2024b/toolbox/vision/visionutilities/blockicons:/usr/local/MATLAB/R2024b/toolbox/vision/visionutilities/visioninit:/usr/local/MATLAB/R2024b/toolbox/vision/visionutilities/visionmex:/usr/local/MATLAB/R2024b/toolbox/visionhdl/templates:/usr/local/MATLAB/R2024b/toolbox/visionhdl/visionhdl:/usr/local/MATLAB/R2024b/toolbox/visionhdl/visionhdlutilities:/usr/local/MATLAB/R2024b/toolbox/visionhdl/visionhdlutilities/visionhdlinit:/usr/local/MATLAB/R2024b/toolbox/vnt/vnt:/usr/local/MATLAB/R2024b/toolbox/vnt/vntblks/vntblks:/usr/local/MATLAB/R2024b/toolbox/vnt/vntblks/vntmasks:/usr/local/MATLAB/R2024b/toolbox/vnt/vntblks/vntmex:/usr/local/MATLAB/R2024b/toolbox/vntapps/canapplet:/usr/local/MATLAB/R2024b/toolbox/vntapps/canapplets_shared:/usr/local/MATLAB/R2024b/toolbox/vntapps/canfdapplet:/usr/local/MATLAB/R2024b/toolbox/vntapps/provider:/usr/local/MATLAB/R2024b/toolbox/wavelet/apps/imageanalyzer:/usr/local/MATLAB/R2024b/toolbox/wavelet/apps/mra/src:/usr/local/MATLAB/R2024b/toolbox/wavelet/apps/timefrequencyanalyzer:/usr/local/MATLAB/R2024b/toolbox/wavelet/apps/waveletsignaldenoiser/src:/usr/local/MATLAB/R2024b/toolbox/wavelet/apps/wv1Danalyzer/src:/usr/local/MATLAB/R2024b/toolbox/wavelet/core/compression:/usr/local/MATLAB/R2024b/toolbox/wavelet/core/wavelet:/usr/local/MATLAB/R2024b/toolbox/wavelet/core/wmultisig1d:/usr/local/MATLAB/R2024b/toolbox/wavelet/deep:/usr/local/MATLAB/R2024b/toolbox/whdl/templates:/usr/local/MATLAB/R2024b/toolbox/whdl/whdl:/usr/local/MATLAB/R2024b/toolbox/whdl/whdlexamples:/usr/local/MATLAB/R2024b/toolbox/whdl/whdlutilities:/usr/local/MATLAB/R2024b/toolbox/whdl/whdlutilities/whdlinit:/usr/local/MATLAB/R2024b/toolbox/whdl/whdlutilities/whdltransform:/usr/local/MATLAB/R2024b/toolbox/wlan/wlan:/usr/local/MATLAB/R2024b/toolbox/wt/examples:/usr/local/MATLAB/R2024b/toolbox/wt/fpga:/usr/local/MATLAB/R2024b/toolbox/wt/fpga/rd/USRPN310:/usr/local/MATLAB/R2024b/toolbox/wt/fpga/rd/USRPN320:/usr/local/MATLAB/R2024b/toolbox/wt/fpga/rd/USRPN321:/usr/local/MATLAB/R2024b/toolbox/wt/fpga/rd/USRPX310:/usr/local/MATLAB/R2024b/toolbox/wt/fpga/rd/USRPX410:/usr/local/MATLAB/R2024b/toolbox/wt/fpga/rd/common:/usr/local/MATLAB/R2024b/toolbox/wt/fpga/src:/usr/local/MATLAB/R2024b/toolbox/wt/hdlcommon:/usr/local/MATLAB/R2024b/toolbox/wt/host:/usr/local/MATLAB/R2024b/toolbox/wt/host/hardware:/usr/local/MATLAB/R2024b/toolbox/wt/host/rfnoc/hardware:/usr/local/MATLAB/R2024b/toolbox/wt/host/rfnoc/hardware/N300:/usr/local/MATLAB/R2024b/toolbox/wt/host/rfnoc/hardware/N310:/usr/local/MATLAB/R2024b/toolbox/wt/host/rfnoc/hardware/N320:/usr/local/MATLAB/R2024b/toolbox/wt/host/rfnoc/hardware/N321:/usr/local/MATLAB/R2024b/toolbox/wt/host/rfnoc/hardware/X300:/usr/local/MATLAB/R2024b/toolbox/wt/host/rfnoc/hardware/X310:/usr/local/MATLAB/R2024b/toolbox/wt/host/rfnoc/hardware/X410:/usr/local/MATLAB/R2024b/toolbox/wt/host/rfnoc/hsio:/usr/local/MATLAB/R2024b/toolbox/wt/host/rfnoc/mcos:/usr/local/MATLAB/R2024b/toolbox/wt/host/rfnoc/mcos/uhd_cpp:/usr/local/MATLAB/R2024b/toolbox/wt/host/utils/hwsetup:/usr/local/MATLAB/R2024b/toolbox/wt/host/utils/tappoints:/usr/local/MATLAB/R2024b/toolbox/wt/mlwt:/usr/local/MATLAB/R2024b/toolbox/wt/mlwt/baseband_rf:/usr/local/MATLAB/R2024b/toolbox/wt/mlwt/energydetector:/usr/local/MATLAB/R2024b/toolbox/wt/mlwt/preambledetector:/usr/local/MATLAB/R2024b/toolbox/wt/mlwt/usrpfpgaio:/usr/local/MATLAB/R2024b/toolbox/wt/mlwt/wsdescriptor:/usr/local/MATLAB/R2024b/toolbox/wt/slwt/targeting:/usr/local/MATLAB/R2024b/toolbox/wt/wt:/usr/local/MATLAB/R2024b/ui/ai_chat_panel/ai_chat_panel/matlab:/usr/local/MATLAB/R2024b/ui/composite_dv_widget_mi/m:/usr/local/MATLAB/R2024b/ui/desktop-default-plugins/matlab:/usr/local/MATLAB/R2024b/ui/webgui/src/MOTW/editor:/usr/local/MATLAB/R2024b/ui/webgui/src/MOTW/findFiles'"
      ]
     },
     "execution_count": 1,
     "metadata": {},
     "output_type": "execute_result"
    }
   ],
   "source": [
    "import numpy as np\n",
    "import matlab.engine\n",
    "\n",
    "eng = matlab.engine.start_matlab()\n",
    "eng.addpath(\"./\")"
   ]
  },
  {
   "cell_type": "markdown",
   "metadata": {},
   "source": [
    "# Question 1"
   ]
  },
  {
   "cell_type": "markdown",
   "metadata": {},
   "source": [
    "### a)\n",
    "\n",
    "Implement a procedure that interpolates f (x) based on a divided difference approach.\n",
    "The procedure should take as input the following parameters:\n",
    "\n",
    "x, x0, ..., xn, f (x0), ..., f (xn)(with distinct x0, x1, ..., xn).\n",
    "\n",
    "The procedure should compute an interpolated value for f (x) based on the given data points (x0, f (x0)), (x1, f (x1)), ... , (xn, f (xn)).\n",
    "\n",
    "Note: The procedure should use all the data points (xi, f (xi)), i = 0, ..., n, effectively implementing an interpolating polynomial of degree n (or less, depending on the data)."
   ]
  },
  {
   "cell_type": "markdown",
   "metadata": {},
   "source": [
    "### b)\n",
    "\n",
    "use your procedure to interpolate cos(πx) at x = 3/10 , based on known values of (x, cos(πx)) at the following x locations: 0, 1/8, 1/4, 3/8, 1/2"
   ]
  },
  {
   "cell_type": "code",
   "execution_count": 2,
   "metadata": {},
   "outputs": [],
   "source": [
    "X = matlab.double([0, 1 / 8, 1 / 4, 3 / 8, 1 / 2])\n",
    "F = matlab.double(\n",
    "    [\n",
    "        np.cos(np.pi * 0),\n",
    "        np.cos(np.pi * 1 / 8),\n",
    "        np.cos(np.pi * 1 / 4),\n",
    "        np.cos(np.pi * 3 / 8),\n",
    "        np.cos(np.pi * 1 / 2),\n",
    "    ]\n",
    ")"
   ]
  },
  {
   "cell_type": "code",
   "execution_count": 3,
   "metadata": {},
   "outputs": [
    {
     "name": "stdout",
     "output_type": "stream",
     "text": [
      "polynomial Function: (2557248240000561*x)/288230376151711744 - (365777901533757777*x^2)/72057594037927936 + (3235268727348871*x^3)/4503599627370496 + (3149171965203425*x^4)/1125899906842624 + 1\n"
     ]
    }
   ],
   "source": [
    "polynomial_function = eng.divided_difference(X, F)\n",
    "print(f\"polynomial Function: {eng.string(polynomial_function)}\")"
   ]
  },
  {
   "cell_type": "code",
   "execution_count": 4,
   "metadata": {},
   "outputs": [
    {
     "name": "stdout",
     "output_type": "stream",
     "text": [
      "f(0.3) = 42359543354865945937/72057594037927936000\n",
      "f(0.3) = 0.5878567543147465\n",
      "cos(pi * 0.3) = 0.5877852522924731\n"
     ]
    }
   ],
   "source": [
    "x = 3 / 10\n",
    "result = eng.subs(polynomial_function, x)\n",
    "print(f\"f({x}) = {eng.string(result)}\")\n",
    "print(f\"f({x}) = {eng.double(result)}\")\n",
    "print(f\"cos(pi * {x}) = {np.cos(np.pi * x)}\")"
   ]
  },
  {
   "cell_type": "markdown",
   "metadata": {},
   "source": [
    "### c)\n",
    "\n",
    "Now consider the function\n",
    "\n",
    "f (x) = 2 / (1 + 9x^2) ,\n",
    "\n",
    "with input data given at the points\n",
    "\n",
    "xi = i * 2/n − 1, i = 0, ..., n.\n",
    "\n",
    "Use your procedure to estimate f (x) at x = 0.07, with n = 2."
   ]
  },
  {
   "cell_type": "code",
   "execution_count": 5,
   "metadata": {},
   "outputs": [],
   "source": [
    "def generate_x(i, n):\n",
    "    return i * 2 / n - 1\n",
    "\n",
    "\n",
    "def function(x):\n",
    "    return 2 / (1 + 9 * x**2)"
   ]
  },
  {
   "cell_type": "code",
   "execution_count": 6,
   "metadata": {},
   "outputs": [],
   "source": [
    "X = [generate_x(i, 2) for i in range(2 + 1)]\n",
    "F = [function(x) for x in X]\n",
    "X = matlab.double(X)\n",
    "F = matlab.double(F)"
   ]
  },
  {
   "cell_type": "code",
   "execution_count": 7,
   "metadata": {},
   "outputs": [
    {
     "name": "stdout",
     "output_type": "stream",
     "text": [
      "polynomial Function: 2 - (9*x^2)/5\n",
      "polynomial Function: 2.0 - 1.8*x^2\n"
     ]
    }
   ],
   "source": [
    "polynomial_function = eng.divided_difference(X, F)\n",
    "print(f\"polynomial Function: {eng.string(polynomial_function)}\")\n",
    "print(f\"polynomial Function: {eng.string(eng.vpa(polynomial_function, 5))}\")"
   ]
  },
  {
   "cell_type": "code",
   "execution_count": 8,
   "metadata": {},
   "outputs": [
    {
     "name": "stdout",
     "output_type": "stream",
     "text": [
      "99559/50000\n",
      "1.99118\n"
     ]
    }
   ],
   "source": [
    "x = 0.07\n",
    "result = eng.subs(polynomial_function, x)\n",
    "print(eng.string(result))\n",
    "print(eng.double(result))"
   ]
  },
  {
   "cell_type": "markdown",
   "metadata": {},
   "source": [
    "Use your procedure to estimate f (x) at x = 0.07, with n = 4."
   ]
  },
  {
   "cell_type": "code",
   "execution_count": 9,
   "metadata": {},
   "outputs": [],
   "source": [
    "X = [generate_x(i, 4) for i in range(4 + 1)]\n",
    "F = [function(x) for x in X]\n",
    "X = matlab.double(X)\n",
    "F = matlab.double(F)"
   ]
  },
  {
   "cell_type": "code",
   "execution_count": 10,
   "metadata": {},
   "outputs": [
    {
     "name": "stdout",
     "output_type": "stream",
     "text": [
      "polynomial Function: (324*x^4)/65 - (441*x^2)/65 + 2\n",
      "polynomial Function: 4.9846*x^4 - 6.7846*x^2 + 2.0\n"
     ]
    }
   ],
   "source": [
    "polynomial_function = eng.divided_difference(X, F)\n",
    "print(f\"polynomial Function: {eng.string(polynomial_function)}\")\n",
    "print(f\"polynomial Function: {eng.string(eng.vpa(polynomial_function, 5))}\")"
   ]
  },
  {
   "cell_type": "code",
   "execution_count": 11,
   "metadata": {},
   "outputs": [
    {
     "name": "stdout",
     "output_type": "stream",
     "text": [
      "3196171981/1625000000\n",
      "1.9668750652307692\n"
     ]
    }
   ],
   "source": [
    "x = 0.07\n",
    "result = eng.subs(polynomial_function, x)\n",
    "print(eng.string(result))\n",
    "print(eng.double(result))"
   ]
  },
  {
   "cell_type": "markdown",
   "metadata": {},
   "source": [
    "Use your procedure to estimate f (x) at x = 0.07, with n = 40."
   ]
  },
  {
   "cell_type": "code",
   "execution_count": 12,
   "metadata": {},
   "outputs": [],
   "source": [
    "X = [generate_x(i, 40) for i in range(40 + 1)]\n",
    "F = [function(x) for x in X]\n",
    "X = matlab.double(X)\n",
    "F = matlab.double(F)"
   ]
  },
  {
   "cell_type": "code",
   "execution_count": 13,
   "metadata": {},
   "outputs": [
    {
     "name": "stdout",
     "output_type": "stream",
     "text": [
      "polynomial Function: (11830331827862687029359882706869*x)/6268934265241600000000000000000000000000000000 - (15461877890697678977599840081995176907344547*x^2)/858993459200000000000000000000000000000000 - (33100550309026243079662129431649*x^3)/27487790694400000000000000000000000000000000 + (4452931449376390394845712637786626728597635851*x^4)/27487790694400000000000000000000000000000000 + (16320364932044905445712591366501421*x^5)/109951162777600000000000000000000000000000000 - (160239881372093282326795970424495442804885740579*x^6)/109951162777600000000000000000000000000000000 - (494505463560698733235856947797874437*x^7)/54975581388800000000000000000000000000000000 + (718335432842923399310243294487482600804525540563*x^8)/54975581388800000000000000000000000000000000 + (262868052646274164523683038015998521*x^9)/879609302220800000000000000000000000000000 - (101399740154990973097247073988317872253376765911*x^10)/879609302220800000000000000000000000000000 - (275445218902739248795976897482475357*x^11)/43980465111040000000000000000000000000000 + (42681720384939165495834266714001859289696486363*x^12)/43980465111040000000000000000000000000000 + (980936754216643731836513810142881*x^13)/10995116277760000000000000000000000000 - (327300639639471659797470503813150997614182819*x^14)/43980465111040000000000000000000000000 - (1982691191622693740071870097548569*x^15)/2199023255552000000000000000000000000 + (108950429735290228279935333783186927346324311*x^16)/2199023255552000000000000000000000000 + (58731278657958411439622156358241*x^17)/8796093022208000000000000000000000 - (2425484058509275509368070443404849133767971*x^18)/8796093022208000000000000000000000 - (16264064383175370100885948711649*x^19)/439804651110400000000000000000000 + (550202027015579962783915229518650949680671*x^20)/439804651110400000000000000000000 + (13655985893771155266433533099*x^21)/87960930222080000000000000000 - (25030369324354048404986246319596477219*x^22)/5497558138880000000000000000 - (547261219198926574966701093*x^23)/1099511627776000000000000000 + (7226464865404361161864830560715943101*x^24)/549755813888000000000000000 + (167818614934468673258807*x^25)/137438953472000000000000 - (1024225321605191968613028949672099*x^26)/34359738368000000000000 - (4904435333140605456463*x^27)/2147483648000000000000 + (450945681600174674633162894345123*x^28)/8589934592000000000000 + (27689217480660185641*x^29)/8589934592000000000 - (37957458386394886721439796341*x^30)/536870912000000000 - (361630988562619403*x^31)/107374182400000000 + (3821408315523505991756699001*x^32)/53687091200000000 + (67655421037389*x^33)/26843545600000 - (693953723827492545810167*x^34)/13421772800000 - (855774998987*x^35)/671088640000 + (17136482287690090850603*x^36)/671088640000 + (261824207*x^37)/671088640 - (321249360280046587*x^38)/41943040 - (456617*x^39)/8388608 + (4409064799849709*x^40)/4194304 + 5135510950085921264199373116391951/2567755475042959360000000000000000\n",
      "polynomial Function: 1.8871e-15*x - 18.0*x^2 - 1.2042e-12*x^3 + 162.0*x^4 + 1.4843e-10*x^5 - 1457.4*x^6 - 8.995e-9*x^7 + 13066.0*x^8 + 2.9885e-7*x^9 - 115280.0*x^10 - 6.2629e-6*x^11 + 970470.0*x^12 + 0.000089216*x^13 - 7.442e+6*x^14 - 0.00090162*x^15 + 4.9545e+7*x^16 + 0.006677*x^17 - 2.7575e+8*x^18 - 0.03698*x^19 + 1.251e+9*x^20 + 0.15525*x^21 - 4.553e+9*x^22 - 0.49773*x^23 + 1.3145e+10*x^24 + 1.221*x^25 - 2.9809e+10*x^26 - 2.2838*x^27 + 5.2497e+10*x^28 + 3.2234*x^29 - 7.0701e+10*x^30 - 3.368*x^31 + 7.1179e+10*x^32 + 2.5204*x^33 - 5.1704e+10*x^34 - 1.2752*x^35 + 2.5535e+10*x^36 + 0.39015*x^37 - 7.6592e+9*x^38 - 0.054433*x^39 + 1.0512e+9*x^40 + 2.0\n"
     ]
    }
   ],
   "source": [
    "polynomial_function = eng.divided_difference(X, F)\n",
    "print(f\"polynomial Function: {eng.string(polynomial_function)}\")\n",
    "print(f\"polynomial Function: {eng.string(eng.vpa(polynomial_function, 5))}\")"
   ]
  },
  {
   "cell_type": "code",
   "execution_count": 14,
   "metadata": {},
   "outputs": [
    {
     "name": "stdout",
     "output_type": "stream",
     "text": [
      "10665515012689771088457968895317902009140021168869879281588184626028489791241039/5567932128906250000000000000000000000000000000000000000000000000000000000000000\n",
      "1.9155253271352064\n"
     ]
    }
   ],
   "source": [
    "x = 0.07\n",
    "result = eng.subs(polynomial_function, x)\n",
    "print(eng.string(result))\n",
    "print(eng.double(result))"
   ]
  },
  {
   "cell_type": "markdown",
   "metadata": {},
   "source": [
    "\n",
    "What is the actual value of f (0.07)?"
   ]
  },
  {
   "cell_type": "code",
   "execution_count": 15,
   "metadata": {},
   "outputs": [
    {
     "data": {
      "text/plain": [
       "1.9155253328225266"
      ]
     },
     "execution_count": 15,
     "metadata": {},
     "output_type": "execute_result"
    }
   ],
   "source": [
    "2 / (1 + 9 * 0.07**2)"
   ]
  },
  {
   "cell_type": "markdown",
   "metadata": {},
   "source": [
    "### d)\n",
    "\n",
    "In this part, you are to (numerically) estimate the maximum interpolation error\n",
    "\n",
    "En = max −1≤x≤1 |f (x) − pn(x)|.\n",
    "\n",
    "(You don’t need to do anything fancy; simply discretize the interval [-1, 1] very finely - much more finely than the discretization implied by n. Then compute errors at the resulting discrete points.)\n",
    "\n",
    "Estimate En for n = 2, 4, 6, 8, 10, 12, 14, 16, 18, 20, and 40, for the function f (x) = 2 / (1 + 9x^2) given above and pn(x) the interpolating polynomial based on n using data as in part (c).\n",
    "\n",
    "Do the error estimates make sense? Explain your results."
   ]
  },
  {
   "cell_type": "code",
   "execution_count": 16,
   "metadata": {},
   "outputs": [],
   "source": [
    "X = {}\n",
    "F = {}\n",
    "P_n = {}\n",
    "\n",
    "X_discretization = {}\n",
    "DISCRETIZATION_DENSITY_RATIO = (\n",
    "    100  # 100 times more dense than n, but evenly discretized in [-1, 1]\n",
    ")\n",
    "\n",
    "E_n = {}\n",
    "\n",
    "for i in range(2, 20 + 1, 2):\n",
    "    X[str(i)] = [generate_x(j, i) for j in range(i + 1)]\n",
    "    F[str(i)] = [function(x) for x in X[str(i)]]\n",
    "    X_discretization[str(i)] = [\n",
    "        x / (i * DISCRETIZATION_DENSITY_RATIO) * (1 - (-1)) + -1\n",
    "        for x in range(i * DISCRETIZATION_DENSITY_RATIO + 1)\n",
    "    ]\n",
    "\n",
    "    X[str(i)] = matlab.double(X[str(i)])\n",
    "    F[str(i)] = matlab.double(F[str(i)])\n",
    "\n",
    "    # compute interpolation function\n",
    "    P_n[str(i)] = eng.divided_difference(X[str(i)], F[str(i)])\n",
    "\n",
    "    # compute error\n",
    "    E_n[str(i)] = np.max(\n",
    "        [\n",
    "            np.abs(function(x) - eng.double(eng.subs(P_n[str(i)], x)))\n",
    "            for x in X_discretization[str(i)]\n",
    "        ]\n",
    "    )\n",
    "\n",
    "# special case for n = 40\n",
    "X[\"40\"] = [generate_x(j, 40) for j in range(40 + 1)]\n",
    "F[\"40\"] = [function(x) for x in X[\"40\"]]\n",
    "X_discretization[\"40\"] = [\n",
    "    x / (40 * DISCRETIZATION_DENSITY_RATIO) * (1 - (-1)) + -1\n",
    "    for x in range(40 * DISCRETIZATION_DENSITY_RATIO + 1)\n",
    "]\n",
    "\n",
    "X[\"40\"] = matlab.double(X[\"40\"])\n",
    "F[\"40\"] = matlab.double(F[\"40\"])\n",
    "\n",
    "P_n[\"40\"] = eng.divided_difference(X[\"40\"], F[\"40\"])\n",
    "E_n[\"40\"] = np.max(\n",
    "    [\n",
    "        np.abs(function(x) - eng.double(eng.subs(P_n[\"40\"], x)))\n",
    "        for x in X_discretization[\"40\"]\n",
    "    ]\n",
    ")"
   ]
  },
  {
   "cell_type": "code",
   "execution_count": 17,
   "metadata": {},
   "outputs": [
    {
     "data": {
      "text/plain": [
       "{'2': np.float64(0.9350888158435888),\n",
       " '4': np.float64(0.596313372781065),\n",
       " '6': np.float64(0.6301901751946674),\n",
       " '8': np.float64(0.7681245303002563),\n",
       " '10': np.float64(0.9995971865664737),\n",
       " '12': np.float64(1.3514858830490715),\n",
       " '14': np.float64(1.8739160198479834),\n",
       " '16': np.float64(2.6450175325958294),\n",
       " '18': np.float64(3.783412922067518),\n",
       " '20': np.float64(5.4696283033072435),\n",
       " '40': np.float64(290.8113085542939)}"
      ]
     },
     "execution_count": 17,
     "metadata": {},
     "output_type": "execute_result"
    }
   ],
   "source": [
    "E_n"
   ]
  },
  {
   "cell_type": "markdown",
   "metadata": {},
   "source": [
    "# Question 2\n",
    "\n",
    "Suppose you wish to build a “sliding-window interpolation table” (as discussed in class) with entries of the form (x, f (x)) for the function f (x) = sin(x) over the interval [0, 2π].\n",
    "lease use uniform spacing between points.\n",
    "\n",
    "How ﬁne must the table spacing be in order to ensure 6 decimal digit accuracy(n decimal digit accuracy means the error is less than 1/2 · 10^{−n}, so in this case less than 5 · 10^{−7}.), assuming that you will use linear interpolation between adjacent points in the table?\n",
    "\n",
    "How ﬁne must the table spacing be if you will use quadratic interpolation?\n",
    "\n",
    "In each case, how many entries do you need in the table?"
   ]
  },
  {
   "cell_type": "code",
   "execution_count": 18,
   "metadata": {},
   "outputs": [
    {
     "name": "stdout",
     "output_type": "stream",
     "text": [
      "error_bound_function:\n",
      "0.5*y*(h - 1.0*y)\n",
      " \n",
      "derror_dy:\n",
      "0.5*h - 1.0*y\n",
      " \n",
      "candidate_points:\n",
      "  0\n",
      "h/2\n",
      "  h\n",
      " \n",
      "max_error_bound_function:\n",
      "0.125*h^2\n",
      " \n",
      "Warning: Solutions are only valid under certain conditions. To include parameters and conditions in the solution, specify the 'ReturnConditions' value as 'true'.\n",
      "> In sym/solve>warnIfParams (line 478)\n",
      "In sym/solve (line 357)\n",
      "In interpolation_interval (line 66)\n",
      "(-4722366482869645/(1180591620717411303424*sin(663210084916149/140737488355328)))^(1/2)\n",
      "0.0020000000000022066\n"
     ]
    }
   ],
   "source": [
    "# Linear interpolation\n",
    "\n",
    "linear_interpolation_interval = eng.interpolation_interval(\n",
    "    \"sin(x)\", matlab.double([0, 2 * np.pi]), 1, matlab.double(10 ** (-6))\n",
    ")\n",
    "\n",
    "print(eng.string(linear_interpolation_interval))\n",
    "print(eng.double(linear_interpolation_interval))"
   ]
  },
  {
   "cell_type": "code",
   "execution_count": 19,
   "metadata": {},
   "outputs": [
    {
     "data": {
      "text/plain": [
       "3142.592653586327"
      ]
     },
     "execution_count": 19,
     "metadata": {},
     "output_type": "execute_result"
    }
   ],
   "source": [
    "2 * np.pi / eng.double(linear_interpolation_interval) + 1"
   ]
  },
  {
   "cell_type": "code",
   "execution_count": 20,
   "metadata": {},
   "outputs": [
    {
     "name": "stdout",
     "output_type": "stream",
     "text": [
      "error_bound_function:\n",
      "0.16667*y*abs(h - 1.0*y)*(2.0*h - 1.0*y)\n",
      " \n",
      "derror_dy:\n",
      "0.16667*abs(h - 1.0*y)*(2.0*h - 1.0*y) - 0.16667*y*abs(h - 1.0*y) + 0.16667*y*sign(1.0*y - h)*(2.0*h - 1.0*y)\n",
      " \n",
      "candidate_points:\n",
      "                0\n",
      "                h\n",
      "h - (3^(1/2)*h)/3\n",
      "h + (3^(1/2)*h)/3\n",
      "              2*h\n",
      " \n",
      "max_error_bound_function:\n",
      "0.06415*h^3\n",
      " \n",
      "Warning: Solutions are only valid under certain conditions. To include parameters and conditions in the solution, specify the 'ReturnConditions' value as 'true'.\n",
      "> In sym/solve>warnIfParams (line 478)\n",
      "In sym/solve (line 357)\n",
      "In interpolation_interval (line 66)\n",
      "((42501298345826805*3^(1/2))/9444732965739290427392)^(1/3)\n",
      "0.01982703228250094\n"
     ]
    }
   ],
   "source": [
    "# Quadratic interpolation\n",
    "\n",
    "quadratic_interpolation_interval = eng.interpolation_interval(\n",
    "    \"sin(x)\", matlab.double([0, 2 * np.pi]), 2, matlab.double(10 ** (-6))\n",
    ")\n",
    "\n",
    "print(eng.string(quadratic_interpolation_interval))\n",
    "print(eng.double(quadratic_interpolation_interval))"
   ]
  },
  {
   "cell_type": "code",
   "execution_count": 21,
   "metadata": {},
   "outputs": [
    {
     "data": {
      "text/plain": [
       "317.8999383092263"
      ]
     },
     "execution_count": 21,
     "metadata": {},
     "output_type": "execute_result"
    }
   ],
   "source": [
    "2 * np.pi / eng.double(quadratic_interpolation_interval) + 1"
   ]
  },
  {
   "cell_type": "code",
   "execution_count": 2,
   "metadata": {},
   "outputs": [
    {
     "name": "stdout",
     "output_type": "stream",
     "text": [
      "error_bound_function:\n",
      "0.041667*y*abs((2.0*h - 1.0*y)*(h - 1.0*y))*(3.0*h - 1.0*y)\n",
      " \n",
      "derror_dy:\n",
      "0.041667*abs((2.0*h - 1.0*y)*(h - 1.0*y))*(3.0*h - 1.0*y) - 0.041667*y*abs((2.0*h - 1.0*y)*(h - 1.0*y)) + 0.041667*y*sign(-(2.0*h - 1.0*y)*(h - 1.0*y))*(3.0*h - 1.0*y)*(3.0*h - 2.0*y)\n",
      " \n",
      "candidate_points:\n",
      "                      0\n",
      "                      h\n",
      "(3*h)/2 - (5^(1/2)*h)/2\n",
      "(3*h)/2 + (5^(1/2)*h)/2\n",
      "                    2*h\n",
      "                (3*h)/2\n",
      "                    3*h\n",
      " \n",
      "max_error_bound_function:\n",
      "max([(h^4*sin(1768557072699249/1125899906842624))/24, (3*h^4*sin(1768557072699249/1125899906842624))/128], [], 2, 'omitnan', false)\n",
      " \n",
      "Warning: Unable to find explicit solution. For options, see <a href=\"matlab:web(fullfile(docroot, 'symbolic/troubleshoot-equation-solutions-from-solve-function.html'))\">help</a>.\n",
      "> In sym/solve (line 317)\n",
      "In interpolation_interval (line 66)\n",
      "[]\n",
      "[]\n"
     ]
    }
   ],
   "source": [
    "# Cubic interpolation\n",
    "\n",
    "cubic_interpolation_interval = eng.interpolation_interval(\n",
    "    \"sin(x)\", matlab.double([0, 2 * np.pi]), 3, matlab.double(10 ** (-6))\n",
    ")\n",
    "\n",
    "print(eng.string(cubic_interpolation_interval))\n",
    "print(eng.double(cubic_interpolation_interval))"
   ]
  },
  {
   "cell_type": "code",
   "execution_count": 3,
   "metadata": {},
   "outputs": [
    {
     "name": "stdout",
     "output_type": "stream",
     "text": [
      "error_bound_function:\n",
      "0.0083333*y*abs((2.0*h - 1.0*y)*(3.0*h - 1.0*y)*(h - 1.0*y))*(4.0*h - 1.0*y)\n",
      " \n",
      "derror_dy:\n",
      "0.0083333*abs((2.0*h - 1.0*y)*(3.0*h - 1.0*y)*(h - 1.0*y))*(4.0*h - 1.0*y) - 0.0083333*y*abs((2.0*h - 1.0*y)*(3.0*h - 1.0*y)*(h - 1.0*y)) - 0.0083333*y*sign((2.0*h - 1.0*y)*(3.0*h - 1.0*y)*(h - 1.0*y))*(4.0*h - 1.0*y)*((2.0*h - 1.0*y)*(3.0*h - 1.0*y) + (2.0*h - 1.0*y)*(h - 1.0*y) + (3.0*h - 1.0*y)*(h - 1.0*y))\n",
      " \n",
      "candidate_points:\n",
      "                                      0\n",
      "                                      h\n",
      "2*h - (h*(6 - (2*145^(1/2))/5)^(1/2))/2\n",
      "2*h + (h*(6 - (2*145^(1/2))/5)^(1/2))/2\n",
      "2*h - (h*((2*145^(1/2))/5 + 6)^(1/2))/2\n",
      "2*h + (h*((2*145^(1/2))/5 + 6)^(1/2))/2\n",
      "                                    2*h\n",
      "                                    3*h\n",
      "                                    4*h\n",
      " \n",
      "max_error_bound_function:\n",
      "max([-(h^5*cos(4471530693467179/73786976294838206464)*(10^(1/2) - 5*58^(1/2))*(145^(1/2) + 15)^(1/2))/6000, (h^5*cos(4471530693467179/73786976294838206464)*(10^(1/2) + 5*58^(1/2))*(15 - 145^(1/2))^(1/2))/6000], [], 2, 'omitnan', false)\n",
      " \n",
      "Warning: Unable to find explicit solution. For options, see <a href=\"matlab:web(fullfile(docroot, 'symbolic/troubleshoot-equation-solutions-from-solve-function.html'))\">help</a>.\n",
      "> In sym/solve (line 317)\n",
      "In interpolation_interval (line 66)\n",
      "[]\n",
      "[]\n"
     ]
    }
   ],
   "source": [
    "# Quartic interpolation\n",
    "\n",
    "quartic_interpolation_interval = eng.interpolation_interval(\n",
    "    \"sin(x)\", matlab.double([0, 2 * np.pi]), 4, matlab.double(10 ** (-6))\n",
    ")\n",
    "\n",
    "print(eng.string(quartic_interpolation_interval))\n",
    "print(eng.double(quartic_interpolation_interval))"
   ]
  },
  {
   "cell_type": "markdown",
   "metadata": {},
   "source": [
    "# Question 3\n",
    "\n",
    "Implement Newton’s Method. Consider the following equation:\n",
    "\n",
    "x = tanx.\n",
    "\n",
    "There are an infinite number of solutions x to this equation.\n",
    "Use Newton’s method to ﬁnd the two solutions on either side of 15.\n",
    "In other words, ﬁnd two solutions x_low < 15 < x_high such that the interval [xlow, xhigh] contains no other solutions.\n",
    "— Use any techniques you need to start Newton in regions of convergence.\n",
    "Those regions may be very small."
   ]
  },
  {
   "cell_type": "code",
   "execution_count": 22,
   "metadata": {},
   "outputs": [
    {
     "name": "stdout",
     "output_type": "stream",
     "text": [
      "12.566370614359172\n",
      "14.137166941154069\n",
      "15.707963267948966\n",
      "17.27875959474386\n",
      "18.84955592153876\n"
     ]
    }
   ],
   "source": [
    "print(4 * np.pi)\n",
    "print(4.5 * np.pi)\n",
    "print(5 * np.pi)\n",
    "print(5.5 * np.pi)\n",
    "print(6 * np.pi)"
   ]
  },
  {
   "cell_type": "code",
   "execution_count": 23,
   "metadata": {},
   "outputs": [
    {
     "name": "stdout",
     "output_type": "stream",
     "text": [
      "13.823007675795091\n",
      "16.964600329384883\n"
     ]
    }
   ],
   "source": [
    "print(4.4 * np.pi)\n",
    "print(5.4 * np.pi)"
   ]
  },
  {
   "cell_type": "code",
   "execution_count": 24,
   "metadata": {},
   "outputs": [
    {
     "name": "stdout",
     "output_type": "stream",
     "text": [
      "f_handle:\n",
      "    @(x)x-tan(x)\n",
      "\n",
      "df_handle:\n",
      "    @(x)-tan(x).^2\n",
      "\n",
      "Preliminary stop at iteration: 2\n",
      "14.066193915002767\n",
      "-4.296074074261469e-07\n"
     ]
    }
   ],
   "source": [
    "x_low = eng.newton_method(\"x - tan(x)\", 4.48 * np.pi, 10 ** (-6), 500)\n",
    "\n",
    "print(eng.double(x_low))\n",
    "print(x_low - np.tan(x_low))"
   ]
  },
  {
   "cell_type": "code",
   "execution_count": 25,
   "metadata": {},
   "outputs": [
    {
     "name": "stdout",
     "output_type": "stream",
     "text": [
      "f_handle:\n",
      "    @(x)x-tan(x)\n",
      "\n",
      "df_handle:\n",
      "    @(x)-tan(x).^2\n",
      "\n",
      "Preliminary stop at iteration: 2\n",
      "17.220755272066615\n",
      "-4.028582267778802e-08\n"
     ]
    }
   ],
   "source": [
    "x_high = eng.newton_method(\"x - tan(x)\", 5.48 * np.pi, 10 ** (-6), 500)\n",
    "\n",
    "print(eng.double(x_high))\n",
    "print(x_high - np.tan(x_high))"
   ]
  },
  {
   "cell_type": "markdown",
   "metadata": {},
   "source": [
    "# Question 5\n",
    "\n",
    "a) Implement Muller’s method.\n",
    "\n",
    "b) Use Muller’s method to ﬁnd good numerical approximations for all the real and complex roots of the polynomial p(x) = x^3 + x + 1.\n"
   ]
  },
  {
   "cell_type": "code",
   "execution_count": 26,
   "metadata": {},
   "outputs": [],
   "source": [
    "def divided_difference_table(X: np.ndarray, Fx: np.ndarray) -> np.ndarray:\n",
    "    \"\"\"Construct divided difference table\n",
    "\n",
    "    Args:\n",
    "        X (np.ndarray): vector of x values\n",
    "        Fx (np.ndarray): vector of f(x) values\n",
    "\n",
    "    Returns:\n",
    "        np.ndarray: divided_difference_table with columns indicating # of x values used, rows indicating leading x index\n",
    "    \"\"\"\n",
    "\n",
    "    X = X.copy().astype(complex).reshape(-1)\n",
    "    Fx = Fx.copy().astype(complex).reshape(-1)\n",
    "\n",
    "    assert X.shape == Fx.shape, \"X and F must have the same length!\"\n",
    "\n",
    "    n = X.shape[0]\n",
    "\n",
    "    divided_difference_table = np.zeros((n, n)).astype(complex)\n",
    "    divided_difference_table[:, 0] = Fx.reshape(-1, 1)[:, 0]\n",
    "\n",
    "    for column in range(1, n):\n",
    "        for row in range(0, n - column):\n",
    "            divided_difference_table[row, column] = (\n",
    "                divided_difference_table[row + 1, column - 1]\n",
    "                - divided_difference_table[row, column - 1]\n",
    "            ) / (X[row + column] - X[row])\n",
    "\n",
    "    return divided_difference_table"
   ]
  },
  {
   "cell_type": "code",
   "execution_count": 27,
   "metadata": {},
   "outputs": [],
   "source": [
    "def muller_method(f, X: np.ndarray, tol: float, max_iter: int):\n",
    "    \"\"\"Muller's method for finding roots of a function\n",
    "\n",
    "    Args:\n",
    "        f (_type_): function that takes exactly 1 numerical argument and output a numerical value\n",
    "        X (np.ndarray): a list of 3 initial guesses\n",
    "        tol (float): numerical tolerance\n",
    "        max_iter (int): maximum number of iterations\n",
    "\n",
    "    Return:\n",
    "        root: a root of the function\n",
    "        X: all x values used\n",
    "        Fx: all f(x) values used\n",
    "        Error: all errors to 0 evaluated at each iteration\n",
    "    \"\"\"\n",
    "\n",
    "    X = X.copy().astype(complex).reshape(-1)\n",
    "\n",
    "    assert X.shape[0] == 3, \"X must have 3 initial guesses!\"\n",
    "\n",
    "    Fx = np.array([f(x) for x in X]).astype(complex)\n",
    "    Error = np.array([])\n",
    "\n",
    "    for iteration in range(max_iter):\n",
    "        diff_table = divided_difference_table(X[-3:], Fx[-3:])\n",
    "\n",
    "        a = diff_table[0, 2]\n",
    "        b = diff_table[1, 1] + a * (X[-1] - X[-2])\n",
    "        c = Fx[-1]\n",
    "\n",
    "        discriminant = b**2 - 4 * a * c\n",
    "        sqrt_discriminant = np.sqrt(discriminant)\n",
    "\n",
    "        # Choose the root that gives the larger denominator to avoid division by zero\n",
    "        if abs(b + sqrt_discriminant) > abs(b - sqrt_discriminant):\n",
    "            x_next = X[-1] - (2 * c) / (b + sqrt_discriminant)\n",
    "        else:\n",
    "            x_next = X[-1] - (2 * c) / (b - sqrt_discriminant)\n",
    "\n",
    "        f_next = f(x_next)\n",
    "\n",
    "        X = np.append(X, x_next)\n",
    "        Fx = np.append(Fx, f_next)\n",
    "        Error = np.append(Error, np.abs(f_next))\n",
    "\n",
    "        if Error[-1] < tol:\n",
    "            print(\"Preliminary stop at iteration\", iteration)\n",
    "            break\n",
    "\n",
    "    return X[np.argmin(np.abs(Fx))], X, Fx, Error"
   ]
  },
  {
   "cell_type": "code",
   "execution_count": 28,
   "metadata": {},
   "outputs": [],
   "source": [
    "def f(x: float) -> float:\n",
    "    return x**3 + x + 1"
   ]
  },
  {
   "cell_type": "code",
   "execution_count": 29,
   "metadata": {},
   "outputs": [
    {
     "name": "stdout",
     "output_type": "stream",
     "text": [
      "Preliminary stop at iteration 14\n",
      "Root: (-0.6823277910465949-1.7838523253419706e-08j) found with error 5.259559188223601e-08\n"
     ]
    }
   ],
   "source": [
    "root, _, _, Error = muller_method(f, np.array([10, 1, 200]), 10 ** (-6), 500)\n",
    "print(\"Root:\", root, \"found with error\", Error[-1])"
   ]
  },
  {
   "cell_type": "code",
   "execution_count": 30,
   "metadata": {},
   "outputs": [
    {
     "name": "stdout",
     "output_type": "stream",
     "text": [
      "Preliminary stop at iteration 6\n",
      "Root: (0.34116390304153943-1.161541399050596j) found with error 5.294810164484942e-09\n"
     ]
    }
   ],
   "source": [
    "root, _, _, Error = muller_method(f, np.array([-100, 1, 2]), 10 ** (-6), 500)\n",
    "print(\"Root:\", root, \"found with error\", Error[-1])"
   ]
  },
  {
   "cell_type": "code",
   "execution_count": 31,
   "metadata": {},
   "outputs": [
    {
     "name": "stdout",
     "output_type": "stream",
     "text": [
      "Preliminary stop at iteration 5\n",
      "Root: (0.34116391673270413+1.1615413748345362j) found with error 1.0502317527862893e-07\n"
     ]
    }
   ],
   "source": [
    "root, _, _, Error = muller_method(f, np.array([1j, 2j, 4 + 3j]), 10 ** (-6), 500)\n",
    "print(\"Root:\", root, \"found with error\", Error[-1])"
   ]
  }
 ],
 "metadata": {
  "kernelspec": {
   "display_name": "16811-hw",
   "language": "python",
   "name": "python3"
  },
  "language_info": {
   "codemirror_mode": {
    "name": "ipython",
    "version": 3
   },
   "file_extension": ".py",
   "mimetype": "text/x-python",
   "name": "python",
   "nbconvert_exporter": "python",
   "pygments_lexer": "ipython3",
   "version": "3.12.5"
  }
 },
 "nbformat": 4,
 "nbformat_minor": 2
}
