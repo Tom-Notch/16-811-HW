{
 "cells": [
  {
   "cell_type": "code",
   "execution_count": 1408,
   "metadata": {},
   "outputs": [],
   "source": [
    "import numpy as np\n",
    "import sympy as sp\n",
    "from scipy import optimize\n",
    "import matplotlib.pyplot as plt"
   ]
  },
  {
   "cell_type": "markdown",
   "metadata": {},
   "source": [
    "# Question 1\n",
    "\n",
    "Consider the function f (x) = sin(x) − 0.5 over the interval [− π / 2 , π / 2 ].\n",
    "\n",
    "a) What is the Taylor series expansion for f (x) around x = 0 ?\n",
    "\n",
    "b) Graph f (x) over the interval [− π / 2 , π / 2 ]."
   ]
  },
  {
   "cell_type": "code",
   "execution_count": 1409,
   "metadata": {},
   "outputs": [
    {
     "data": {
      "image/png": "[encoded data removed]",
      "text/plain": [
       "<Figure size 640x480 with 1 Axes>"
      ]
     },
     "metadata": {},
     "output_type": "display_data"
    }
   ],
   "source": [
    "# Graphs the function f(x) = sin(x) - 0.5 on the interval [-pi / 2, pi / 2]\n",
    "x = np.linspace(-np.pi / 2, np.pi / 2, 100)\n",
    "y = np.sin(x) - 0.5\n",
    "plt.plot(x, y)\n",
    "plt.xlabel(\"x\")\n",
    "plt.ylabel(\"f(x)\")\n",
    "plt.title(\"f(x) = sin(x) - 0.5\")\n",
    "plt.grid()\n",
    "plt.savefig(\"../figs/Q1.png\")\n",
    "plt.show()"
   ]
  },
  {
   "cell_type": "markdown",
   "metadata": {},
   "source": [
    "c) Determine the best uniform approximation by a quadratic to the function f (x) on the interval [− π / 2 , π / 2 ].\n",
    "What are the L∞ and L2 errors for this approximation?"
   ]
  },
  {
   "cell_type": "code",
   "execution_count": 1410,
   "metadata": {},
   "outputs": [],
   "source": [
    "# define f(x) in sympy\n",
    "x = sp.symbols(\"x\", real=True)\n",
    "\n",
    "f = sp.sin(x) - 0.5"
   ]
  },
  {
   "cell_type": "code",
   "execution_count": 1411,
   "metadata": {},
   "outputs": [],
   "source": [
    "# define interval\n",
    "a = -np.pi / 2\n",
    "b = np.pi / 2\n",
    "\n",
    "interval = [a, b]"
   ]
  },
  {
   "cell_type": "code",
   "execution_count": 1412,
   "metadata": {},
   "outputs": [],
   "source": [
    "# define degree of polynomial\n",
    "n = 2"
   ]
  },
  {
   "cell_type": "code",
   "execution_count": 1413,
   "metadata": {},
   "outputs": [],
   "source": [
    "def find_all_roots(func, interval, num_points=100):\n",
    "    x_vals = np.linspace(interval[0], interval[1], num_points)\n",
    "    roots = []\n",
    "    for i in range(len(x_vals) - 1):\n",
    "        x0, x1 = x_vals[i], x_vals[i + 1]\n",
    "        if np.sign(func(x0)) != np.sign(func(x1)):\n",
    "            root = optimize.brentq(func, x0, x1)\n",
    "            roots.append(root)\n",
    "    return np.array(roots)"
   ]
  },
  {
   "cell_type": "code",
   "execution_count": 1414,
   "metadata": {},
   "outputs": [],
   "source": [
    "def find_max(f, interval):\n",
    "    \"\"\"find the maximum value of a function f(x) on an interval [a, b]\n",
    "\n",
    "    Args:\n",
    "        f (_type_): function\n",
    "        interval (list): the interval [a, b] to search for the maximum\n",
    "\n",
    "    Returns:\n",
    "        max_val (float): maximum value of f(x) on the interval\n",
    "        max_x (float): x value where f(x) is maximized\n",
    "    \"\"\"\n",
    "    x = sp.symbols(\"x\", real=True)\n",
    "\n",
    "    f_numerical = sp.lambdify(x, f, \"numpy\")\n",
    "\n",
    "    f_prime = sp.diff(f, x)\n",
    "    f_prime_numerical = sp.lambdify(x, f_prime, \"numpy\")\n",
    "\n",
    "    roots = find_all_roots(f_prime_numerical, interval)\n",
    "    roots = np.append(roots, interval)\n",
    "    roots = np.unique(roots)\n",
    "\n",
    "    max_val = np.max(f_numerical(roots))\n",
    "    max_x = roots[np.argmax(f_numerical(roots))]\n",
    "\n",
    "    return max_val, max_x"
   ]
  },
  {
   "cell_type": "code",
   "execution_count": 1415,
   "metadata": {},
   "outputs": [],
   "source": [
    "def remez_exchange(\n",
    "    f, n: int, interval: list, max_num_iteration: int = 100, tolerance: float = 1e-5\n",
    "):\n",
    "    \"\"\"Remez Exchange Algorithm\n",
    "\n",
    "    Args:\n",
    "        f (_type_): univariate function\n",
    "        n (int): polynomial degree\n",
    "        interval (list): interval for uniform approximate\n",
    "        max_num_iteration (int): max number of iteration\n",
    "        tolerance (float): tolerance of point change between updates\n",
    "    \"\"\"\n",
    "\n",
    "    assert len(interval) == 2, \"Interval must be a list of 2 elements\"\n",
    "\n",
    "    # we need n + 2 points to construct a polynomial of degree n, uniform initialization\n",
    "    xi = np.linspace(interval[0], interval[1], n + 2)\n",
    "\n",
    "    # define x\n",
    "    x = sp.symbols(\"x\", real=True)\n",
    "\n",
    "    # numerical function f\n",
    "    f_numerical = sp.lambdify(x, f, \"numpy\")\n",
    "\n",
    "    # determine if f^(n + 1) does not change sign in the interval\n",
    "    f_n_plus_1 = sp.diff(f, x, n + 1)\n",
    "    roots = find_all_roots(sp.lambdify(x, f_n_plus_1, \"numpy\"), interval)\n",
    "\n",
    "    if len(roots) == 0:\n",
    "        print(\"f^(n + 1) does not change sign in the interval\")\n",
    "        xi[0] = interval[0]\n",
    "        xi[-1] = interval[1]\n",
    "\n",
    "    # # some turbulence in the initial points\n",
    "    # xi[1] = -1.0\n",
    "\n",
    "    for iter in range(max_num_iteration):\n",
    "        print(f\"\\nIteration {iter}\\n\")\n",
    "\n",
    "        # construct linear system\n",
    "        A = np.ones((n + 2, n + 2))\n",
    "        for degree in range(n + 1):\n",
    "            A[:, degree] = xi**degree\n",
    "        A[:, -1] = (-1) ** np.arange(n + 2)\n",
    "\n",
    "        b = f_numerical(xi).reshape(-1, 1)\n",
    "\n",
    "        print(f\"xi: {xi}\")\n",
    "        print(f\"A: {A}\")\n",
    "        print(f\"b: {b}\")\n",
    "\n",
    "        # solve linear system\n",
    "        solution = np.linalg.solve(A, b).flatten()\n",
    "\n",
    "        print(f\"solution: {solution}\")\n",
    "\n",
    "        poly_coeff = solution[:-1]\n",
    "        error = np.abs(solution[-1])\n",
    "\n",
    "        # construct polynomial function with sympy\n",
    "        poly = 0\n",
    "        for degree in range(n + 1):\n",
    "            poly += poly_coeff[degree] * x**degree\n",
    "\n",
    "        print(\"Polynomial function:\")\n",
    "        sp.pprint(poly)\n",
    "\n",
    "        # find the maximum error\n",
    "        error_func = f - poly\n",
    "        error_func_numerical = sp.lambdify(x, error_func, \"numpy\")\n",
    "        max_error_abs, max_point = find_max(error_func, interval)\n",
    "        print(f\"max error: {max_error_abs}\")\n",
    "        print(f\"max point: {max_point}\")\n",
    "\n",
    "        # filter out the points with the same sign as the maximum error\n",
    "        xi_new = xi.copy()\n",
    "        xi_same_sign = xi_new[\n",
    "            np.where(\n",
    "                np.sign(error_func_numerical(xi_new))\n",
    "                == np.sign(error_func_numerical(max_point))\n",
    "            )\n",
    "        ]\n",
    "\n",
    "        # find the closest point to the maximum error point and replace it with the maximum error point\n",
    "        closest_point = xi_same_sign[np.argmin(np.abs(xi_same_sign - max_point))]\n",
    "        xi_new[np.where(xi_new == closest_point)] = max_point\n",
    "\n",
    "        print(f\"xi_new: {xi_new}\")\n",
    "\n",
    "        # if the error changing is less than tolerance, break the loop\n",
    "        if np.abs(np.abs(error) - max_error_abs) < tolerance:\n",
    "            print(f\"Converged after {iter} iterations\")\n",
    "            break\n",
    "\n",
    "        xi = np.sort(xi_new)\n",
    "\n",
    "    if iter == max_num_iteration - 1:\n",
    "        print(f\"Did not converge after {max_num_iteration} iterations\")\n",
    "\n",
    "    return poly, poly_coeff, max_error_abs"
   ]
  },
  {
   "cell_type": "code",
   "execution_count": 1416,
   "metadata": {},
   "outputs": [
    {
     "name": "stdout",
     "output_type": "stream",
     "text": [
      "f^(n + 1) does not change sign in the interval\n",
      "\n",
      "Iteration 0\n",
      "\n",
      "xi: [-1.57079633 -0.52359878  0.52359878  1.57079633]\n",
      "A: [[ 1.         -1.57079633  2.4674011   1.        ]\n",
      " [ 1.         -0.52359878  0.27415568 -1.        ]\n",
      " [ 1.          0.52359878  0.27415568  1.        ]\n",
      " [ 1.          1.57079633  2.4674011  -1.        ]]\n",
      "b: [[-1.50000000e+00]\n",
      " [-1.00000000e+00]\n",
      " [-1.66533454e-16]\n",
      " [ 5.00000000e-01]]\n",
      "solution: [-5.00000000e-01  7.16197244e-01  2.10917083e-17  1.25000000e-01]\n",
      "Polynomial function:\n",
      "                      2                            \n",
      "2.10917083053745e-17⋅x  + 0.716197243913529⋅x - 0.5\n",
      "max error: 0.1446654676960616\n",
      "max point: 0.7724582267976375\n",
      "xi_new: [-1.57079633 -0.52359878  0.77245823  1.57079633]\n",
      "\n",
      "Iteration 1\n",
      "\n",
      "xi: [-1.57079633 -0.52359878  0.77245823  1.57079633]\n",
      "A: [[ 1.         -1.57079633  2.4674011   1.        ]\n",
      " [ 1.         -0.52359878  0.27415568 -1.        ]\n",
      " [ 1.          0.77245823  0.59669171  1.        ]\n",
      " [ 1.          1.57079633  2.4674011  -1.        ]]\n",
      "b: [[-1.5       ]\n",
      " [-1.        ]\n",
      " [ 0.19789792]\n",
      " [ 0.5       ]]\n",
      "solution: [-0.48877976  0.72095926 -0.00454739  0.13248016]\n",
      "Polynomial function:\n",
      "                       2                                          \n",
      "- 0.00454739176274951⋅x  + 0.720959261431812⋅x - 0.488779760561222\n",
      "max error: 0.13248387390617652\n",
      "max point: 0.7757385162961677\n",
      "xi_new: [-1.57079633 -0.52359878  0.77573852  1.57079633]\n",
      "Converged after 1 iterations\n"
     ]
    }
   ],
   "source": [
    "poly, poly_coeff, E = remez_exchange(f, n, interval, max_num_iteration=1000)"
   ]
  },
  {
   "cell_type": "code",
   "execution_count": 1417,
   "metadata": {},
   "outputs": [
    {
     "name": "stdout",
     "output_type": "stream",
     "text": [
      "Polynomial:\n",
      "                       2                                          \n",
      "- 0.00454739176274951⋅x  + 0.720959261431812⋅x - 0.488779760561222\n"
     ]
    }
   ],
   "source": [
    "# Print the polynomial\n",
    "print(\"Polynomial:\")\n",
    "sp.pprint(poly)"
   ]
  },
  {
   "cell_type": "code",
   "execution_count": 1418,
   "metadata": {},
   "outputs": [
    {
     "data": {
      "image/png": "[encoded data removed]",
      "text/plain": [
       "<Figure size 640x480 with 1 Axes>"
      ]
     },
     "metadata": {},
     "output_type": "display_data"
    }
   ],
   "source": [
    "# Graph the function f(x) = sin(x) - 0.5 and the polynomial approximation\n",
    "x_point = np.linspace(interval[0], interval[1], 100)\n",
    "y = np.sin(x_point) - 0.5\n",
    "p = sp.lambdify(x, poly, \"numpy\")\n",
    "y_poly = p(x_point)\n",
    "\n",
    "plt.plot(x_point, y, label=\"f(x) = sin(x) - 0.5\")\n",
    "plt.plot(x_point, y_poly, label=f\"BUA of order {n}\")\n",
    "plt.xlabel(\"x\")\n",
    "plt.ylabel(\"y\")\n",
    "plt.title(f\"f(x) = sin(x) - 0.5 and BUA of order {n} with error {E}\")\n",
    "plt.legend()\n",
    "plt.grid()\n",
    "plt.savefig(f\"../figs/Q1_c_poly_{n}.png\")\n",
    "plt.show()"
   ]
  },
  {
   "cell_type": "code",
   "execution_count": 1419,
   "metadata": {},
   "outputs": [
    {
     "data": {
      "text/latex": [
       "$\\displaystyle 0.173818650785871$"
      ],
      "text/plain": [
       "0.173818650785871"
      ]
     },
     "execution_count": 1419,
     "metadata": {},
     "output_type": "execute_result"
    }
   ],
   "source": [
    "# Calculate L_2 error\n",
    "sp.sqrt(sp.integrate((f - poly) ** 2, (x, interval[0], interval[1])))"
   ]
  },
  {
   "cell_type": "markdown",
   "metadata": {},
   "source": [
    "d) Determine the best least-squares approximation by a quadratic to the function f (x) over the interval [− π / 2 , π / 2 ].\n",
    "What are the L∞ and L2 errors for this approximation?"
   ]
  },
  {
   "cell_type": "code",
   "execution_count": 1420,
   "metadata": {},
   "outputs": [],
   "source": [
    "def legendre_dot(f, g, interval: list):\n",
    "    \"\"\"The Legendre norm of the dot product of two functions\n",
    "\n",
    "    Args:\n",
    "        f (_type_): left function\n",
    "        g (_type_): right function\n",
    "        interval (list): interval of integration\n",
    "\n",
    "    Returns:\n",
    "        the norm\n",
    "    \"\"\"\n",
    "    x = sp.symbols(\"x\", real=True)\n",
    "    return sp.integrate(f * g, (x, interval[0], interval[1]))"
   ]
  },
  {
   "cell_type": "code",
   "execution_count": 1421,
   "metadata": {},
   "outputs": [],
   "source": [
    "def legendre_polynomial(n: int, interval: list):\n",
    "    \"\"\"Generate legendre polynomial of degree n\n",
    "\n",
    "    Args:\n",
    "        n (int): polynomial degree\n",
    "        interval (list): the interval that defines the orthogonality\n",
    "\n",
    "    Returns:\n",
    "        the legendre polynomial\n",
    "    \"\"\"\n",
    "    x = sp.symbols(\"x\", real=True)\n",
    "    if n > 1:\n",
    "        P_n_minus_1 = legendre_polynomial(n - 1, interval)\n",
    "        P_n_minus_2 = legendre_polynomial(n - 2, interval)\n",
    "        return sp.expand(\n",
    "            (\n",
    "                x\n",
    "                - legendre_dot(\n",
    "                    x * P_n_minus_1,\n",
    "                    P_n_minus_1,\n",
    "                    interval,\n",
    "                )\n",
    "                / legendre_dot(\n",
    "                    P_n_minus_1,\n",
    "                    P_n_minus_1,\n",
    "                    interval,\n",
    "                )\n",
    "            )\n",
    "            * P_n_minus_1\n",
    "            - legendre_dot(\n",
    "                P_n_minus_1,\n",
    "                P_n_minus_1,\n",
    "                interval,\n",
    "            )\n",
    "            / legendre_dot(\n",
    "                P_n_minus_2,\n",
    "                P_n_minus_2,\n",
    "                interval,\n",
    "            )\n",
    "            * P_n_minus_2\n",
    "        )\n",
    "    elif n == 1:\n",
    "        return x\n",
    "    elif n == 0:\n",
    "        return 1\n",
    "    else:\n",
    "        raise ValueError(\"n must be a non-negative integer\")"
   ]
  },
  {
   "cell_type": "code",
   "execution_count": 1422,
   "metadata": {},
   "outputs": [],
   "source": [
    "interval = [-sp.pi / 2, sp.pi / 2]"
   ]
  },
  {
   "cell_type": "code",
   "execution_count": 1423,
   "metadata": {},
   "outputs": [
    {
     "name": "stdout",
     "output_type": "stream",
     "text": [
      "Legendre polynomial of degree 2\n",
      "      2\n",
      " 2   π \n",
      "x  - ──\n",
      "     12\n"
     ]
    }
   ],
   "source": [
    "n = 2\n",
    "print(f\"Legendre polynomial of degree {n}\")\n",
    "sp.pprint(legendre_polynomial(n, interval))"
   ]
  },
  {
   "cell_type": "code",
   "execution_count": 1424,
   "metadata": {},
   "outputs": [
    {
     "name": "stdout",
     "output_type": "stream",
     "text": [
      "Legendre polynomial of degree 3\n",
      "        2  \n",
      " 3   3⋅π ⋅x\n",
      "x  - ──────\n",
      "       20  \n"
     ]
    }
   ],
   "source": [
    "n = 3\n",
    "print(f\"Legendre polynomial of degree {n}\")\n",
    "sp.pprint(legendre_polynomial(n, interval))"
   ]
  },
  {
   "cell_type": "code",
   "execution_count": 1425,
   "metadata": {},
   "outputs": [
    {
     "name": "stdout",
     "output_type": "stream",
     "text": [
      "Legendre polynomial of degree 4\n",
      "        2  2      4\n",
      " 4   3⋅π ⋅x    3⋅π \n",
      "x  - ─────── + ────\n",
      "       14      560 \n"
     ]
    }
   ],
   "source": [
    "n = 4\n",
    "print(f\"Legendre polynomial of degree {n}\")\n",
    "sp.pprint(legendre_polynomial(n, interval))"
   ]
  },
  {
   "cell_type": "code",
   "execution_count": 1426,
   "metadata": {},
   "outputs": [
    {
     "name": "stdout",
     "output_type": "stream",
     "text": [
      "Legendre polynomial of degree 5\n",
      "        2  3      4  \n",
      " 5   5⋅π ⋅x    5⋅π ⋅x\n",
      "x  - ─────── + ──────\n",
      "       18       336  \n"
     ]
    }
   ],
   "source": [
    "n = 5\n",
    "print(f\"Legendre polynomial of degree {n}\")\n",
    "sp.pprint(legendre_polynomial(n, interval))"
   ]
  },
  {
   "cell_type": "code",
   "execution_count": 1427,
   "metadata": {},
   "outputs": [
    {
     "name": "stdout",
     "output_type": "stream",
     "text": [
      "Legendre polynomial of degree 6\n",
      "         2  4      4  2      6 \n",
      " 6   15⋅π ⋅x    5⋅π ⋅x    5⋅π  \n",
      "x  - ──────── + ─────── - ─────\n",
      "        44        176     14784\n"
     ]
    }
   ],
   "source": [
    "n = 6\n",
    "print(f\"Legendre polynomial of degree {n}\")\n",
    "sp.pprint(legendre_polynomial(n, interval))"
   ]
  },
  {
   "cell_type": "code",
   "execution_count": 1428,
   "metadata": {},
   "outputs": [],
   "source": [
    "def least_square_approximation(f, n: int, interval: list):\n",
    "    \"\"\"Least square approximation\n",
    "\n",
    "    Args:\n",
    "        f (_type_): univariate function\n",
    "        n (int): polynomial degree\n",
    "        interval (list): interval for uniform approximate\n",
    "\n",
    "    Returns:\n",
    "        the polynomial\n",
    "    \"\"\"\n",
    "\n",
    "    x = sp.symbols(\"x\", real=True)\n",
    "\n",
    "    # construct the legendre polynomials\n",
    "    legendre_polynomials = [legendre_polynomial(i, interval) for i in range(n + 1)]\n",
    "\n",
    "    print(f\"Legendre polynomials: {legendre_polynomials}\")\n",
    "\n",
    "    projection_coefficients = [\n",
    "        legendre_dot(f, P, interval) / legendre_dot(P, P, interval)\n",
    "        for P in legendre_polynomials\n",
    "    ]\n",
    "\n",
    "    print(f\"Projection coefficients: {projection_coefficients}\")\n",
    "\n",
    "    poly = 0\n",
    "    for coefficient, P in zip(projection_coefficients, legendre_polynomials):\n",
    "        poly += coefficient * P\n",
    "\n",
    "    return poly"
   ]
  },
  {
   "cell_type": "code",
   "execution_count": 1429,
   "metadata": {},
   "outputs": [
    {
     "name": "stdout",
     "output_type": "stream",
     "text": [
      "Legendre polynomials: [1, x, x**2 - pi**2/12]\n",
      "Projection coefficients: [-0.500000000000000, 24.0/pi**3, 0]\n",
      "Degree 2 least square approximation of function sin(x) - 0.5\n",
      "24.0⋅x      \n",
      "────── - 0.5\n",
      "   3        \n",
      "  π         \n"
     ]
    }
   ],
   "source": [
    "n = 2\n",
    "poly = least_square_approximation(f, n, interval)\n",
    "print(f\"Degree {n} least square approximation of function {f}\")\n",
    "sp.pprint(poly)"
   ]
  },
  {
   "cell_type": "code",
   "execution_count": 1430,
   "metadata": {},
   "outputs": [],
   "source": [
    "interval_numerical = [float(interval[0]), float(interval[1])]"
   ]
  },
  {
   "cell_type": "code",
   "execution_count": 1431,
   "metadata": {},
   "outputs": [
    {
     "name": "stdout",
     "output_type": "stream",
     "text": [
      "Maximum error: 0.2158542037080533\n"
     ]
    }
   ],
   "source": [
    "L_inf, _ = find_max(f - poly, interval_numerical)\n",
    "print(f\"Maximum error: {L_inf}\")"
   ]
  },
  {
   "cell_type": "code",
   "execution_count": 1432,
   "metadata": {},
   "outputs": [
    {
     "name": "stdout",
     "output_type": "stream",
     "text": [
      "L_2 error: 0.15074041926875908\n"
     ]
    }
   ],
   "source": [
    "L_2 = sp.sqrt(sp.integrate((f - poly) ** 2, (x, -np.pi / 2, np.pi / 2)))\n",
    "print(f\"L_2 error: {float(sp.Abs(L_2))}\")"
   ]
  },
  {
   "cell_type": "code",
   "execution_count": 1433,
   "metadata": {},
   "outputs": [
    {
     "data": {
      "image/png": "[encoded data removed]",
      "text/plain": [
       "<Figure size 640x480 with 1 Axes>"
      ]
     },
     "metadata": {},
     "output_type": "display_data"
    }
   ],
   "source": [
    "# Graph the function f(x) = sin(x) - 0.5 and the polynomial approximation\n",
    "x_point = np.linspace(interval_numerical[0], interval_numerical[1], 100)\n",
    "y = np.sin(x_point) - 0.5\n",
    "p = sp.lambdify(x, poly, \"numpy\")\n",
    "y_poly = p(x_point)\n",
    "\n",
    "plt.plot(x_point, y, label=\"f(x) = sin(x) - 0.5\")\n",
    "plt.plot(x_point, y_poly, label=f\"Legendre of order {n}\")\n",
    "plt.xlabel(\"x\")\n",
    "plt.ylabel(\"y\")\n",
    "plt.title(\n",
    "    f\"f(x) = sin(x) - 0.5 and Legendre of order {n} with error {float(sp.Abs(L_2))}\"\n",
    ")\n",
    "plt.legend()\n",
    "plt.grid()\n",
    "plt.savefig(f\"../figs/Q1_d_poly_{n}.png\")\n",
    "plt.show()"
   ]
  },
  {
   "cell_type": "markdown",
   "metadata": {},
   "source": [
    "Terminology: Suppose an approximation has error function e(x), with x in interval [a, b]. The L∞ error is ||e(x)||∞ =max a≤x≤b |e(x)| and the L2 error is ||e(x)||2 = √∫ b a |e(x)|2dx.\n",
    "\n",
    "For your code submission, submit any code you used.\n",
    "\n",
    "In your pdf, please show all your hand derivations and code results, and replicate any code you would like the TAs to see."
   ]
  }
 ],
 "metadata": {
  "kernelspec": {
   "display_name": "16811-hw",
   "language": "python",
   "name": "python3"
  },
  "language_info": {
   "codemirror_mode": {
    "name": "ipython",
    "version": 3
   },
   "file_extension": ".py",
   "mimetype": "text/x-python",
   "name": "python",
   "nbconvert_exporter": "python",
   "pygments_lexer": "ipython3",
   "version": "3.12.5"
  }
 },
 "nbformat": 4,
 "nbformat_minor": 2
}
