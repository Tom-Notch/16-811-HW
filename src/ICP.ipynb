{
 "cells": [
  {
   "cell_type": "code",
   "execution_count": 67,
   "metadata": {},
   "outputs": [],
   "source": [
    "import numpy as np"
   ]
  },
  {
   "cell_type": "markdown",
   "metadata": {},
   "source": [
    "# Question 5\n",
    "The following problem arises in a large number of robotics and vision problems: Suppose p1, ..., pn are the 3D coordinates of n points located on a rigid body in three-space. Suppose further that q1, ..., qn are the 3D coordinates of these same points after the body has been translated and rotated by some unknown amount. Derive an algorithm in which SVD plays a central role for inferring the body’s translation and rotation. (You may assume that the coordinate values are precise\n",
    "not noisy, but see comment and caution below.)\n",
    "\n",
    "Show (in your pdf) that your algorithm works correctly by running it on some examples.\n",
    "\n",
    "Comment: This problem requires some thought. There are different approaches. Although you can ﬁnd a solution on the web or in a vision text book, try to solve the problem yourself before looking at any such sources. Spend some time on the problem. It is good practice to develop your analytic skills. Feel free to discuss among yourselves. (As always, cite any sources, including discussions with others.)\n",
    "\n",
    "Requirement: Your algorithm should make use of all the information available. True, in principle you only need three pairs of points – but if you use more points your solution will be more robust, something that might come in handy some day when you need to do this for real with noisy data.\n",
    "\n",
    "Caution: A common mistake is to derive an algorithm that finds the best affine transformation, rather than the best rigid body transformation. Even though you may assume precise coordinate values, imagine how your algorithm would behave with noise. Your algorithm should still produce a rigid body transformation.\n",
    "\n",
    "Hint: Suppose for a moment that both sets of points have the origin as centroid. Assemble all the points pi into a matrix P and all the points qi into another matrix Q. Now think about the relationship between P and Q. You may wish to ﬁnd a rigid body transformation that minimizes the sum of squared distances between the points qi and the result of applying the rigid body transformation to the points pi.\n",
    "\n",
    "You may ﬁnd the following facts useful (assuming the dimensions are sensible):\n",
    "\n",
    "‖x‖2 = xT x, xT RT y = T r(RxyT ).\n",
    "\n",
    "[Here x and y are column vectors (e.g., 3D vectors) and R is a matrix (e.g., a 3 x 3 rotation matrix). The superscript T means transpose, so xT x is a number and xyT is a matrix. Also, Tr is the trace operator that adds up the diagonal elements of its square matrix argument.]\n",
    "\n",
    "You will have more complicated expressions for x and y, involving the points pi and qi."
   ]
  },
  {
   "cell_type": "code",
   "execution_count": 68,
   "metadata": {},
   "outputs": [],
   "source": [
    "def generate_random_points(n: int) -> np.ndarray:\n",
    "    \"\"\"Generate random points in 3D space.\n",
    "\n",
    "    Args:\n",
    "        n (int): number of points to generate\n",
    "\n",
    "    Returns:\n",
    "        np.ndarray: 3 x n array of random points, where each column is a point\n",
    "    \"\"\"\n",
    "    return np.random.rand(3, n)"
   ]
  },
  {
   "cell_type": "code",
   "execution_count": 69,
   "metadata": {},
   "outputs": [],
   "source": [
    "def generate_random_rigid_body_transformation():\n",
    "    \"\"\"Generate a random rigid body transformation.\n",
    "\n",
    "    Returns:\n",
    "        R: 3 x 3 array representing the rotation matrix\n",
    "        t: 3 x 1 array representing the translation vector\n",
    "    \"\"\"\n",
    "    # Generate a random rotation matrix\n",
    "    # Step 1: Generate a random axis (a unit vector)\n",
    "    axis = np.random.randn(3)\n",
    "    axis = axis / np.linalg.norm(axis)  # Normalize the vector to make it a unit vector\n",
    "\n",
    "    # Step 2: Generate a random angle between 0 and 2π\n",
    "    angle = np.random.uniform(0, 2 * np.pi)\n",
    "\n",
    "    # Step 3: Use Rodrigues' rotation formula to construct the rotation matrix\n",
    "    K = np.array(\n",
    "        [[0, -axis[2], axis[1]], [axis[2], 0, -axis[0]], [-axis[1], axis[0], 0]]\n",
    "    )  # Cross-product matrix of the axis\n",
    "\n",
    "    I = np.eye(3)\n",
    "    R = I + np.sin(angle) * K + (1 - np.cos(angle)) * (K @ K)\n",
    "\n",
    "    assert np.allclose(\n",
    "        np.linalg.det(R), 1\n",
    "    ), \"The generated matrix is not a rotation matrix\"\n",
    "\n",
    "    # Generate a random translation vector\n",
    "    t = np.random.rand(3, 1)\n",
    "\n",
    "    return R, t"
   ]
  },
  {
   "cell_type": "code",
   "execution_count": 70,
   "metadata": {},
   "outputs": [],
   "source": [
    "def ICP(P: np.ndarray, Q: np.ndarray):\n",
    "    \"\"\"point-to-point iterative closest point algorithm with aligned point indexes\n",
    "\n",
    "    Args:\n",
    "        P (np.ndarray): source point cloud\n",
    "        Q (np.ndarray): target point cloud\n",
    "    \"\"\"\n",
    "    P = P.copy()\n",
    "    Q = Q.copy()\n",
    "\n",
    "    assert P.shape[0] == 3 and Q.shape[0] == 3, \"Input point clouds must be 3D\"\n",
    "    assert (\n",
    "        P.shape[1] == Q.shape[1]\n",
    "    ), \"Input point clouds must have the same number of points\"\n",
    "\n",
    "    # Center the point clouds\n",
    "    P_centered = P - np.mean(P, axis=1, keepdims=True)\n",
    "    Q_centered = Q - np.mean(Q, axis=1, keepdims=True)\n",
    "\n",
    "    U, _, Vt = np.linalg.svd(P_centered @ Q_centered.T)\n",
    "\n",
    "    if np.linalg.det(U @ Vt) < 0:\n",
    "        Vt[-1] *= -1\n",
    "\n",
    "    R = Vt.T @ U.T\n",
    "    t = np.mean(Q, axis=1, keepdims=True) - R @ np.mean(P, axis=1, keepdims=True)\n",
    "\n",
    "    return R, t"
   ]
  },
  {
   "cell_type": "code",
   "execution_count": 71,
   "metadata": {},
   "outputs": [
    {
     "name": "stdout",
     "output_type": "stream",
     "text": [
      "R =\n",
      " [[ 0.78760427  0.53794562  0.30048965]\n",
      " [-0.53690088  0.83842385 -0.09371707]\n",
      " [-0.30235237 -0.0875212   0.94916968]] \n",
      "t =\n",
      " [[0.16885856]\n",
      " [0.39316203]\n",
      " [0.61804859]]\n"
     ]
    }
   ],
   "source": [
    "P = generate_random_points(100)\n",
    "R, t = generate_random_rigid_body_transformation()\n",
    "print(\"R =\\n\", R, \"\\nt =\\n\", t)\n",
    "Q = R @ P + t"
   ]
  },
  {
   "cell_type": "code",
   "execution_count": 72,
   "metadata": {},
   "outputs": [
    {
     "name": "stdout",
     "output_type": "stream",
     "text": [
      "R_ICP =\n",
      " [[ 0.78760427  0.53794562  0.30048965]\n",
      " [-0.53690088  0.83842385 -0.09371707]\n",
      " [-0.30235237 -0.0875212   0.94916968]] \n",
      "t_ICP =\n",
      " [[0.16885856]\n",
      " [0.39316203]\n",
      " [0.61804859]]\n"
     ]
    }
   ],
   "source": [
    "R_ICP, t_ICP = ICP(P, Q)\n",
    "print(\"R_ICP =\\n\", R_ICP, \"\\nt_ICP =\\n\", t_ICP)"
   ]
  },
  {
   "cell_type": "code",
   "execution_count": 73,
   "metadata": {},
   "outputs": [],
   "source": [
    "assert np.allclose(R, R_ICP, atol=1e-3), \"The rotation matrix is not correct\"\n",
    "assert np.allclose(t, t_ICP, atol=1e-3), \"The translation vector is not correct\""
   ]
  }
 ],
 "metadata": {
  "kernelspec": {
   "display_name": "16811-hw1",
   "language": "python",
   "name": "python3"
  },
  "language_info": {
   "codemirror_mode": {
    "name": "ipython",
    "version": 3
   },
   "file_extension": ".py",
   "mimetype": "text/x-python",
   "name": "python",
   "nbconvert_exporter": "python",
   "pygments_lexer": "ipython3",
   "version": "3.12.5"
  }
 },
 "nbformat": 4,
 "nbformat_minor": 2
}
