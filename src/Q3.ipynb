{
 "cells": [
  {
   "cell_type": "code",
   "execution_count": 1,
   "metadata": {},
   "outputs": [],
   "source": [
    "import numpy as np\n",
    "import sympy as sp\n",
    "from scipy import optimize\n",
    "import matplotlib.pyplot as plt"
   ]
  },
  {
   "cell_type": "code",
   "execution_count": 6,
   "metadata": {},
   "outputs": [
    {
     "name": "stdout",
     "output_type": "stream",
     "text": [
      "          -0.5                                       \n",
      "  ⎛     2⎞     ⎛     8        6        4       2    ⎞\n",
      "x⋅⎝1 - x ⎠    ⋅⎝128⋅x  - 288⋅x  + 216⋅x  - 60⋅x  + 5⎠\n"
     ]
    }
   ],
   "source": [
    "x = sp.symbols(\"x\", real=True)\n",
    "\n",
    "f = (1 - x**2) ** (-1 / 2) * (8 * x**4 - 8 * x**2 + 1) * (16 * x**5 - 20 * x**3 + 5 * x)\n",
    "f = f.simplify()\n",
    "\n",
    "sp.pprint(f)"
   ]
  }
 ],
 "metadata": {
  "kernelspec": {
   "display_name": "16811-hw",
   "language": "python",
   "name": "python3"
  },
  "language_info": {
   "codemirror_mode": {
    "name": "ipython",
    "version": 3
   },
   "file_extension": ".py",
   "mimetype": "text/x-python",
   "name": "python",
   "nbconvert_exporter": "python",
   "pygments_lexer": "ipython3",
   "version": "3.12.5"
  }
 },
 "nbformat": 4,
 "nbformat_minor": 2
}
