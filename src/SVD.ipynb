{
 "cells": [
  {
   "cell_type": "code",
   "execution_count": 21,
   "metadata": {},
   "outputs": [],
   "source": [
    "import numpy as np"
   ]
  },
  {
   "cell_type": "markdown",
   "metadata": {},
   "source": [
    "# Question 2\n",
    "Compute the PA = LDU decomposition and the SVD decomposition for each of the following matrices: (In fact, here it is enough to let P be an identity matrix, so A = LDU.)\n",
    "\n",
    "You may use any method or tools you wish to solve this problem, including pre-defined routines from MatLab or Python,\n",
    "your code, and/or hand calculations. (Hand calculations may be easiest for computing the P A = LDU decompositions\n",
    "of these examples. We recommend using pre-defined code to compute the SVD decompositions.)\n",
    "Show how you obtained your solutions, that is, show your work, including intermediate steps."
   ]
  },
  {
   "cell_type": "code",
   "execution_count": 22,
   "metadata": {},
   "outputs": [],
   "source": [
    "A1 = np.array([[10, -10, 0], [0, -4, 2], [2, 0, -5]])\n",
    "A2 = np.array([[5, -5, 0, 0], [5, 5, 5, 0], [0, -1, 4, 1], [0, 4, -1, 2], [0, 0, 2, 1]])\n",
    "A3 = np.array([[1, 1, 1], [10, 2, 9], [8, 0, 7]])"
   ]
  },
  {
   "cell_type": "code",
   "execution_count": 23,
   "metadata": {},
   "outputs": [
    {
     "name": "stdout",
     "output_type": "stream",
     "text": [
      "U:\n",
      " [[-0.97502551  0.01928246 -0.22125424]\n",
      " [-0.19998937 -0.50949125  0.83691273]\n",
      " [-0.09658937  0.86025976  0.50062326]] \n",
      "Sigma:\n",
      " [14.49778417  5.94733738  1.85564877] \n",
      "Vt:\n",
      " [[-0.68585887  0.72771207  0.00572281]\n",
      " [ 0.3217144   0.31024647 -0.89456524]\n",
      " [-0.65276141 -0.61170439 -0.44690075]]\n"
     ]
    }
   ],
   "source": [
    "U1, Sigma1, Vt1 = np.linalg.svd(A1, full_matrices=True)\n",
    "print(\"U:\\n\", U1, \"\\nSigma:\\n\", Sigma1, \"\\nVt:\\n\", Vt1)"
   ]
  },
  {
   "cell_type": "code",
   "execution_count": 24,
   "metadata": {},
   "outputs": [
    {
     "name": "stdout",
     "output_type": "stream",
     "text": [
      "U:\n",
      " [[ 0.1126266   0.86708016  0.37480574 -0.30750061 -0.0212435 ]\n",
      " [-0.93215705  0.15225202  0.1626033   0.2846251   0.0212435 ]\n",
      " [-0.20196646  0.2257811  -0.74973268 -0.31691184 -0.4956816 ]\n",
      " [-0.2398716  -0.41225956  0.38334628 -0.77085017 -0.17702914]\n",
      " [-0.14166742  0.06368894 -0.35217519 -0.36026217  0.84973988]] \n",
      "Sigma:\n",
      " [9.14492811 7.79814769 4.42070712 2.23976139] \n",
      "Vt:\n",
      " [[-0.44807922 -0.65407164 -0.60275097 -0.09003647]\n",
      " [ 0.65357327 -0.69875055  0.28263403 -0.06861233]\n",
      " [ 0.60783153  0.27645026 -0.74051747 -0.07582844]\n",
      " [-0.05106685  0.08667875  0.09188657 -0.99067443]]\n"
     ]
    }
   ],
   "source": [
    "U2, Sigma2, Vt2 = np.linalg.svd(A2)\n",
    "print(\"U:\\n\", U2, \"\\nSigma:\\n\", Sigma2, \"\\nVt:\\n\", Vt2)"
   ]
  },
  {
   "cell_type": "code",
   "execution_count": 25,
   "metadata": {},
   "outputs": [
    {
     "name": "stdout",
     "output_type": "stream",
     "text": [
      "U:\n",
      " [[-0.08686637 -0.57077804 -0.81649658]\n",
      " [-0.78592384 -0.4643889   0.40824829]\n",
      " [-0.6121911   0.67716718 -0.40824829]] \n",
      "Sigma:\n",
      " [1.72832333e+01 1.51322343e+00 2.25035269e-15] \n",
      "Vt:\n",
      " [[-0.74312678 -0.09597244 -0.66223249]\n",
      " [ 0.1339329  -0.99096789 -0.0066797 ]\n",
      " [ 0.65561007  0.09365858 -0.74926865]]\n"
     ]
    }
   ],
   "source": [
    "U3, Sigma3, Vt3 = np.linalg.svd(A3)\n",
    "print(\"U:\\n\", U3, \"\\nSigma:\\n\", Sigma3, \"\\nVt:\\n\", Vt3)"
   ]
  },
  {
   "cell_type": "markdown",
   "metadata": {},
   "source": [
    "# Question 3\n",
    "Solve the systems of equations Ax = b for the values of A and b given below. For each system, specify whether the system has zero, one, or many exact solutions. If a system has zero exact solutions, give “the SVD solution” (as defined in class) and explain what this solution means. If a system has a unique exact solution, compute that solution. If a system has more than one exact solution, specify both “the SVD solution” and all solutions, using properties of the SVD decomposition of the matrix A, as discussed in class.\n",
    "Show your work, including verifying that your answers are correct.\n",
    "\n",
    "Parts (b) and (c) have the same A matrix but different b vectors. You will see that “the SVD solution” is the same for\n",
    "both parts. Explain why that makes sense. Your explanation should be based on the meaning of the columns of U that\n",
    "arose in A’s SVD decomposition."
   ]
  },
  {
   "cell_type": "code",
   "execution_count": 26,
   "metadata": {},
   "outputs": [],
   "source": [
    "def solve_systems_of_equations(A: np.ndarray, b: np.ndarray) -> np.ndarray:\n",
    "    \"\"\"Solve a system of equations of the form Ax = b for x.\n",
    "\n",
    "    Args:\n",
    "        A (np.ndarray): Input matrix A\n",
    "        b (np.ndarray): Target vector b\n",
    "\n",
    "    Returns:\n",
    "        np.ndarray: Solution vector x\n",
    "    \"\"\"\n",
    "\n",
    "    # copy A and b to avoid modifying the original matrices\n",
    "    A = A.copy()\n",
    "    b = b.copy()\n",
    "\n",
    "    # reshape b into a column vector\n",
    "    b = b.reshape(-1, 1)\n",
    "\n",
    "    # verify that b has the same number of rows as A\n",
    "    assert A.shape[0] == b.shape[0], \"A and b have different numbers of rows\"\n",
    "\n",
    "    # perform SVD on A\n",
    "    U, Sigma, Vt = np.linalg.svd(A)\n",
    "\n",
    "    # factor out extremely small singular values of Sigma\n",
    "    Sigma = Sigma[Sigma > 1e-10]\n",
    "\n",
    "    # construct the pseudo-inverse of A\n",
    "    M_sigma_inverse = np.zeros((U.shape[1], Vt.shape[0]))\n",
    "    for i in range(len(Sigma)):\n",
    "        M_sigma_inverse[i][i] = 1 / Sigma[i]\n",
    "    M_pseudo_inverse = Vt.T @ M_sigma_inverse @ U.T\n",
    "    print(\"pseudo inverse of matrix A:\\n\", M_pseudo_inverse)\n",
    "\n",
    "    # compute the \"solution\" to the system of equations\n",
    "    x = M_pseudo_inverse @ b\n",
    "    return x"
   ]
  },
  {
   "cell_type": "code",
   "execution_count": 27,
   "metadata": {},
   "outputs": [
    {
     "name": "stdout",
     "output_type": "stream",
     "text": [
      "pseudo inverse of matrix A:\n",
      " [[ 0.125  -0.3125 -0.125 ]\n",
      " [ 0.025  -0.3125 -0.125 ]\n",
      " [ 0.05   -0.125  -0.25  ]]\n"
     ]
    },
    {
     "data": {
      "text/plain": [
       "array([[-1.],\n",
       "       [-2.],\n",
       "       [-3.]])"
      ]
     },
     "execution_count": 27,
     "metadata": {},
     "output_type": "execute_result"
    }
   ],
   "source": [
    "solve_systems_of_equations(A1, np.array([10, 2, 13]))"
   ]
  },
  {
   "cell_type": "code",
   "execution_count": 28,
   "metadata": {},
   "outputs": [
    {
     "name": "stdout",
     "output_type": "stream",
     "text": [
      "pseudo inverse of matrix A:\n",
      " [[-0.04678363 -0.00730994  0.08625731]\n",
      " [ 0.37426901  0.30847953 -0.44005848]\n",
      " [ 0.00584795  0.03216374  0.02046784]]\n"
     ]
    }
   ],
   "source": [
    "x_bar = solve_systems_of_equations(A3, np.array([1, 3, 1]))"
   ]
  },
  {
   "cell_type": "code",
   "execution_count": 29,
   "metadata": {},
   "outputs": [
    {
     "data": {
      "text/plain": [
       "array([[1.],\n",
       "       [3.],\n",
       "       [1.]])"
      ]
     },
     "execution_count": 29,
     "metadata": {},
     "output_type": "execute_result"
    }
   ],
   "source": [
    "x_bar\n",
    "A3 @ x_bar"
   ]
  },
  {
   "cell_type": "code",
   "execution_count": 30,
   "metadata": {},
   "outputs": [
    {
     "name": "stdout",
     "output_type": "stream",
     "text": [
      "pseudo inverse of matrix A:\n",
      " [[-0.04678363 -0.00730994  0.08625731]\n",
      " [ 0.37426901  0.30847953 -0.44005848]\n",
      " [ 0.00584795  0.03216374  0.02046784]]\n"
     ]
    }
   ],
   "source": [
    "x_bar = solve_systems_of_equations(A3, np.array([3, 2, 2]))"
   ]
  },
  {
   "cell_type": "code",
   "execution_count": 31,
   "metadata": {},
   "outputs": [
    {
     "data": {
      "text/plain": [
       "array([[1.],\n",
       "       [3.],\n",
       "       [1.]])"
      ]
     },
     "execution_count": 31,
     "metadata": {},
     "output_type": "execute_result"
    }
   ],
   "source": [
    "x_bar\n",
    "A3 @ x_bar"
   ]
  }
 ],
 "metadata": {
  "kernelspec": {
   "display_name": "16811-hw1",
   "language": "python",
   "name": "python3"
  },
  "language_info": {
   "codemirror_mode": {
    "name": "ipython",
    "version": 3
   },
   "file_extension": ".py",
   "mimetype": "text/x-python",
   "name": "python",
   "nbconvert_exporter": "python",
   "pygments_lexer": "ipython3",
   "version": "3.12.5"
  }
 },
 "nbformat": 4,
 "nbformat_minor": 2
}
